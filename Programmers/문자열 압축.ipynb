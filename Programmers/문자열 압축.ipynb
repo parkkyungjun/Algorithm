{
 "cells": [
  {
   "cell_type": "markdown",
   "id": "economic-combining",
   "metadata": {},
   "source": [
    "https://programmers.co.kr/learn/courses/30/lessons/60057"
   ]
  },
  {
   "cell_type": "code",
   "execution_count": 44,
   "id": "written-flesh",
   "metadata": {},
   "outputs": [
    {
     "data": {
      "text/plain": [
       "1"
      ]
     },
     "execution_count": 44,
     "metadata": {},
     "output_type": "execute_result"
    }
   ],
   "source": [
    "def solution(s):\n",
    "    result = []\n",
    "    if len(s) == 1:\n",
    "        return 1\n",
    "    for i in range(1,int(len(s)/2+1)):\n",
    "        answer = ''\n",
    "        k = 1\n",
    "        for j in range(len(s)//i):\n",
    "            if j == len(s)//i -1:\n",
    "                if k == 1:\n",
    "                    answer += s[i*j:i*(1+j)]\n",
    "                else:\n",
    "                    answer += str(k) + s[i*j:i*(1+j)]\n",
    "            elif s[i*j:i*(1+j)] == s[i*(j+1):i*(2+j)]:\n",
    "                k += 1\n",
    "            else:\n",
    "                if k == 1:\n",
    "                    answer += s[i*j:i*(1+j)]\n",
    "                else:\n",
    "                    answer += str(k) + s[i*j:i*(1+j)]\n",
    "                    k = 1\n",
    "        if len(s)%i !=0:\n",
    "            answer += s[(len(s)//i)*i:(len(s)//i)*i+len(s)%i]\n",
    "        result.append(len(answer))\n",
    "    return min(result)\n",
    "solution('a')"
   ]
  }
 ],
 "metadata": {
  "kernelspec": {
   "display_name": "Python 3",
   "language": "python",
   "name": "python3"
  },
  "language_info": {
   "codemirror_mode": {
    "name": "ipython",
    "version": 3
   },
   "file_extension": ".py",
   "mimetype": "text/x-python",
   "name": "python",
   "nbconvert_exporter": "python",
   "pygments_lexer": "ipython3",
   "version": "3.7.9"
  }
 },
 "nbformat": 4,
 "nbformat_minor": 5
}
