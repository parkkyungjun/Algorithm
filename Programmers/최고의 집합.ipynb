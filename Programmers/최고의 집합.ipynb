{
 "cells": [
  {
   "cell_type": "markdown",
   "id": "official-charter",
   "metadata": {},
   "source": [
    "https://programmers.co.kr/learn/courses/30/lessons/12938"
   ]
  },
  {
   "cell_type": "code",
   "execution_count": null,
   "id": "three-struggle",
   "metadata": {},
   "outputs": [],
   "source": [
    "def solution(n, s):\n",
    "    if  n > s: return [-1]\n",
    "    return [s//n for i in range(n-(s - s//n * n))] + [s//n + 1 for i in range(s - s//n * n)]"
   ]
  }
 ],
 "metadata": {
  "kernelspec": {
   "display_name": "Python 3",
   "language": "python",
   "name": "python3"
  },
  "language_info": {
   "codemirror_mode": {
    "name": "ipython",
    "version": 3
   },
   "file_extension": ".py",
   "mimetype": "text/x-python",
   "name": "python",
   "nbconvert_exporter": "python",
   "pygments_lexer": "ipython3",
   "version": "3.7.9"
  }
 },
 "nbformat": 4,
 "nbformat_minor": 5
}
