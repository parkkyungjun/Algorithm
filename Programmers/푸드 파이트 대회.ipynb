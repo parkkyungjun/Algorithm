{
 "cells": [
  {
   "cell_type": "markdown",
   "id": "2ebed453",
   "metadata": {},
   "source": [
    "https://school.programmers.co.kr/learn/courses/30/lessons/134240"
   ]
  },
  {
   "cell_type": "code",
   "execution_count": null,
   "id": "99fb5117",
   "metadata": {},
   "outputs": [],
   "source": [
    "def solution(food):\n",
    "    food = [i//2 for i in  food[1:]]\n",
    "    left, right = '', ''\n",
    "    for index, i in enumerate(food):\n",
    "        left, right = left + str(index+1)*i, str(index+1)*i + right\n",
    "    return left+'0'+right"
   ]
  }
 ],
 "metadata": {
  "kernelspec": {
   "display_name": "Python 3 (ipykernel)",
   "language": "python",
   "name": "python3"
  },
  "language_info": {
   "codemirror_mode": {
    "name": "ipython",
    "version": 3
   },
   "file_extension": ".py",
   "mimetype": "text/x-python",
   "name": "python",
   "nbconvert_exporter": "python",
   "pygments_lexer": "ipython3",
   "version": "3.9.12"
  }
 },
 "nbformat": 4,
 "nbformat_minor": 5
}
