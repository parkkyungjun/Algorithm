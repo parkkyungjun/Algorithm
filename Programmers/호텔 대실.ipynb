{
 "cells": [
  {
   "cell_type": "markdown",
   "metadata": {},
   "source": [
    "https://school.programmers.co.kr/learn/courses/30/lessons/155651"
   ]
  },
  {
   "cell_type": "code",
   "execution_count": 18,
   "metadata": {},
   "outputs": [],
   "source": [
    "from heapq import heappush, heappop\n",
    "def solution(book_time):\n",
    "    book_time = sorted([[int(s[:2])*60+int(s[3:]),int(e[:2])*60+int(e[3:])] for s,e in book_time], key=lambda x:x[0])\n",
    "    cnt, e = 0, []\n",
    "    for t in book_time:\n",
    "        if len(e) == 0:\n",
    "            cnt += 1\n",
    "        elif e[0] <= t[0]:\n",
    "            heappop(e)\n",
    "        else:\n",
    "            cnt += 1\n",
    "        heappush(e, t[1]+10)\n",
    "    return cnt"
   ]
  }
 ],
 "metadata": {
  "kernelspec": {
   "display_name": "Python 3.11.1 64-bit",
   "language": "python",
   "name": "python3"
  },
  "language_info": {
   "codemirror_mode": {
    "name": "ipython",
    "version": 3
   },
   "file_extension": ".py",
   "mimetype": "text/x-python",
   "name": "python",
   "nbconvert_exporter": "python",
   "pygments_lexer": "ipython3",
   "version": "3.11.1"
  },
  "orig_nbformat": 4,
  "vscode": {
   "interpreter": {
    "hash": "5c7b89af1651d0b8571dde13640ecdccf7d5a6204171d6ab33e7c296e100e08a"
   }
  }
 },
 "nbformat": 4,
 "nbformat_minor": 2
}
