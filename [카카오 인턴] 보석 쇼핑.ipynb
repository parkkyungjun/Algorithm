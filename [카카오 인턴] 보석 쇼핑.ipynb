{
 "cells": [
  {
   "cell_type": "code",
   "execution_count": 76,
   "id": "2c28087a",
   "metadata": {},
   "outputs": [
    {
     "name": "stdout",
     "output_type": "stream",
     "text": [
      "{'DIA': 1, 'RUBY': 1} [0, 7]\n",
      "{'DIA': 1, 'RUBY': 2} [0, 7]\n",
      "{'DIA': 2, 'RUBY': 2} [0, 7]\n",
      "{'DIA': 3, 'RUBY': 2} [0, 7]\n",
      "{'DIA': 3, 'RUBY': 2, 'EMERALD': 1} [0, 7]\n",
      "{'DIA': 3, 'RUBY': 2, 'EMERALD': 1, 'SAPPHIRE': 1} [0, 7]\n",
      "{'DIA': 2, 'RUBY': 2, 'EMERALD': 1, 'SAPPHIRE': 1} [0, 6]\n",
      "{'DIA': 2, 'RUBY': 1, 'EMERALD': 1, 'SAPPHIRE': 1} [1, 6]\n",
      "{'DIA': 2, 'EMERALD': 1, 'SAPPHIRE': 1} [2, 6]\n",
      "{'DIA': 3, 'EMERALD': 1, 'SAPPHIRE': 1} [2, 6]\n"
     ]
    },
    {
     "data": {
      "text/plain": [
       "[3, 7]"
      ]
     },
     "execution_count": 76,
     "metadata": {},
     "output_type": "execute_result"
    }
   ],
   "source": [
    "def solution(gems):\n",
    "    All = len(gems)\n",
    "    s, e = 0, 0\n",
    "    N = len(set(gems))\n",
    "    dic = {gems[0]: 1}\n",
    "    answer = [0, All-1]\n",
    "    while s < All and e < All:\n",
    "        if len(dic) < N:\n",
    "            e += 1\n",
    "            if e == All:\n",
    "                break\n",
    "            dic[gems[e]] = dic.get(gems[e], 0) + 1\n",
    "        else:\n",
    "            if (e-s+1) < (answer[1]-answer[0]+1):\n",
    "                answer = [s,e]\n",
    "            if dic[gems[s]] == 1:\n",
    "                del dic[gems[s]]\n",
    "            else:\n",
    "                dic[gems[s]] -= 1\n",
    "            s += 1\n",
    "    return [i+1 for i in answer]\n",
    "\n",
    "        \n",
    "gems = [\"DIA\", \"RUBY\", \"RUBY\", \"DIA\", \"DIA\", \"EMERALD\", \"SAPPHIRE\", \"DIA\"]\n",
    "#gems = [\"AA\", \"AB\", \"AC\", \"AA\", \"AC\"]\n",
    "#gems = [\"XYZ\", \"XYZ\", \"XYZ\"]\n",
    "#gems = [\"ZZZ\", \"YYY\", \"NNNN\", \"YYY\", \"BBB\"]\n",
    "solution(gems)"
   ]
  }
 ],
 "metadata": {
  "kernelspec": {
   "display_name": "Python 3 (ipykernel)",
   "language": "python",
   "name": "python3"
  },
  "language_info": {
   "codemirror_mode": {
    "name": "ipython",
    "version": 3
   },
   "file_extension": ".py",
   "mimetype": "text/x-python",
   "name": "python",
   "nbconvert_exporter": "python",
   "pygments_lexer": "ipython3",
   "version": "3.9.7"
  }
 },
 "nbformat": 4,
 "nbformat_minor": 5
}
