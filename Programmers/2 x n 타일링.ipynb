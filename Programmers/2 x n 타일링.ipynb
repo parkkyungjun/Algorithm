{
 "cells": [
  {
   "cell_type": "markdown",
   "id": "interim-crown",
   "metadata": {},
   "source": [
    "https://programmers.co.kr/learn/courses/30/lessons/12900"
   ]
  },
  {
   "cell_type": "code",
   "execution_count": 62,
   "id": "controlling-custom",
   "metadata": {},
   "outputs": [
    {
     "data": {
      "text/plain": [
       "89"
      ]
     },
     "execution_count": 62,
     "metadata": {},
     "output_type": "execute_result"
    }
   ],
   "source": [
    "def solution(n):\n",
    "    a,b = 1,2\n",
    "    for i in range(n-2):\n",
    "        c = a+b\n",
    "        a,b = b,c\n",
    "    return c\n",
    "solution(10)"
   ]
  }
 ],
 "metadata": {
  "kernelspec": {
   "display_name": "Python 3",
   "language": "python",
   "name": "python3"
  },
  "language_info": {
   "codemirror_mode": {
    "name": "ipython",
    "version": 3
   },
   "file_extension": ".py",
   "mimetype": "text/x-python",
   "name": "python",
   "nbconvert_exporter": "python",
   "pygments_lexer": "ipython3",
   "version": "3.7.9"
  }
 },
 "nbformat": 4,
 "nbformat_minor": 5
}
