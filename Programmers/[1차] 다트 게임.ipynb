{
 "cells": [
  {
   "cell_type": "markdown",
   "id": "adaptive-contract",
   "metadata": {},
   "source": [
    "https://programmers.co.kr/learn/courses/30/lessons/17682"
   ]
  },
  {
   "cell_type": "code",
   "execution_count": 183,
   "id": "impaired-thought",
   "metadata": {},
   "outputs": [
    {
     "data": {
      "text/plain": [
       "[1, 4, 54.0]"
      ]
     },
     "execution_count": 183,
     "metadata": {},
     "output_type": "execute_result"
    }
   ],
   "source": [
    "import re\n",
    "def solution(dartResult):\n",
    "    n = re.findall('\\d+',dartResult)\n",
    "    n = [int(i) for i in n]\n",
    "    A = [\"S\",\"D\",\"T\"]\n",
    "    B = ['*','#']\n",
    "    a = []\n",
    "    k = 0\n",
    "    q = 0\n",
    "    for i in range(len(dartResult)):\n",
    "        if dartResult[i] in A:\n",
    "            a.append(dartResult[k:i+1])\n",
    "            k = i+1\n",
    "    if dartResult[len(dartResult)-1] in B:\n",
    "        a[2] = a[2]+(dartResult[len(dartResult)-1])\n",
    "    for i in range(3):\n",
    "        for j in range(len(a[i])-1,-1,-1):\n",
    "\n",
    "            if a[i][j] == \"D\":\n",
    "                if q == 1:\n",
    "                    if n[i] < 0:\n",
    "                        n[i] = (n[i]/2)**2 * -2\n",
    "                    else:\n",
    "                        n[i] = (n[i]/2)**2 * 2\n",
    "                else:\n",
    "                    if n[i] < 0:\n",
    "                        n[i] = n[i]**2 * -1\n",
    "                    else:\n",
    "                        n[i] = n[i]**2\n",
    "            elif a[i][j] == \"T\":\n",
    "                if q == 1:\n",
    "                    n[i] = (n[i]/2)**3 * 2\n",
    "                else:\n",
    "                    n[i] = n[i]**3\n",
    "            elif a[i][j] == \"*\":\n",
    "                if i+j == 1+len(a[2]):\n",
    "                    q = 1\n",
    "                    n[i] = n[i] * 2\n",
    "                    n[i-1] = n[i-1] *2\n",
    "                else:\n",
    "                    n[i-1] = n[i-1] * 2\n",
    "                    if i-1 != 0: \n",
    "                        n[i-2] = n[i-2] *2\n",
    "            elif a[i][j] == \"#\":                \n",
    "                if i+j == 1+len(a[2]):\n",
    "                    n[i] = n[i] * -1\n",
    "                else:\n",
    "                    n[i-1] = n[i-1] * -1\n",
    "    return n\n",
    "solution(\"1D2S3T*\")"
   ]
  },
  {
   "cell_type": "code",
   "execution_count": 204,
   "id": "thorough-rings",
   "metadata": {},
   "outputs": [
    {
     "name": "stdout",
     "output_type": "stream",
     "text": [
      "re.compile('(\\\\d+)([SDT])([*#]?)')\n",
      "[2, ('2', 'S', '*'), ('3', 'T', '*')]\n",
      "[2, 8, ('3', 'T', '*')]\n"
     ]
    },
    {
     "data": {
      "text/plain": [
       "64"
      ]
     },
     "execution_count": 204,
     "metadata": {},
     "output_type": "execute_result"
    }
   ],
   "source": [
    "import re\n",
    "def solution(dartResult):\n",
    "    bonus = {'S' : 1, 'D' : 2, 'T' : 3}\n",
    "    option = {'' : 1, '*' : 2, '#' : -1}\n",
    "    p = re.compile('(\\d+)([SDT])([*#]?)')\n",
    "    dart = p.findall(dartResult)\n",
    "    for i in range(len(dart)):\n",
    "        if dart[i][2] == '*' and i > 0:\n",
    "            dart[i-1] *= 2\n",
    "            print(dart)\n",
    "        dart[i] = int(dart[i][0]) ** bonus[dart[i][1]] * option[dart[i][2]]\n",
    "    answer = sum(dart)\n",
    "    return answer\n",
    "solution(\"1D2S*3T*\")"
   ]
  }
 ],
 "metadata": {
  "kernelspec": {
   "display_name": "Python 3",
   "language": "python",
   "name": "python3"
  },
  "language_info": {
   "codemirror_mode": {
    "name": "ipython",
    "version": 3
   },
   "file_extension": ".py",
   "mimetype": "text/x-python",
   "name": "python",
   "nbconvert_exporter": "python",
   "pygments_lexer": "ipython3",
   "version": "3.7.9"
  }
 },
 "nbformat": 4,
 "nbformat_minor": 5
}
