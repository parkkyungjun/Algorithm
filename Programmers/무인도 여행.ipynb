{
 "cells": [
  {
   "cell_type": "markdown",
   "metadata": {},
   "source": [
    "https://school.programmers.co.kr/learn/courses/30/lessons/154540"
   ]
  },
  {
   "cell_type": "code",
   "execution_count": 26,
   "metadata": {},
   "outputs": [
    {
     "data": {
      "text/plain": [
       "[1, 1, 27]"
      ]
     },
     "execution_count": 26,
     "metadata": {},
     "output_type": "execute_result"
    }
   ],
   "source": [
    "from collections import deque\n",
    "def solution(maps):\n",
    "    my, mx = len(maps), len(maps[0])\n",
    "    move, answer = [[1,0],[0,1],[-1,0],[0,-1]], [-1]\n",
    "    visited = [[-1 if maps[j][i] != 'X' else 0 for i in range(mx)] for j in range(my)]\n",
    "    q = deque([])\n",
    "    for i in range(my):\n",
    "        for j in range(mx):\n",
    "            if visited[i][j] == -1:\n",
    "                q.append([i,j])\n",
    "                s = int(maps[i][j])\n",
    "                visited[i][j] = 0\n",
    "                while q:\n",
    "                    n = q.popleft()\n",
    "                    for m in move:\n",
    "                        y, x = n[0]+m[0], n[1]+m[1]\n",
    "                        if 0 <= y < my and 0 <= x < mx:\n",
    "                            if visited[y][x] == -1:\n",
    "                                s += int(maps[y][x])\n",
    "                                visited[y][x] = 0\n",
    "                                q.append([y,x])\n",
    "                answer.append(s)\n",
    "                    \n",
    "    return answer if len(answer) == 1 else sorted(answer[1:])\n",
    "solution([\"X591X\",\"X1X5X\",\"X231X\", \"1XXX1\"])"
   ]
  },
  {
   "cell_type": "code",
   "execution_count": 174,
   "metadata": {},
   "outputs": [
    {
     "data": {
      "text/plain": [
       "([[0, 0, 0, 0, 0],\n",
       "  [0, 0, 0, 0, 0],\n",
       "  [2, 2, 0, 0, 0],\n",
       "  [1, 0, 1, 0, 0],\n",
       "  [2, 1, 2, 2, 2],\n",
       "  [2, 1, 2, 2, 2]],\n",
       " [0, 0, 0, 0, 0],\n",
       " [0, 0, 0, 0, 0],\n",
       " [2, 2, 0, 0, 0],\n",
       " [1, 0, 1, 0, 0],\n",
       " [2, 1, 2, 2, 2],\n",
       " [2, 1, 2, 2, 2])"
      ]
     },
     "execution_count": 174,
     "metadata": {},
     "output_type": "execute_result"
    }
   ],
   "source": [
    "a = [[0,0,0,0,0], [0,0,0,0,0], [2,2,0,0,0],[1,0,1,0,0],[2,1,2,2,2],[2,1,2,2,2]]\n",
    "a, *a"
   ]
  },
  {
   "cell_type": "code",
   "execution_count": 34,
   "metadata": {},
   "outputs": [
    {
     "name": "stdout",
     "output_type": "stream",
     "text": [
      "[[2, 2, 1, 2, 0, 0], [1, 1, 0, 2, 0, 0], [2, 2, 1, 0, 0, 0], [2, 2, 0, 0, 0, 0], [2, 2, 0, 0, 0, 0]]\n",
      "-1 2 3\n",
      "2 1 3\n",
      "-1 2 1\n",
      "-1 -1 1\n",
      "-1 -1 1\n"
     ]
    },
    {
     "data": {
      "text/plain": [
       "18"
      ]
     },
     "execution_count": 34,
     "metadata": {},
     "output_type": "execute_result"
    }
   ],
   "source": [
    "def solution(histogram):\n",
    "    histogram = list(zip(*histogram))\n",
    "    histogram = [list(reversed(hist)) for hist in histogram]\n",
    "    print(histogram)\n",
    "    answer = []\n",
    "    for rod in histogram:\n",
    "        bin, m, s, b = [], -1, -1, -1\n",
    "        for i, value in enumerate(rod):\n",
    "            if value == 1:\n",
    "                m = i\n",
    "            elif value == 2:\n",
    "                s = i\n",
    "            else:\n",
    "                bin.append(i)\n",
    "        for i in bin:\n",
    "            if (i > m and i < s) or (i > s and i < m):\n",
    "                b = i\n",
    "        if b == -1:\n",
    "            if m > s:\n",
    "                answer.append(1)\n",
    "            else:\n",
    "                answer.append(s-m+1)\n",
    "        else:\n",
    "            if b > m and s > b:\n",
    "                answer.append(1)\n",
    "            elif b > m and b > s:\n",
    "                answer.append(s-m+1)\n",
    "    result = 1\n",
    "    for i in answer:\n",
    "        result *= i\n",
    "    return result\n",
    "\n",
    "a = [[0,0,0,0,0], [0,0,0,0,0], [2,2,0,0,0],[1,0,1,0,0],[2,1,2,2,2],[2,1,2,2,2]]\n",
    "solution(a)"
   ]
  },
  {
   "cell_type": "code",
   "execution_count": 170,
   "metadata": {},
   "outputs": [
    {
     "data": {
      "text/plain": [
       "[(0, 0, 2, 1, 2, 2),\n",
       " (0, 0, 2, 0, 1, 1),\n",
       " (0, 0, 0, 1, 2, 2),\n",
       " (0, 0, 0, 0, 2, 2),\n",
       " (0, 0, 0, 0, 2, 2)]"
      ]
     },
     "execution_count": 170,
     "metadata": {},
     "output_type": "execute_result"
    }
   ],
   "source": [
    "list(zip(*[[0,0,0,0,0], [0,0,0,0,0], [2,2,0,0,0],[1,0,1,0,0],[2,1,2,2,2],[2,1,2,2,2]]))"
   ]
  },
  {
   "cell_type": "code",
   "execution_count": 58,
   "metadata": {},
   "outputs": [
    {
     "data": {
      "text/plain": [
       "[1, 0, 0]"
      ]
     },
     "execution_count": 58,
     "metadata": {},
     "output_type": "execute_result"
    }
   ],
   "source": [
    "from collections import deque\n",
    "def solution(queue):\n",
    "    q = {1:queue.count(1), 2:queue.count(2), 3:queue.count(3)}\n",
    "    queue = deque(queue)\n",
    "    cnt = [0,0,0]\n",
    "    for i in range(10):\n",
    "        if q[1] == q[2] and q[1] == q[3]:\n",
    "            break\n",
    "        add_value = [k for k, v in q.items() if v == min(q.values())][0]\n",
    "        q[add_value] += 1\n",
    "        cnt[add_value-1] += 1\n",
    "        queue.append(add_value)\n",
    "        q[queue.popleft()] -= 1        \n",
    "    return cnt\n",
    "\n",
    "solution([1,2,3])"
   ]
  },
  {
   "cell_type": "code",
   "execution_count": 176,
   "metadata": {},
   "outputs": [
    {
     "name": "stdout",
     "output_type": "stream",
     "text": [
      "True\n",
      "True\n",
      "True\n",
      "True\n",
      "True\n",
      "True\n"
     ]
    }
   ],
   "source": [
    "def solution(noti_time, do_not_disturb):\n",
    "    noti_time = int(noti_time[:2])*60+int(noti_time[3:])\n",
    "    do_not_disturb = [[int(t[:2])*60+int(t[3:5]), int(t[6:8])*60+int(t[9:11])] for t in do_not_disturb]\n",
    "    do_not_disturb_modified = []\n",
    "\n",
    "    for s,e in do_not_disturb:\n",
    "        if s > e:\n",
    "            do_not_disturb_modified.append([s,0])\n",
    "            do_not_disturb_modified.append([0,e])\n",
    "        else:\n",
    "            do_not_disturb_modified.append([s,e])\n",
    "\n",
    "    recycle, flag = [[],[]], True\n",
    "    for i in range(2):\n",
    "        for s,e in do_not_disturb_modified:\n",
    "            if s <= noti_time <= e:\n",
    "                noti_time = e\n",
    "            elif s <= noti_time and e < s:\n",
    "                noti_time = e\n",
    "            recycle[i].append(noti_time)\n",
    "    if all([i==recycle[1][0] for i in recycle[1]]) == False:\n",
    "        return 'impossible'\n",
    "    return f\"{noti_time//60:02d}:{noti_time%60:02d}\"\n",
    "    \n",
    "print(solution('23:00', ['22:30~23:40' ,'23:05~00:45']) == '00:45')\n",
    "print(solution('06:00', ['11:00~01:00' ,'23:00~13:00']) == 'impossible')\n",
    "print(solution('10:00', ['13:01~01:00' ,'23:00~13:00']) == '13:00')\n",
    "print(solution('09:55', ['09:55~13:25' ,'13:25~14:01']) == '14:01')\n",
    "print(solution(\"09:55\",[\"13:25~14:01\", \"09:56~13:25\", \"20:08~20:15\"]) == '09:55')\n",
    "print(solution(\"23:59\", [\"00:00~23:59\", \"11:35~23:59\"]) == '23:59')"
   ]
  },
  {
   "cell_type": "code",
   "execution_count": null,
   "metadata": {},
   "outputs": [],
   "source": []
  }
 ],
 "metadata": {
  "kernelspec": {
   "display_name": "Python 3.11.1 64-bit",
   "language": "python",
   "name": "python3"
  },
  "language_info": {
   "codemirror_mode": {
    "name": "ipython",
    "version": 3
   },
   "file_extension": ".py",
   "mimetype": "text/x-python",
   "name": "python",
   "nbconvert_exporter": "python",
   "pygments_lexer": "ipython3",
   "version": "3.11.1"
  },
  "orig_nbformat": 4,
  "vscode": {
   "interpreter": {
    "hash": "5c7b89af1651d0b8571dde13640ecdccf7d5a6204171d6ab33e7c296e100e08a"
   }
  }
 },
 "nbformat": 4,
 "nbformat_minor": 2
}
