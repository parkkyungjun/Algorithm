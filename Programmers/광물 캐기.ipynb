{
 "cells": [
  {
   "cell_type": "markdown",
   "id": "14a0d3d8",
   "metadata": {},
   "source": [
    "https://school.programmers.co.kr/learn/courses/30/lessons/172927"
   ]
  },
  {
   "cell_type": "code",
   "execution_count": 28,
   "id": "d482933b",
   "metadata": {},
   "outputs": [
    {
     "data": {
      "text/plain": [
       "12"
      ]
     },
     "execution_count": 28,
     "metadata": {},
     "output_type": "execute_result"
    }
   ],
   "source": [
    "def solution(picks, minerals):\n",
    "    dic = {0:{'diamond':1, 'iron':1, 'stone':1}, 1:{'diamond':5, 'iron':1, 'stone':1}, 2:{'diamond':25, 'iron':5, 'stone':1}}\n",
    "    minerals = [minerals[i:i+5] for i in range(0, min(len(minerals), sum(picks)*5), 5)]\n",
    "    answer, n = 0, []\n",
    "    for p in minerals:\n",
    "        d, i, s = [sum([dic[k][j] for j in p]) for k in range(3)]\n",
    "        n.append([i-d, s-d, s-i, d, i, s])\n",
    "    a = sorted(n, key=lambda x:x[0], reverse=True)\n",
    "    answer += sum([q[3] for q in a[:picks[0]]])\n",
    "    b = sorted(a[picks[0]:], key=lambda x:x[1], reverse=True)\n",
    "    answer += sum([q[4] for q in b[:picks[1]]])\n",
    "    c = sorted(b[picks[1]:], key=lambda x:x[2], reverse=True)\n",
    "    answer += sum([q[5] for q in c[:picks[2]]])\n",
    "    \n",
    "    return answer\n",
    "\n",
    "solution([1,3,2], [\"diamond\", \"diamond\", \"diamond\", \"iron\", \"iron\", \"diamond\", \"iron\", \"stone\"])"
   ]
  }
 ],
 "metadata": {
  "kernelspec": {
   "display_name": "Python 3 (ipykernel)",
   "language": "python",
   "name": "python3"
  },
  "language_info": {
   "codemirror_mode": {
    "name": "ipython",
    "version": 3
   },
   "file_extension": ".py",
   "mimetype": "text/x-python",
   "name": "python",
   "nbconvert_exporter": "python",
   "pygments_lexer": "ipython3",
   "version": "3.7.9"
  }
 },
 "nbformat": 4,
 "nbformat_minor": 5
}
