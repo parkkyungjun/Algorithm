{
 "cells": [
  {
   "cell_type": "markdown",
   "id": "improved-bread",
   "metadata": {},
   "source": [
    "https://programmers.co.kr/learn/courses/30/lessons/83201?language=python3"
   ]
  },
  {
   "cell_type": "code",
   "execution_count": 7,
   "id": "mediterranean-chinese",
   "metadata": {},
   "outputs": [],
   "source": [
    "import numpy as np"
   ]
  },
  {
   "cell_type": "code",
   "execution_count": 12,
   "id": "initial-iraqi",
   "metadata": {},
   "outputs": [],
   "source": [
    "def solution(scores):\n",
    "    answer = []\n",
    "    a = \"\"\n",
    "    scores = np.array(scores).T\n",
    "    for i in range(len(scores)):\n",
    "        M,m = max(scores[i]),min(scores[i])\n",
    "        if(scores[i][i] == M):\n",
    "            answer.append((sum(scores[i])-M)/(len(scores)-1))\n",
    "        elif(scores[i][i] == m):\n",
    "            answer.append((sum(scores[i])-m)/(len(scores)-1))\n",
    "        else:\n",
    "            answer.append(sum(scores[i])/len(scores))\n",
    "        if(answer[-1]>=90): a += \"A\"\n",
    "        elif(answer[-1]>=80): a += \"B\"\n",
    "        elif(answer[-1]>=70): a += \"C\"\n",
    "        elif(answer[-1]>=50): a += \"D\"\n",
    "        else: a+= \"F\"\n",
    "\n",
    "            \n",
    "    return a"
   ]
  },
  {
   "cell_type": "code",
   "execution_count": 13,
   "id": "hourly-election",
   "metadata": {},
   "outputs": [
    {
     "data": {
      "text/plain": [
       "'BCD'"
      ]
     },
     "execution_count": 13,
     "metadata": {},
     "output_type": "execute_result"
    }
   ],
   "source": [
    "solution([[75, 50, 100], [75, 100, 20], [100, 100, 20]])"
   ]
  },
  {
   "cell_type": "code",
   "execution_count": 6,
   "id": "boring-indication",
   "metadata": {},
   "outputs": [
    {
     "data": {
      "text/plain": [
       "156"
      ]
     },
     "execution_count": 6,
     "metadata": {},
     "output_type": "execute_result"
    }
   ],
   "source": [
    "68+50+38"
   ]
  }
 ],
 "metadata": {
  "kernelspec": {
   "display_name": "Python 3",
   "language": "python",
   "name": "python3"
  },
  "language_info": {
   "codemirror_mode": {
    "name": "ipython",
    "version": 3
   },
   "file_extension": ".py",
   "mimetype": "text/x-python",
   "name": "python",
   "nbconvert_exporter": "python",
   "pygments_lexer": "ipython3",
   "version": "3.7.9"
  }
 },
 "nbformat": 4,
 "nbformat_minor": 5
}
