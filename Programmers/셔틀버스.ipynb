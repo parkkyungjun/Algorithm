{
 "cells": [
  {
   "cell_type": "markdown",
   "id": "latin-contributor",
   "metadata": {},
   "source": [
    "https://programmers.co.kr/learn/courses/30/lessons/17678"
   ]
  },
  {
   "cell_type": "code",
   "execution_count": 48,
   "id": "fiscal-saver",
   "metadata": {
    "scrolled": true
   },
   "outputs": [
    {
     "name": "stdout",
     "output_type": "stream",
     "text": [
      "4\n"
     ]
    },
    {
     "data": {
      "text/plain": [
       "'09:09'"
      ]
     },
     "execution_count": 48,
     "metadata": {},
     "output_type": "execute_result"
    }
   ],
   "source": [
    "def solution(n, t, m, timetable):\n",
    "    cnt, N, time = 0, 0, 540\n",
    "    a = sorted([int(i.split(':')[0])*60 + int(i.split(':')[1]) for i in timetable])\n",
    "    for i in a:\n",
    "        while(i>time): \n",
    "            time += t\n",
    "        if time > 540+(n-1)*t: break\n",
    "        if cnt == m*n: break\n",
    "        if i <= time: cnt += 1\n",
    "    time,k = 540+(n-1)*t,0\n",
    "    print(cnt)\n",
    "    for i in a:\n",
    "        if n >= 2:\n",
    "            if time -t <= i <= time:\n",
    "                k += 1\n",
    "        else:\n",
    "            if i <= time:\n",
    "                k += 1\n",
    "    if m > k:\n",
    "        f = str(time//60)\n",
    "        s = str(time%60)\n",
    "    else:\n",
    "        f = str((a[cnt -1] -1)//60)\n",
    "        s = str((a[cnt -1] -1)%60)\n",
    "    if len(f) == 1: f = '0' + f\n",
    "    if len(s) == 1: s = '0' + s\n",
    "    return f + ':' + s\n",
    "solution(2,10,2,[\"09:10\", \"09:09\", \"08:00\",\"09:09\"] )"
   ]
  },
  {
   "cell_type": "code",
   "execution_count": 8,
   "id": "early-medication",
   "metadata": {},
   "outputs": [
    {
     "data": {
      "text/plain": [
       "'09:09'"
      ]
     },
     "execution_count": 8,
     "metadata": {},
     "output_type": "execute_result"
    }
   ],
   "source": [
    "def solution(n, t, m, timetable):\n",
    "    a = sorted([int(i.split(':')[0])*60 + int(i.split(':')[1]) for i in timetable])\n",
    "    time = [540+i*t for i in range(n)]\n",
    "    a = [i for i in a if time[-1]>=i]\n",
    "    for i in range(len(time)-1):\n",
    "        cnt = 0\n",
    "        for j in a:\n",
    "            if cnt == m: break\n",
    "            if time[i]>=j: cnt += 1\n",
    "        a = a[cnt:]\n",
    "    if len(a) >= m: k = a[m-1]-1\n",
    "    else: k = time[-1]\n",
    "    hour = str(k//60)\n",
    "    minute = str(k%60)\n",
    "    if len(hour) == 1: hour = '0' + hour\n",
    "    if len(minute) == 1: minute = '0' + minute\n",
    "    return hour + ':' + minute\n",
    "solution(1, 1, 1, [\"23:59\"])\n",
    "solution(2, 10, 2, [\"09:10\", \"09:09\", \"08:00\"])"
   ]
  },
  {
   "cell_type": "code",
   "execution_count": 6,
   "id": "rural-repository",
   "metadata": {},
   "outputs": [
    {
     "data": {
      "text/plain": [
       "0"
      ]
     },
     "execution_count": 6,
     "metadata": {},
     "output_type": "execute_result"
    }
   ],
   "source": [
    "a = []\n",
    "len(a)"
   ]
  }
 ],
 "metadata": {
  "kernelspec": {
   "display_name": "Python 3",
   "language": "python",
   "name": "python3"
  },
  "language_info": {
   "codemirror_mode": {
    "name": "ipython",
    "version": 3
   },
   "file_extension": ".py",
   "mimetype": "text/x-python",
   "name": "python",
   "nbconvert_exporter": "python",
   "pygments_lexer": "ipython3",
   "version": "3.7.9"
  }
 },
 "nbformat": 4,
 "nbformat_minor": 5
}
