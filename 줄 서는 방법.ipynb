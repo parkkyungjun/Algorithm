{
 "cells": [
  {
   "cell_type": "markdown",
   "id": "refined-laptop",
   "metadata": {},
   "source": [
    "https://programmers.co.kr/learn/courses/30/lessons/12936"
   ]
  },
  {
   "cell_type": "code",
   "execution_count": 57,
   "id": "median-clock",
   "metadata": {},
   "outputs": [
    {
     "name": "stdout",
     "output_type": "stream",
     "text": [
      "[] [] 3\n"
     ]
    },
    {
     "data": {
      "text/plain": [
       "[1, 2]"
      ]
     },
     "execution_count": 57,
     "metadata": {},
     "output_type": "execute_result"
    }
   ],
   "source": [
    "def fac(n):\n",
    "    a = 1\n",
    "    for i in range(2,n+1):\n",
    "        a *= i\n",
    "    return a\n",
    "\n",
    "def solution(n,k):\n",
    "    lst = [i for i in range(1,n+1)]\n",
    "    lst2 = []\n",
    "    for i in range(2,21):\n",
    "        a = 1\n",
    "        for j in range(1,i):\n",
    "            a *= j\n",
    "        if k < a:\n",
    "            q = j\n",
    "            lst = lst[:len(lst)-j]\n",
    "            break\n",
    "        #elif k == a:\n",
    "            #return lst[:len(lst)-j] + [z for z in range(j,0,-1)]\n",
    "    print(lst,lst2,q)\n",
    "    for i in range(1,q):\n",
    "        t = fac(q-i)\n",
    "        if k == t:\n",
    "            lst2 += [i for i in range(1,q-i+1)]\n",
    "            break\n",
    "        lst2.append(k//t +1)\n",
    "        k = k%t\n",
    "\n",
    "    #print(lst,lst2)\n",
    "    return lst+lst2\n",
    "solution(3,2)"
   ]
  },
  {
   "cell_type": "code",
   "execution_count": 30,
   "id": "focal-university",
   "metadata": {},
   "outputs": [
    {
     "data": {
      "text/plain": [
       "[3, 2, 1]"
      ]
     },
     "execution_count": 30,
     "metadata": {},
     "output_type": "execute_result"
    }
   ],
   "source": [
    "[z for z in range(3,0,-1)]"
   ]
  }
 ],
 "metadata": {
  "kernelspec": {
   "display_name": "Python 3",
   "language": "python",
   "name": "python3"
  },
  "language_info": {
   "codemirror_mode": {
    "name": "ipython",
    "version": 3
   },
   "file_extension": ".py",
   "mimetype": "text/x-python",
   "name": "python",
   "nbconvert_exporter": "python",
   "pygments_lexer": "ipython3",
   "version": "3.7.9"
  }
 },
 "nbformat": 4,
 "nbformat_minor": 5
}
