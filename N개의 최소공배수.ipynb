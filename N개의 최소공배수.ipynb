{
 "cells": [
  {
   "cell_type": "markdown",
   "id": "alert-tokyo",
   "metadata": {},
   "source": [
    "https://programmers.co.kr/learn/courses/30/lessons/12953"
   ]
  },
  {
   "cell_type": "code",
   "execution_count": 7,
   "id": "gentle-vector",
   "metadata": {},
   "outputs": [],
   "source": [
    "def solution(arr):\n",
    "    def prime_number():\n",
    "        prime = []\n",
    "        for i in range(2,100):\n",
    "            for j in range(2,int(i**0.5) +1 ):\n",
    "                if i%j == 0:\n",
    "                    break\n",
    "            else:\n",
    "                prime.append(i)\n",
    "        return prime\n",
    "    prime = prime_number()\n",
    "    answer = []\n",
    "    result = dict(zip(prime,[0 for i in range(100)]))\n",
    "    for i in arr:\n",
    "        answer2 = []\n",
    "        while i != 1:\n",
    "            for j in prime:\n",
    "                if i%j == 0:\n",
    "                    i = i//j\n",
    "                    answer2.append(j)\n",
    "                    break\n",
    "        answer.append(answer2)\n",
    "    for i in answer:\n",
    "        for j in i:\n",
    "            for z in prime:\n",
    "                if i.count(z) > 0 and i.count(z) > result[z]:\n",
    "                    result[z] = i.count(z)\n",
    "    a = 1\n",
    "    for x,y in result.items():\n",
    "        if y != 0:\n",
    "            a *= x**y\n",
    "    return a"
   ]
  }
 ],
 "metadata": {
  "kernelspec": {
   "display_name": "Python 3",
   "language": "python",
   "name": "python3"
  },
  "language_info": {
   "codemirror_mode": {
    "name": "ipython",
    "version": 3
   },
   "file_extension": ".py",
   "mimetype": "text/x-python",
   "name": "python",
   "nbconvert_exporter": "python",
   "pygments_lexer": "ipython3",
   "version": "3.7.9"
  }
 },
 "nbformat": 4,
 "nbformat_minor": 5
}
