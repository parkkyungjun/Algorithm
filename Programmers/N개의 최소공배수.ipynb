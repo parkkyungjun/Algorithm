{
 "cells": [
  {
   "cell_type": "markdown",
   "id": "alert-tokyo",
   "metadata": {},
   "source": [
    "https://programmers.co.kr/learn/courses/30/lessons/12953"
   ]
  },
  {
   "cell_type": "code",
   "execution_count": 7,
   "id": "gentle-vector",
   "metadata": {},
   "outputs": [],
   "source": [
    "def gcd(x, y):\n",
    "    while y>0:\n",
    "        x, y = y, x%y\n",
    "    return x\n",
    "def lcm(x, y):\n",
    "    return x*y//gcd(x,y)\n",
    "\n",
    "def solution(arr):\n",
    "    s = arr[0]\n",
    "    for i in range(1, len(arr)):\n",
    "        s = lcm(s, arr[i])\n",
    "    return s"
   ]
  }
 ],
 "metadata": {
  "kernelspec": {
   "display_name": "Python 3 (ipykernel)",
   "language": "python",
   "name": "python3"
  },
  "language_info": {
   "codemirror_mode": {
    "name": "ipython",
    "version": 3
   },
   "file_extension": ".py",
   "mimetype": "text/x-python",
   "name": "python",
   "nbconvert_exporter": "python",
   "pygments_lexer": "ipython3",
   "version": "3.7.9"
  }
 },
 "nbformat": 4,
 "nbformat_minor": 5
}
