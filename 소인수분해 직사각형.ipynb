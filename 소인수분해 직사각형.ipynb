{
 "cells": [
  {
   "cell_type": "code",
   "execution_count": null,
   "metadata": {},
   "outputs": [],
   "source": [
    "def soin(x):\n",
    "    a = []\n",
    "    for i in range(2,x):\n",
    "        if x%i = 0\n",
    "            b = x/i\n",
    "            a.append(i,x)\n",
    "        "
   ]
  },
  {
   "cell_type": "code",
   "execution_count": 6,
   "metadata": {},
   "outputs": [
    {
     "data": {
      "text/plain": [
       "[(6, 0)]"
      ]
     },
     "execution_count": 6,
     "metadata": {},
     "output_type": "execute_result"
    }
   ],
   "source": [
    "b =[]\n",
    "a = divmod(12,2)\n",
    "b.append(a)\n",
    "b"
   ]
  },
  {
   "cell_type": "code",
   "execution_count": 18,
   "metadata": {},
   "outputs": [
    {
     "name": "stdout",
     "output_type": "stream",
     "text": [
      "2\n",
      "2\n",
      "3\n",
      "5\n"
     ]
    }
   ],
   "source": [
    "puts \"소인수분해를 할 숫자를 입력하세요.\"\n",
    "def prime(x):\n",
    "    while x%2 == 0:\n",
    "        x=int(x/2)\n",
    "        print(2)\n",
    "    for i in range(3,x,2):\n",
    "        if x%i == 0:\n",
    "            print(i)\n",
    "            x = x/i\n",
    "            if x == 1:\n",
    "                break\n",
    "\n",
    "            \n"
   ]
  },
  {
   "cell_type": "code",
   "execution_count": null,
   "metadata": {},
   "outputs": [],
   "source": [
    "puts \"소인수분해를 할 숫자를 입력하세요.\"\n",
    "while x%2 == 0:\n",
    "    x=int(x/2)\n",
    "    print(2)\n",
    "for i in range(3,x,2):\n",
    "    if x%i == 0:\n",
    "        print(i)\n",
    "        x = x/i\n",
    "        if x == 1:\n",
    "            break\n"
   ]
  },
  {
   "cell_type": "code",
   "execution_count": 19,
   "metadata": {},
   "outputs": [
    {
     "data": {
      "text/plain": [
       "3"
      ]
     },
     "execution_count": 19,
     "metadata": {},
     "output_type": "execute_result"
    }
   ],
   "source": [
    "max(1,2,3)"
   ]
  },
  {
   "cell_type": "code",
   "execution_count": 38,
   "metadata": {},
   "outputs": [
    {
     "data": {
      "text/plain": [
       "[2, 1.0]"
      ]
     },
     "execution_count": 38,
     "metadata": {},
     "output_type": "execute_result"
    }
   ],
   "source": [
    "def solution(v):\n",
    "    answer = []\n",
    "    a = (v[0][0]-v[1][0])**2 + (v[0][1]-v[1][1])**2\n",
    "    b = (v[0][0]-v[2][0])**2 + (v[0][1]-v[2][1])**2\n",
    "    c = (v[1][0]-v[2][0])**2 + (v[1][1]-v[2][1])**2\n",
    "    if max(a,b,c) == a:\n",
    "        if (v[2][1]-v[0][1]) == 0:\n",
    "            y = v[1][1]\n",
    "            if (v[2][0]-v[1][0]) == 0:\n",
    "                x = v[0][0]\n",
    "            else:\n",
    "                f2 = (v[2][1]-v[1][1])/(v[2][0]-v[1][0])\n",
    "                c2 = v[0][1]-f2*v[0][0]        \n",
    "                x = (y-c2)/f2\n",
    "            answer = [x,y]\n",
    "        elif (v[2][0]-v[0][0]) == 0:\n",
    "            x = v[1][0]\n",
    "            f2 = (v[2][1]-v[1][1])/(v[2][0]-v[1][0])\n",
    "            y = f2*x+v[0][1]-f2*v[0][0]\n",
    "            answer = [x,y]\n",
    "        else:\n",
    "            f1 = (v[2][1]-v[0][1])/(v[2][0]-v[0][0])\n",
    "            #y1 = f1*x+v[1][1]-f1*v[1][0]\n",
    "            c1 = v[1][1]-f1*v[1][0]\n",
    "            f2 = (v[2][1]-v[1][1])/(v[2][0]-v[1][0])\n",
    "            #y2 = f2*x+v[0][1]-f2*v[0][0]\n",
    "            c2 = v[0][1]-f2*v[0][0]\n",
    "            if (c1-c2)*(f2-f1) == 0:\n",
    "                x = 0\n",
    "            else:\n",
    "                x = (c1-c2)/(f2-f1)\n",
    "            y = f1*x +c\n",
    "            answer = [x,y]\n",
    "    elif max(a,b,c) == b:\n",
    "        if (v[2][1]-v[1][1]) == 0:\n",
    "            y = v[0][1]\n",
    "            if (v[0][0]-v[1][0]) == 0:\n",
    "                x = v[2][0]\n",
    "            else:\n",
    "                f2 = (v[0][1]-v[1][1])/(v[0][0]-v[1][0])\n",
    "                c2 = v[2][1]-f2*v[2][0]\n",
    "                x = (y-c2)/f2\n",
    "            answer = [x,y]\n",
    "        elif (v[2][0]-v[1][0]) == 0:\n",
    "            x = v[0][0]\n",
    "            f2 = (v[0][1]-v[1][1])/(v[0][0]-v[1][0])\n",
    "            y = f2*x+v[2][1]-f2*v[2][0]\n",
    "            answer = [x,y]\n",
    "        else:\n",
    "            f1 = (v[2][1]-v[1][1])/(v[2][0]-v[1][0])\n",
    "            #y1 = f1*x+v[1][1]-f1*v[1][0]\n",
    "            c1 = v[0][1]-f1*v[0][0]\n",
    "            f2 = (v[0][1]-v[1][1])/(v[0][0]-v[1][0])\n",
    "            #y2 = f2*x+v[0][1]-f2*v[0][0]\n",
    "            c2 = v[2][1]-f2*v[2][0]\n",
    "            if (c1-c2)*(f2-f1) == 0:\n",
    "                x = 0\n",
    "            else:\n",
    "                x = (c1-c2)/(f2-f1)\n",
    "            y = f1*x +c\n",
    "            answer = [x,y]\n",
    "    else:\n",
    "        if (v[0][1]-v[1][1]) == 0:\n",
    "            y = v[2][1]\n",
    "            if (v[0][0]-v[2][0]) ==0:\n",
    "                x = v[1][0]\n",
    "            else:\n",
    "                f2 = (v[0][1]-v[2][1])/(v[0][0]-v[2][0])\n",
    "                c2 = v[1][1]-f2*v[1][0]\n",
    "                x = (y-c2)/f2\n",
    "            answer = [x,y]\n",
    "            return answer\n",
    "        elif (v[0][0]-v[1][0]) == 0:\n",
    "            x = v[2][0]\n",
    "            f2 = (v[0][1]-v[2][1])/(v[0][0]-v[2][0])\n",
    "            y = f2*x+v[1][1]-f2*v[1][0]\n",
    "            answer = [x,y]\n",
    "        else:\n",
    "            f1 = (v[0][1]-v[1][1])/(v[0][0]-v[1][0])\n",
    "            #y1 = f1*x+v[1][1]-f1*v[1][0]\n",
    "            c1 = v[2][1]-f1*v[2][0]\n",
    "            f2 = (v[0][1]-v[2][1])/(v[0][0]-v[2][0])\n",
    "            #y2 = f2*x+v[0][1]-f2*v[0][0]\n",
    "            c2 = v[1][1]-f2*v[1][0]\n",
    "            if (c1-c2)*(f2-f1) == 0:\n",
    "                x = 0\n",
    "            else :\n",
    "                x = (c1-c2)/(f2-f1)\n",
    "            y = f1*x +c\n",
    "            answer = [x,y]\n",
    "    return answer\n",
    "solution([[1, 1], [2, 2], [1, 2]])"
   ]
  },
  {
   "cell_type": "code",
   "execution_count": 19,
   "metadata": {},
   "outputs": [
    {
     "data": {
      "text/plain": [
       "[2, 1]"
      ]
     },
     "execution_count": 19,
     "metadata": {},
     "output_type": "execute_result"
    }
   ],
   "source": [
    "def solution(v):\n",
    "    a,b,c,d,e,f = v[0][0],v[0][1],v[1][0],v[1][1],v[2][0],v[2][1]\n",
    "    M = [(a-c)**2+(b-d)**2 , (a-e)**2+(b-f)**2 , (c-e)**2+(d-f)**2]\n",
    "    if max(M) == M[0]:\n",
    "        if c-e == 0:\n",
    "            x = a\n",
    "            y = d\n",
    "        elif a-e ==0:\n",
    "            x = c\n",
    "            y = b\n",
    "        else:\n",
    "            f1 = (b-f)/(a-e)\n",
    "            f2 = (d-f)/(c-e)\n",
    "            x = ((d-b)-a*f2+c*f1)/(f1-f2)\n",
    "            y = f1*x-c*f1+d\n",
    "    elif max(M) == M[1]:\n",
    "        if c-e == 0:\n",
    "            x = a\n",
    "            y = f\n",
    "        elif a-c == 0:\n",
    "            x = e\n",
    "            y = b\n",
    "        else:\n",
    "            f1 = (b-d)/(a-c)\n",
    "            f2 = (d-f)/(c-e)\n",
    "            x = ((f-b)-a*f2+e*f1)/(f1-f2)\n",
    "            y = f1*x-e*f1+f\n",
    "    elif max(M) == M[2]:\n",
    "        if a-c == 0:\n",
    "            x = e\n",
    "            y = d\n",
    "        elif a-e == 0:\n",
    "            x = c\n",
    "            y = f\n",
    "        else:\n",
    "            f1 = (b-d)/(a-c)\n",
    "            f2 = (b-f)/(a-e)\n",
    "            x = ((f-d)+c*f1-e*f2)/(f1-f2)\n",
    "            y = f1*x-c*f1+d\n",
    "    return [x,y]\n",
    "solution([[1, 1], [2, 2], [1, 2]])\n"
   ]
  },
  {
   "cell_type": "code",
   "execution_count": 44,
   "metadata": {},
   "outputs": [
    {
     "ename": "AttributeError",
     "evalue": "'str' object has no attribute 'remove'",
     "output_type": "error",
     "traceback": [
      "\u001b[1;31m---------------------------------------------------------------------------\u001b[0m",
      "\u001b[1;31mAttributeError\u001b[0m                            Traceback (most recent call last)",
      "\u001b[1;32m<ipython-input-44-6a5016ee6469>\u001b[0m in \u001b[0;36m<module>\u001b[1;34m\u001b[0m\n\u001b[0;32m      1\u001b[0m \u001b[0ms\u001b[0m \u001b[1;33m=\u001b[0m \u001b[1;34m'123-1-23'\u001b[0m\u001b[1;33m\u001b[0m\u001b[1;33m\u001b[0m\u001b[0m\n\u001b[1;32m----> 2\u001b[1;33m \u001b[0ms\u001b[0m\u001b[1;33m.\u001b[0m\u001b[0mremove\u001b[0m\u001b[1;33m(\u001b[0m\u001b[1;34m'-'\u001b[0m\u001b[1;33m)\u001b[0m\u001b[1;33m\u001b[0m\u001b[1;33m\u001b[0m\u001b[0m\n\u001b[0m",
      "\u001b[1;31mAttributeError\u001b[0m: 'str' object has no attribute 'remove'"
     ]
    }
   ],
   "source": [
    "s = '123-1-23'\n",
    "s.remove('-')\n"
   ]
  },
  {
   "cell_type": "code",
   "execution_count": 37,
   "metadata": {},
   "outputs": [
    {
     "data": {
      "text/plain": [
       "[1, 1, 1, 2, 2, 3, 3, 4]"
      ]
     },
     "execution_count": 37,
     "metadata": {},
     "output_type": "execute_result"
    }
   ],
   "source": [
    "s = [1,2,3,4,1,2,3,1]\n",
    "s.sort()\n",
    "s"
   ]
  },
  {
   "cell_type": "code",
   "execution_count": 1,
   "metadata": {},
   "outputs": [
    {
     "name": "stdout",
     "output_type": "stream",
     "text": [
      "['305-44-291501', '492134545151', '98-76-543-210', '512-73-634901', '064-82-792561']\n",
      "[3, 1, 1]\n"
     ]
    }
   ],
   "source": [
    "def solution(nums):\n",
    "    N = []\n",
    "    for i in nums:\n",
    "        s = list(i)\n",
    "        if s[0] == '-':\n",
    "            nums.remove(i)\n",
    "    for i in nums:\n",
    "        s = list(i)\n",
    "        if s[len(s)-1] == '-':\n",
    "            nums.remove(i)\n",
    "    for i in nums:\n",
    "        s = list(i)\n",
    "        for j in range(len(s)):\n",
    "            if s[j] == '-' and s[j+1] == '-':\n",
    "                nums.remove(i)\n",
    "    for i in nums:\n",
    "        s = list(i)\n",
    "        for j in s:\n",
    "            if j != '0' and j != '1' and j != '2' and j != '3' and j != '4' and j != '5'and j != '6' and j != '7' and j != '8' and j != '9' and j != '-':\n",
    "                nums.remove(i)\n",
    "                break   \n",
    "    for i in nums:\n",
    "        s = list(i)\n",
    "        if len(i.split('-')) > 3:\n",
    "            nums.remove(i)\n",
    "    for i in nums:\n",
    "        i.replace('-',\"\")\n",
    "        if len(i) > 14:\n",
    "            nums.remove(i)\n",
    "    for i in nums:\n",
    "        i.replace('-',\"\")\n",
    "        if len(i) < 11:\n",
    "            nums.remove(i)\n",
    "    print(nums)\n",
    "    R = []\n",
    "    for i in nums:\n",
    "        N.append(len(i.split('-')))\n",
    "    for i in range(1,5):\n",
    "        if N.count(i) !=0:\n",
    "            R.append(N.count(i))\n",
    "    R.sort(reverse=True)\n",
    "    answer = R\n",
    "    return answer\n",
    "nums = [\"4514--234495-1\",\"305-44-291501\",\"1-2-34-495-8623\",\"492134545151\",\"623-421523-67-341\",\"-5439-59639921\",\"6235-7X3+47-7456\",\"98-76-543-210\",\"512-73-634901\",\"000-999999-22-555\",\"064-82-792561\"]\n",
    "print(solution(nums))\n",
    "\n",
    "            "
   ]
  },
  {
   "cell_type": "code",
   "execution_count": 143,
   "metadata": {},
   "outputs": [
    {
     "data": {
      "text/plain": [
       "[1, 2, 3, 4, 5]"
      ]
     },
     "execution_count": 143,
     "metadata": {},
     "output_type": "execute_result"
    }
   ],
   "source": [
    "a = [5,4,3,2,1]\n",
    "a.sort()\n",
    "a\n",
    "def asd(l):\n",
    "    l.sort()\n",
    "    return l\n",
    "asd(a)\n"
   ]
  },
  {
   "cell_type": "code",
   "execution_count": 115,
   "metadata": {},
   "outputs": [
    {
     "name": "stdout",
     "output_type": "stream",
     "text": [
      "[5, 4, 3, 2]\n"
     ]
    },
    {
     "ename": "TypeError",
     "evalue": "'>' not supported between instances of 'str' and 'list'",
     "output_type": "error",
     "traceback": [
      "\u001b[1;31m---------------------------------------------------------------------------\u001b[0m",
      "\u001b[1;31mTypeError\u001b[0m                                 Traceback (most recent call last)",
      "\u001b[1;32m<ipython-input-115-e77c4b5d4813>\u001b[0m in \u001b[0;36m<module>\u001b[1;34m\u001b[0m\n\u001b[0;32m     10\u001b[0m         \u001b[0msolution\u001b[0m\u001b[1;33m(\u001b[0m\u001b[0mm\u001b[0m\u001b[1;33m,\u001b[0m\u001b[0mc\u001b[0m\u001b[1;33m+\u001b[0m\u001b[1;36m1\u001b[0m\u001b[1;33m)\u001b[0m\u001b[1;33m\u001b[0m\u001b[1;33m\u001b[0m\u001b[0m\n\u001b[0;32m     11\u001b[0m \u001b[0mk\u001b[0m \u001b[1;33m=\u001b[0m \u001b[1;33m[\u001b[0m\u001b[1;34m'6'\u001b[0m\u001b[1;33m,\u001b[0m \u001b[1;34m'10'\u001b[0m\u001b[1;33m,\u001b[0m \u001b[1;34m'2'\u001b[0m\u001b[1;33m]\u001b[0m\u001b[1;33m\u001b[0m\u001b[1;33m\u001b[0m\u001b[0m\n\u001b[1;32m---> 12\u001b[1;33m \u001b[0msolution\u001b[0m\u001b[1;33m(\u001b[0m\u001b[0mk\u001b[0m\u001b[1;33m,\u001b[0m\u001b[1;36m3\u001b[0m\u001b[1;33m)\u001b[0m\u001b[1;33m\u001b[0m\u001b[1;33m\u001b[0m\u001b[0m\n\u001b[0m",
      "\u001b[1;32m<ipython-input-115-e77c4b5d4813>\u001b[0m in \u001b[0;36msolution\u001b[1;34m(m, c)\u001b[0m\n\u001b[0;32m      3\u001b[0m     \u001b[1;32mif\u001b[0m \u001b[0mc\u001b[0m \u001b[1;33m==\u001b[0m \u001b[1;36m3\u001b[0m \u001b[1;33m:\u001b[0m\u001b[1;33m\u001b[0m\u001b[1;33m\u001b[0m\u001b[0m\n\u001b[0;32m      4\u001b[0m         \u001b[0mprint\u001b[0m\u001b[1;33m(\u001b[0m\u001b[0ma\u001b[0m\u001b[1;33m)\u001b[0m\u001b[1;33m\u001b[0m\u001b[1;33m\u001b[0m\u001b[0m\n\u001b[1;32m----> 5\u001b[1;33m         \u001b[0mb\u001b[0m \u001b[1;33m=\u001b[0m \u001b[0mmax\u001b[0m\u001b[1;33m(\u001b[0m\u001b[0ma\u001b[0m\u001b[1;33m,\u001b[0m\u001b[0mb\u001b[0m\u001b[1;33m)\u001b[0m\u001b[1;33m\u001b[0m\u001b[1;33m\u001b[0m\u001b[0m\n\u001b[0m\u001b[0;32m      6\u001b[0m         \u001b[1;32mreturn\u001b[0m\u001b[1;33m\u001b[0m\u001b[1;33m\u001b[0m\u001b[0m\n\u001b[0;32m      7\u001b[0m     \u001b[1;32mfor\u001b[0m \u001b[0mi\u001b[0m \u001b[1;32min\u001b[0m \u001b[0mrange\u001b[0m\u001b[1;33m(\u001b[0m\u001b[1;36m0\u001b[0m\u001b[1;33m,\u001b[0m\u001b[0mc\u001b[0m\u001b[1;33m)\u001b[0m\u001b[1;33m:\u001b[0m\u001b[1;33m\u001b[0m\u001b[1;33m\u001b[0m\u001b[0m\n",
      "\u001b[1;31mTypeError\u001b[0m: '>' not supported between instances of 'str' and 'list'"
     ]
    }
   ],
   "source": [
    "def solution(m,c):\n",
    "    global a,b\n",
    "    if c == 3 :\n",
    "        print(a)\n",
    "        b = max(a,b)\n",
    "        return\n",
    "    for i in range(0,c):\n",
    "        print(m[i])\n",
    "        a += m[i]\n",
    "        solution(m,c+1)\n",
    "k = ['6', '10', '2']\n",
    "solution(k,3)"
   ]
  },
  {
   "cell_type": "code",
   "execution_count": 100,
   "metadata": {},
   "outputs": [
    {
     "name": "stdout",
     "output_type": "stream",
     "text": [
      "[4]\n",
      "[3, 1]\n",
      "[2, 2]\n",
      "[2, 1, 1]\n",
      "[1, 3]\n",
      "[1, 2, 1]\n",
      "[1, 1, 2]\n",
      "[1, 1, 1, 1]\n"
     ]
    }
   ],
   "source": [
    "def recursive(num, result):\n",
    "\tif(num <= 0):\n",
    "\t\tprint(result)\n",
    "\t\treturn\n",
    "\tfor i in range(0, num):\n",
    "\t\trev = num - i\n",
    "\t\tresult.append(rev)\n",
    "\t\trecursive(num - rev, result)\n",
    "\t\tresult.pop()\n",
    "\n",
    "nullarray = []\n",
    "recursive(4, nullarray)"
   ]
  },
  {
   "cell_type": "code",
   "execution_count": 94,
   "metadata": {
    "scrolled": true
   },
   "outputs": [
    {
     "name": "stdout",
     "output_type": "stream",
     "text": [
      "6\n",
      "610\n",
      "6102\n",
      "610210\n",
      "6102102\n",
      "61021022\n",
      "6\n"
     ]
    }
   ],
   "source": [
    "n= []\n",
    "m = [6, 10, 2]\n",
    "m = list(map(str,numbers))\n",
    "a = 0\n",
    "b = \"\"\n",
    "def asd():\n",
    "    global a\n",
    "    global b\n",
    "    for i in range(a,3):\n",
    "        b += m[i]\n",
    "        print(b)\n",
    "    a += 1\n",
    "    if a == 3:\n",
    "        return a\n",
    "    asd()\n",
    "asd()\n",
    "print(m[0])"
   ]
  },
  {
   "cell_type": "code",
   "execution_count": 117,
   "metadata": {},
   "outputs": [
    {
     "data": {
      "text/plain": [
       "0.016"
      ]
     },
     "execution_count": 117,
     "metadata": {},
     "output_type": "execute_result"
    }
   ],
   "source": [
    "100/6250"
   ]
  },
  {
   "cell_type": "code",
   "execution_count": 3,
   "metadata": {},
   "outputs": [
    {
     "name": "stdout",
     "output_type": "stream",
     "text": [
      "[('6', '10', '2'), ('6', '2', '10'), ('10', '6', '2'), ('10', '2', '6'), ('2', '6', '10'), ('2', '10', '6')]\n"
     ]
    }
   ],
   "source": [
    "from itertools import permutations\n",
    "m = [6, 10, 2]\n",
    "m = list(map(str,m))\n",
    "L = []\n",
    "permute = permutations(m,3)\n",
    "print(list(permute))"
   ]
  },
  {
   "cell_type": "code",
   "execution_count": 20,
   "metadata": {},
   "outputs": [],
   "source": [
    "def solution(numbers):\n",
    "    numbers = list(map(str,numbers))\n",
    "    permute = permutations(numbers,len(numbers))\n",
    "    L = []\n",
    "    for p in permute:\n",
    "        k = \"\"\n",
    "        for i in range(len(p)):\n",
    "            k += p[i]\n",
    "        L.append(int(k))\n",
    "    answer = str(max(L))\n",
    "    return answer\n"
   ]
  },
  {
   "cell_type": "code",
   "execution_count": 18,
   "metadata": {},
   "outputs": [],
   "source": [
    "def solution(numbers):\n",
    "    numbers = list(map(str,numbers))\n",
    "    permute = permutations(numbers,len(numbers))\n",
    "    L = []\n",
    "    for p in permute:\n",
    "        k = \"\"\n",
    "        for i in range(len(p)):\n",
    "            k += p[i]\n",
    "        L.append(int(k))\n",
    "    print(L)\n",
    "    return max(L)"
   ]
  },
  {
   "cell_type": "code",
   "execution_count": 21,
   "metadata": {},
   "outputs": [
    {
     "data": {
      "text/plain": [
       "6210"
      ]
     },
     "execution_count": 21,
     "metadata": {},
     "output_type": "execute_result"
    }
   ],
   "source": [
    "solution([6,10,2])"
   ]
  },
  {
   "cell_type": "code",
   "execution_count": 33,
   "metadata": {},
   "outputs": [],
   "source": [
    "def solution(numbers):\n",
    "    answer = \"\"\n",
    "    r = len(numbers)\n",
    "    m = list(map(str,numbers))\n",
    "    L = []\n",
    "    permute = permutations(m,r)\n",
    "    for p in permute:\n",
    "        q = \"0\"\n",
    "        for i in range(r):\n",
    "            q += p[i]\n",
    "        L.append(int(q)) \n",
    "    answer = max(L)\n",
    "    return answer"
   ]
  },
  {
   "cell_type": "code",
   "execution_count": null,
   "metadata": {},
   "outputs": [],
   "source": []
  },
  {
   "cell_type": "code",
   "execution_count": 70,
   "metadata": {},
   "outputs": [
    {
     "name": "stdout",
     "output_type": "stream",
     "text": [
      "[(1, 2, 3), (1, 3, 2), (2, 1, 3), (2, 3, 1), (3, 1, 2), (3, 2, 1)]\n"
     ]
    }
   ],
   "source": [
    "m = [1,2,3]\n",
    "print(list(permutations(m,3)))"
   ]
  },
  {
   "cell_type": "code",
   "execution_count": 85,
   "metadata": {},
   "outputs": [
    {
     "name": "stdout",
     "output_type": "stream",
     "text": [
      "\n",
      "\n",
      "34330\n",
      "\n",
      "\n",
      "5\n",
      "\n",
      "\n",
      "9\n"
     ]
    },
    {
     "data": {
      "text/plain": [
       "'9534330'"
      ]
     },
     "execution_count": 85,
     "metadata": {},
     "output_type": "execute_result"
    }
   ],
   "source": [
    "def M(a,A):\n",
    "    for i in permutations(a,len(a)):\n",
    "        q = '0'\n",
    "        for k in range(len(a)):\n",
    "            q += i[k]\n",
    "        A.append(int(q))\n",
    "    if max(A) == 0:\n",
    "        a = ''\n",
    "    else:\n",
    "        a = str(max(A))\n",
    "    print(a)\n",
    "    return a\n",
    "def solution(numbers):\n",
    "    A,B,C,D,E,F,G,H,J = [],[],[],[],[],[],[],[],[]\n",
    "    answer = \"\"\n",
    "    a,b,c,d,e,f,g,h,i,j = [],[],[],[],[],[],[],[],[],[]\n",
    "    numbers =list(map(str,numbers))\n",
    "    for i in numbers:\n",
    "        if i[:1] == '1':\n",
    "            a.append(i)\n",
    "        if i[:1] == '2':\n",
    "            b.append(i)\n",
    "        if i[:1] == '3':\n",
    "            c.append(i)\n",
    "        if i[:1] == '4':\n",
    "            d.append(i)\n",
    "        if i[:1] == '5':\n",
    "            e.append(i)\n",
    "        if i[:1] == '6':\n",
    "            f.append(i)\n",
    "        if i[:1] == '7':\n",
    "            g.append(i)\n",
    "        if i[:1] == '8':\n",
    "            h.append(i)\n",
    "        if i[:1] == '9':\n",
    "            j.append(i)\n",
    "    a = M(a,A)\n",
    "    b = M(b,B)\n",
    "    c = M(c,C)\n",
    "    d = M(d,D)\n",
    "    f = M(f,F)\n",
    "    e = M(e,E)\n",
    "    g = M(g,G)\n",
    "    h = M(h,H)\n",
    "    j = M(j,J)\n",
    "    answer = j+h+g+f+e+d+c+b+a\n",
    "    return answer\n",
    "solution([3, 30, 34, 5, 9])\n"
   ]
  },
  {
   "cell_type": "code",
   "execution_count": 64,
   "metadata": {},
   "outputs": [],
   "source": []
  },
  {
   "cell_type": "code",
   "execution_count": 43,
   "metadata": {},
   "outputs": [
    {
     "data": {
      "text/plain": [
       "'9534330'"
      ]
     },
     "execution_count": 43,
     "metadata": {},
     "output_type": "execute_result"
    }
   ],
   "source": [
    "def solution(numbers):\n",
    "    def M(a,A,w):\n",
    "        for i in permutations(a,len(a)):\n",
    "            q = ''\n",
    "            for k in range(len(a)):\n",
    "                q += i[k]\n",
    "            if q != '':\n",
    "                A[w].append(int(q))\n",
    "            else:\n",
    "                b = ''\n",
    "                return b\n",
    "        b = str(max(A[w]))\n",
    "        return b\n",
    "    A = [[],[],[],[],[],[],[],[],[],[]]\n",
    "    answer = \"\"\n",
    "    a = [[],[],[],[],[],[],[],[],[],[]]\n",
    "    numbers =list(map(str,numbers))\n",
    "    for i in numbers:\n",
    "        for k in range(9,-1,-1):\n",
    "            if i[:1] == str(k):\n",
    "                a[9-k].append(i)\n",
    "    w = 0\n",
    "    for i in a:\n",
    "        answer += M(i,A,w)\n",
    "        w += 1\n",
    "    return answer     \n",
    "solution([3, 30, 34, 5, 9])"
   ]
  },
  {
   "cell_type": "code",
   "execution_count": 42,
   "metadata": {},
   "outputs": [
    {
     "data": {
      "text/plain": [
       "'9534303'"
      ]
     },
     "execution_count": 42,
     "metadata": {},
     "output_type": "execute_result"
    }
   ],
   "source": [
    "def solution(numbers):\n",
    "\n",
    "    A = [[],[],[],[],[],[],[],[],[],[]]\n",
    "    answer = \"\"\n",
    "    a = [[],[],[],[],[],[],[],[],[],[]]\n",
    "    numbers =list(map(str,numbers))\n",
    "    for i in numbers:\n",
    "        for k in range(9,-1,-1):\n",
    "            if i[:1] == str(k):\n",
    "                a[9-k].append(i)\n",
    "    w =0\n",
    "    def M(a,A,w):\n",
    "        for i in permutations(a,len(a)):\n",
    "            q = ''\n",
    "        for k in range(len(a)):\n",
    "            q += i[k]\n",
    "        if q != '':\n",
    "            A[w].append(int(q))\n",
    "        else:\n",
    "            b = ''\n",
    "            return b\n",
    "        b = str(max(A[w]))\n",
    "        return b\n",
    "    for i in a:\n",
    "        answer += M(i,A,w)\n",
    "        w += 1\n",
    "    return answer\n",
    "solution([3, 30, 34, 5, 9])"
   ]
  },
  {
   "cell_type": "code",
   "execution_count": 124,
   "metadata": {},
   "outputs": [
    {
     "name": "stdout",
     "output_type": "stream",
     "text": [
      "3\n"
     ]
    },
    {
     "data": {
      "text/plain": [
       "'6512431221'"
      ]
     },
     "execution_count": 124,
     "metadata": {},
     "output_type": "execute_result"
    }
   ],
   "source": [
    "def solution(numbers):\n",
    "    numbers = list(map(str, numbers))\n",
    "    tmp = numbers[:]\n",
    "    l = len(max(tmp, key=len))\n",
    "\n",
    "    for i, n in enumerate(tmp):\n",
    "        tmp[i] = n.ljust(l, n[-1])\n",
    "    a = ''.join([numbers[i[0]] for i in sorted(enumerate(tmp), key=lambda x:x[1])[::-1]])\n",
    "    return '0' if a[0] == '0' else a\n",
    "solution([3, 30, 34, 5, 9])"
   ]
  },
  {
   "cell_type": "code",
   "execution_count": 55,
   "metadata": {},
   "outputs": [
    {
     "name": "stdout",
     "output_type": "stream",
     "text": [
      "['9', '5', '34', '30', '3']\n"
     ]
    },
    {
     "data": {
      "text/plain": [
       "'9534303'"
      ]
     },
     "execution_count": 55,
     "metadata": {},
     "output_type": "execute_result"
    }
   ],
   "source": [
    "def solution(numbers):\n",
    "    numbers = list(map(str, numbers))\n",
    "    numbers.sort(reverse=True)\n",
    "    print(numbers)\n",
    "    return str(int(''.join(numbers)))\n",
    "solution([3, 30, 34, 5, 9])"
   ]
  },
  {
   "cell_type": "code",
   "execution_count": 48,
   "metadata": {},
   "outputs": [
    {
     "name": "stdout",
     "output_type": "stream",
     "text": [
      "['3', '30', '34', '5', '9']\n"
     ]
    },
    {
     "data": {
      "text/plain": [
       "['9', '5', '34', '3', '30']"
      ]
     },
     "execution_count": 48,
     "metadata": {},
     "output_type": "execute_result"
    }
   ],
   "source": [
    "numbers = [3, 30, 34, 5, 9]\n",
    "numbers = list(map(str, numbers))\n",
    "print(numbers)\n",
    "numbers.sort(key = lambda x: x*3, reverse=True)\n",
    "numbers"
   ]
  },
  {
   "cell_type": "code",
   "execution_count": 51,
   "metadata": {},
   "outputs": [
    {
     "data": {
      "text/plain": [
       "['303030', '333', '343434', '555', '999']"
      ]
     },
     "execution_count": 51,
     "metadata": {},
     "output_type": "execute_result"
    }
   ],
   "source": [
    "numbers = ['333','303030','343434','555','999']\n",
    "numbers.sort()\n",
    "numbers"
   ]
  }
 ],
 "metadata": {
  "kernelspec": {
   "display_name": "Python 3",
   "language": "python",
   "name": "python3"
  },
  "language_info": {
   "codemirror_mode": {
    "name": "ipython",
    "version": 3
   },
   "file_extension": ".py",
   "mimetype": "text/x-python",
   "name": "python",
   "nbconvert_exporter": "python",
   "pygments_lexer": "ipython3",
   "version": "3.7.6"
  }
 },
 "nbformat": 4,
 "nbformat_minor": 4
}
