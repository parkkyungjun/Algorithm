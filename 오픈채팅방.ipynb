{
 "cells": [
  {
   "cell_type": "markdown",
   "id": "mobile-aberdeen",
   "metadata": {},
   "source": [
    "https://programmers.co.kr/learn/courses/30/lessons/42888"
   ]
  },
  {
   "cell_type": "code",
   "execution_count": 7,
   "id": "criminal-abortion",
   "metadata": {},
   "outputs": [
    {
     "data": {
      "text/plain": [
       "['Gimoi님이 들어왔습니다.',\n",
       " 'Prodo님이 들어왔습니다.',\n",
       " 'Gimoi님이 나갔습니다.',\n",
       " 'OhYeah님이 들어왔습니다.',\n",
       " 'Prodo님이 들어왔습니다.']"
      ]
     },
     "execution_count": 7,
     "metadata": {},
     "output_type": "execute_result"
    }
   ],
   "source": [
    "def solution(record):\n",
    "    a = dict()\n",
    "    answer = []\n",
    "    answer_2 = []\n",
    "    for i in record:\n",
    "        e = i.split(\" \")\n",
    "        if e[0] == 'Leave':\n",
    "            answer.append([e[1], '님이 나갔습니다.'])\n",
    "        elif e[0] == 'Enter':\n",
    "            a[e[1]] = e[2]\n",
    "            answer.append([e[1], '님이 들어왔습니다.'])\n",
    "        elif e[0] == 'Change':\n",
    "            a[e[1]] = e[2]\n",
    "    for i in answer:\n",
    "        answer_2.append(a[i[0]] + i[1])\n",
    "    return answer_2\n",
    "solution([\"Enter uid0606 Gimoi\", \"Enter uid4567 Prodo\",\"Leave uid0606\", \\\n",
    "          \"Enter uid1234 Prodo\",\"Change uid1234 OhYeah\",\\\n",
    "          \"Enter uid4567 Prodo\"])\n",
    "            "
   ]
  }
 ],
 "metadata": {
  "kernelspec": {
   "display_name": "Python 3",
   "language": "python",
   "name": "python3"
  },
  "language_info": {
   "codemirror_mode": {
    "name": "ipython",
    "version": 3
   },
   "file_extension": ".py",
   "mimetype": "text/x-python",
   "name": "python",
   "nbconvert_exporter": "python",
   "pygments_lexer": "ipython3",
   "version": "3.7.9"
  }
 },
 "nbformat": 4,
 "nbformat_minor": 5
}
