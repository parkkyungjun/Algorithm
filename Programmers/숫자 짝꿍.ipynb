{
 "cells": [
  {
   "cell_type": "markdown",
   "id": "b6fb3272",
   "metadata": {},
   "source": [
    "https://school.programmers.co.kr/learn/courses/30/lessons/131128"
   ]
  },
  {
   "cell_type": "code",
   "execution_count": 3,
   "id": "4e14daf6",
   "metadata": {},
   "outputs": [],
   "source": [
    "from collections import Counter\n",
    "def solution(X, Y):\n",
    "    x, y = Counter(list(X+'0123456789')), Counter(list(Y+'0123456789'))\n",
    "    dic = {}\n",
    "    answer = ''\n",
    "    for i in range(9,-1,-1):\n",
    "        a, b = x[str(i)], y[str(i)]\n",
    "        if a != 1 and b != 1:\n",
    "            dic[str(i)] = min(x[str(i)]-1, y[str(i)]-1)\n",
    "    if len(dic) == 0:\n",
    "        return '-1'\n",
    "    for i in dic.items():\n",
    "        answer += i[0]*i[1]\n",
    "    if answer[0] == '0':\n",
    "        return '0'\n",
    "    return answer"
   ]
  }
 ],
 "metadata": {
  "kernelspec": {
   "display_name": "Python 3.11.1 64-bit",
   "language": "python",
   "name": "python3"
  },
  "language_info": {
   "codemirror_mode": {
    "name": "ipython",
    "version": 3
   },
   "file_extension": ".py",
   "mimetype": "text/x-python",
   "name": "python",
   "nbconvert_exporter": "python",
   "pygments_lexer": "ipython3",
   "version": "3.11.1"
  },
  "vscode": {
   "interpreter": {
    "hash": "5c7b89af1651d0b8571dde13640ecdccf7d5a6204171d6ab33e7c296e100e08a"
   }
  }
 },
 "nbformat": 4,
 "nbformat_minor": 5
}
