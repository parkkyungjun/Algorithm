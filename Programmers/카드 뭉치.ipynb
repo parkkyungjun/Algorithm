{
 "cells": [
  {
   "cell_type": "markdown",
   "id": "f50a8e1e",
   "metadata": {},
   "source": [
    "https://school.programmers.co.kr/learn/courses/30/lessons/159994"
   ]
  },
  {
   "cell_type": "code",
   "execution_count": 8,
   "id": "333de6dd",
   "metadata": {},
   "outputs": [
    {
     "name": "stdout",
     "output_type": "stream",
     "text": [
      "1\n",
      "2\n",
      "3\n",
      "4\n"
     ]
    },
    {
     "data": {
      "text/plain": [
       "'Yes'"
      ]
     },
     "execution_count": 8,
     "metadata": {},
     "output_type": "execute_result"
    }
   ],
   "source": [
    "def solution(cards1, cards2, goal):\n",
    "    c1, c2, g = 0, 0, 0\n",
    "    while True:\n",
    "        t = True\n",
    "        if len(cards1) > c1:\n",
    "            if cards1[c1] == goal[g]:\n",
    "                c1, g, t = c1+1, g+1, False\n",
    "        if len(cards2) > c2 and t:\n",
    "            if cards2[c2] == goal[g]:\n",
    "                c2, g, t = c2+1, g+1, False\n",
    "        if t:\n",
    "            return 'No'\n",
    "        print(g)\n",
    "        if g == len(goal)-1:\n",
    "            return 'Yes'\n",
    "        \n",
    "cards1 = [\"i\", \"drink\"]\n",
    "cards2 = [\"want\", \"to\"]\n",
    "goal = [\"i\", \"want\", \"to\", \"drink\", \"water\"]\n",
    "solution(cards1, cards2, goal)"
   ]
  },
  {
   "cell_type": "code",
   "execution_count": null,
   "id": "9753df5c",
   "metadata": {},
   "outputs": [],
   "source": []
  }
 ],
 "metadata": {
  "kernelspec": {
   "display_name": "Python 3 (ipykernel)",
   "language": "python",
   "name": "python3"
  },
  "language_info": {
   "codemirror_mode": {
    "name": "ipython",
    "version": 3
   },
   "file_extension": ".py",
   "mimetype": "text/x-python",
   "name": "python",
   "nbconvert_exporter": "python",
   "pygments_lexer": "ipython3",
   "version": "3.11.1"
  }
 },
 "nbformat": 4,
 "nbformat_minor": 5
}
