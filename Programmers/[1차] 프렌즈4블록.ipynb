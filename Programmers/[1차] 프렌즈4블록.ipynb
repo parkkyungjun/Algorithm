{
 "cells": [
  {
   "cell_type": "markdown",
   "id": "periodic-commerce",
   "metadata": {},
   "source": [
    "https://programmers.co.kr/learn/courses/30/lessons/17679"
   ]
  },
  {
   "cell_type": "code",
   "execution_count": 44,
   "id": "numerical-render",
   "metadata": {},
   "outputs": [
    {
     "data": {
      "text/plain": [
       "15"
      ]
     },
     "execution_count": 44,
     "metadata": {},
     "output_type": "execute_result"
    }
   ],
   "source": [
    "def solution(m, n, board):\n",
    "    def asd(m,n,board,w=0):\n",
    "        answer = []\n",
    "        r = 0\n",
    "        q = 0\n",
    "        board = [list(i) for i in board]\n",
    "        for i in range(m-1):\n",
    "            for j in range(n-1):\n",
    "                if board[i][j] == board[i][j+1] and board[i][j] != '' and\\\n",
    "                board[i][j] == board[i+1][j] and board[i][j] == board[i+1][j+1]:\n",
    "                    answer.append([i,j])\n",
    "                    q += 1\n",
    "        for i in range(len(answer)):\n",
    "            board[answer[i][0]][answer[i][1]] = ''\n",
    "            board[answer[i][0]+1][answer[i][1]] = ''\n",
    "            board[answer[i][0]][answer[i][1]+1] = ''\n",
    "            board[answer[i][0]+1][answer[i][1]+1] = ''\n",
    "        while r != m:\n",
    "            for i in range(1,m):\n",
    "                for j in range(n):\n",
    "                    if board[i][j] == '':\n",
    "                        board[i][j] = board[i-1][j]\n",
    "                        board[i-1][j] = ''\n",
    "            r += 1\n",
    "        if q == 0:\n",
    "            return sum([i.count('') for i in board])\n",
    "        return asd(m,n,board)\n",
    "    return asd(m,n,board)\n",
    "solution(6,6,[\"TTTANT\", \"RRFACC\", \"RRRFCC\", \"TRRRAA\", \"TTMMMF\", \"TMMTTJ\"])"
   ]
  }
 ],
 "metadata": {
  "kernelspec": {
   "display_name": "Python 3",
   "language": "python",
   "name": "python3"
  },
  "language_info": {
   "codemirror_mode": {
    "name": "ipython",
    "version": 3
   },
   "file_extension": ".py",
   "mimetype": "text/x-python",
   "name": "python",
   "nbconvert_exporter": "python",
   "pygments_lexer": "ipython3",
   "version": "3.7.9"
  }
 },
 "nbformat": 4,
 "nbformat_minor": 5
}
