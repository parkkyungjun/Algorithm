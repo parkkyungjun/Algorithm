{
 "cells": [
  {
   "cell_type": "markdown",
   "metadata": {},
   "source": [
    "https://school.programmers.co.kr/learn/courses/30/lessons/160585#"
   ]
  },
  {
   "cell_type": "code",
   "execution_count": 3,
   "metadata": {},
   "outputs": [
    {
     "name": "stdout",
     "output_type": "stream",
     "text": [
      "0\n",
      "1\n"
     ]
    },
    {
     "data": {
      "text/plain": [
       "0"
      ]
     },
     "execution_count": 3,
     "metadata": {},
     "output_type": "execute_result"
    }
   ],
   "source": [
    "def solution(board):\n",
    "    o_cnt, x_cnt = 0, 0\n",
    "    for i in board:\n",
    "        o_cnt += i.count('O')\n",
    "        x_cnt += i.count('X')\n",
    "    print(o_cnt-x_cnt)\n",
    "    if o_cnt-x_cnt != 0 and o_cnt-x_cnt != 1:\n",
    "        print(1)\n",
    "        return 0\n",
    "    cnt, cnt2 = 0, 0\n",
    "\n",
    "    for i in range(3):\n",
    "        if board[0][i] + board[1][i] + board[2][i] == 'OOO':\n",
    "            cnt += 1\n",
    "        elif board[0][i] + board[1][i] + board[2][i] == 'XXX':\n",
    "            cnt2 += 1\n",
    "        if board[i][0] + board[i][1] + board[i][2] == 'OOO':\n",
    "            cnt += 1\n",
    "        elif board[i][0] + board[i][1] + board[i][2] == 'XXX':\n",
    "            cnt2 += 1\n",
    "    if board[0][0] + board[1][1] + board[2][2] == 'OOO':\n",
    "        cnt += 1\n",
    "    elif board[0][0] + board[1][1] + board[2][2] == 'XXX':\n",
    "        cnt2 += 1\n",
    "    if board[2][0] + board[1][1] + board[0][2] == 'OOO':\n",
    "        cnt += 1\n",
    "    elif board[2][0] + board[1][1] + board[0][2] == 'XXX':\n",
    "        cnt2 += 1\n",
    "    if (cnt > 1 or cnt2 > 1) and o_cnt+x_cnt != 9:\n",
    "        return 0\n",
    "    if cnt >= 1 and cnt2 >= 1:\n",
    "        return 0\n",
    "    elif cnt >= 1:\n",
    "        if o_cnt-x_cnt != 1:\n",
    "            return 0\n",
    "    elif cnt2 >= 1:\n",
    "        if o_cnt != x_cnt:\n",
    "            return 0\n",
    "    return 1\n",
    "\n",
    "solution([\"O.X\", \".O.\", \"..X\"])"
   ]
  },
  {
   "cell_type": "code",
   "execution_count": null,
   "metadata": {},
   "outputs": [],
   "source": []
  }
 ],
 "metadata": {
  "kernelspec": {
   "display_name": "Python 3.11.1 64-bit",
   "language": "python",
   "name": "python3"
  },
  "language_info": {
   "codemirror_mode": {
    "name": "ipython",
    "version": 3
   },
   "file_extension": ".py",
   "mimetype": "text/x-python",
   "name": "python",
   "nbconvert_exporter": "python",
   "pygments_lexer": "ipython3",
   "version": "3.11.1"
  },
  "orig_nbformat": 4,
  "vscode": {
   "interpreter": {
    "hash": "5c7b89af1651d0b8571dde13640ecdccf7d5a6204171d6ab33e7c296e100e08a"
   }
  }
 },
 "nbformat": 4,
 "nbformat_minor": 2
}
