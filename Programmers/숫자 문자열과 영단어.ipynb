{
 "cells": [
  {
   "cell_type": "markdown",
   "id": "front-pioneer",
   "metadata": {},
   "source": [
    "https://programmers.co.kr/learn/courses/30/lessons/81301"
   ]
  },
  {
   "cell_type": "code",
   "execution_count": null,
   "id": "portuguese-myanmar",
   "metadata": {},
   "outputs": [],
   "source": [
    "\"one4seveneight\""
   ]
  },
  {
   "cell_type": "code",
   "execution_count": 41,
   "id": "rural-breed",
   "metadata": {},
   "outputs": [],
   "source": [
    "def solution(n, k, cmd):\n",
    "    O,o = [i for i in range(n)],[i for i in range(n)]\n",
    "    memory = []\n",
    "    m = [\"X\" for i in range(n)]\n",
    "    for i in range(len(cmd)):\n",
    "        if cmd[i][0] == \"U\":\n",
    "            k -= int(cmd[i][2])\n",
    "        elif cmd[i][0] == \"D\":\n",
    "            k += int(cmd[i][2])\n",
    "        elif cmd[i][0] == \"C\":\n",
    "            print(cmd[i],k)\n",
    "            memory.append(o[k])\n",
    "            del o[k]\n",
    "        else:\n",
    "            if o[k] > memory[-1]:\n",
    "                o.append(memory[-1])\n",
    "                o.sort()\n",
    "                memory.pop()\n",
    "                k += 1\n",
    "            else:\n",
    "                o.append(memory[-1])\n",
    "                o.sort()\n",
    "                memory.pop()\n",
    "    for i in o:\n",
    "        m[i] = \"O\"\n",
    "    return ''.join(m)"
   ]
  },
  {
   "cell_type": "code",
   "execution_count": 42,
   "id": "primary-louis",
   "metadata": {},
   "outputs": [
    {
     "name": "stdout",
     "output_type": "stream",
     "text": [
      "C 4\n",
      "C 1\n",
      "C 5\n"
     ]
    },
    {
     "data": {
      "text/plain": [
       "'OOOOXOOO'"
      ]
     },
     "execution_count": 42,
     "metadata": {},
     "output_type": "execute_result"
    }
   ],
   "source": [
    "solution(8,2,[\"D 2\",\"C\",\"U 3\",\"C\",\"D 4\",\"C\",\"U 2\",\"Z\",\"Z\"])"
   ]
  },
  {
   "cell_type": "code",
   "execution_count": 34,
   "id": "handmade-strain",
   "metadata": {},
   "outputs": [
    {
     "data": {
      "text/plain": [
       "'a23'"
      ]
     },
     "execution_count": 34,
     "metadata": {},
     "output_type": "execute_result"
    }
   ],
   "source": [
    "a= \"123\"\n",
    "a.replace(\"1\",\"a\")"
   ]
  },
  {
   "cell_type": "code",
   "execution_count": null,
   "id": "sexual-manner",
   "metadata": {},
   "outputs": [],
   "source": []
  }
 ],
 "metadata": {
  "kernelspec": {
   "display_name": "Python 3",
   "language": "python",
   "name": "python3"
  },
  "language_info": {
   "codemirror_mode": {
    "name": "ipython",
    "version": 3
   },
   "file_extension": ".py",
   "mimetype": "text/x-python",
   "name": "python",
   "nbconvert_exporter": "python",
   "pygments_lexer": "ipython3",
   "version": "3.7.9"
  }
 },
 "nbformat": 4,
 "nbformat_minor": 5
}
