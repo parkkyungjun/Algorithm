{
 "cells": [
  {
   "cell_type": "markdown",
   "id": "f7e46ea8",
   "metadata": {},
   "source": [
    "https://school.programmers.co.kr/learn/courses/30/lessons/133502"
   ]
  },
  {
   "cell_type": "code",
   "execution_count": 30,
   "id": "1eec5b4b",
   "metadata": {},
   "outputs": [
    {
     "data": {
      "text/plain": [
       "3"
      ]
     },
     "execution_count": 30,
     "metadata": {},
     "output_type": "execute_result"
    }
   ],
   "source": [
    "def solution(ingredient):\n",
    "    ingredient, cnt = ''.join([str(i) for i in ingredient]), 0\n",
    "    i = 0\n",
    "    while True:\n",
    "        if ingredient[i:i+4] == '1231':\n",
    "            ingredient = ingredient[:i] + ingredient[i+4:]\n",
    "            i = max(i-4, 0)\n",
    "            cnt += 1\n",
    "            c = True\n",
    "        else:\n",
    "            i += 1\n",
    "        if len(ingredient[i:i+4]) != 4:\n",
    "            break\n",
    "            \n",
    "    return cnt\n",
    "    \n",
    "solution([1, 1, 2, 1, 2, 3, 1, 3, 1, 2, 3, 1])"
   ]
  }
 ],
 "metadata": {
  "kernelspec": {
   "display_name": "Python 3 (ipykernel)",
   "language": "python",
   "name": "python3"
  },
  "language_info": {
   "codemirror_mode": {
    "name": "ipython",
    "version": 3
   },
   "file_extension": ".py",
   "mimetype": "text/x-python",
   "name": "python",
   "nbconvert_exporter": "python",
   "pygments_lexer": "ipython3",
   "version": "3.9.12"
  }
 },
 "nbformat": 4,
 "nbformat_minor": 5
}
