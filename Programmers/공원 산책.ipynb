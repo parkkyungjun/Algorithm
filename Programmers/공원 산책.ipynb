{
 "cells": [
  {
   "cell_type": "markdown",
   "id": "b68d0a6e",
   "metadata": {},
   "source": [
    "https://school.programmers.co.kr/learn/courses/30/lessons/172928"
   ]
  },
  {
   "cell_type": "code",
   "execution_count": 13,
   "id": "50846c4f",
   "metadata": {},
   "outputs": [
    {
     "data": {
      "text/plain": [
       "[0, 0]"
      ]
     },
     "execution_count": 13,
     "metadata": {},
     "output_type": "execute_result"
    }
   ],
   "source": [
    "def solution(park, routes):\n",
    "    p = [[i, j] for i, row in enumerate(park) for j, val in enumerate(row) if val == 'S'][0]\n",
    "    row, col = len(park[0]), len(park)\n",
    "    for i in routes:\n",
    "        d, n = i.split(' ')\n",
    "        n = int(n)\n",
    "        if d == 'E':\n",
    "            if p[1] + n < row:\n",
    "                pp = p[1]\n",
    "                for j in range(n):   \n",
    "                    if park[p[0]][pp+1] != 'X':\n",
    "                        pp += 1\n",
    "                if pp == p[1] + n:\n",
    "                    p[1] += n\n",
    "        elif d == 'W':\n",
    "            if p[1] - n > -1:\n",
    "                pp = p[1]\n",
    "                for j in range(n):   \n",
    "                    if park[p[0]][pp-1] != 'X':\n",
    "                        pp -= 1\n",
    "                if pp == p[1] - n:\n",
    "                    p[1] -= n\n",
    "        elif d == 'N':\n",
    "            if p[0] - n > -1:\n",
    "                pp = p[0]\n",
    "                for j in range(n):   \n",
    "                    if park[pp-1][p[1]] != 'X':\n",
    "                        pp -= 1\n",
    "                if pp == p[0] - n:\n",
    "                    p[0] -= n\n",
    "        elif d == 'S':\n",
    "            if p[0] + n < col:\n",
    "                pp = p[0]\n",
    "                for j in range(n):   \n",
    "                    if park[pp+1][p[1]] != 'X':\n",
    "                        pp += 1\n",
    "                if pp == p[0] + n:\n",
    "                    p[0] += n\n",
    "    return p\n",
    "\n",
    "solution([\"OSO\", \"OOO\", \"OXO\", \"OOO\"], [\"E 2\", \"S 3\", \"W 1\"])"
   ]
  }
 ],
 "metadata": {
  "kernelspec": {
   "display_name": "Python 3 (ipykernel)",
   "language": "python",
   "name": "python3"
  },
  "language_info": {
   "codemirror_mode": {
    "name": "ipython",
    "version": 3
   },
   "file_extension": ".py",
   "mimetype": "text/x-python",
   "name": "python",
   "nbconvert_exporter": "python",
   "pygments_lexer": "ipython3",
   "version": "3.7.9"
  }
 },
 "nbformat": 4,
 "nbformat_minor": 5
}
