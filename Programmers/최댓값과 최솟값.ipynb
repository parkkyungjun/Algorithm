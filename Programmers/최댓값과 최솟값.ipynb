{
 "cells": [
  {
   "cell_type": "markdown",
   "id": "wrapped-stage",
   "metadata": {},
   "source": [
    "https://programmers.co.kr/learn/courses/30/lessons/12939"
   ]
  },
  {
   "cell_type": "code",
   "execution_count": 1,
   "id": "documented-blowing",
   "metadata": {},
   "outputs": [],
   "source": [
    "def solution(s):\n",
    "    a = [int(i) for i in s.split(' ')]\n",
    "    return f'{min(a)} {max(a)}'"
   ]
  }
 ],
 "metadata": {
  "kernelspec": {
   "display_name": "Python 3 (ipykernel)",
   "language": "python",
   "name": "python3"
  },
  "language_info": {
   "codemirror_mode": {
    "name": "ipython",
    "version": 3
   },
   "file_extension": ".py",
   "mimetype": "text/x-python",
   "name": "python",
   "nbconvert_exporter": "python",
   "pygments_lexer": "ipython3",
   "version": "3.7.9"
  }
 },
 "nbformat": 4,
 "nbformat_minor": 5
}
