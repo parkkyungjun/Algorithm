{
 "cells": [
  {
   "cell_type": "markdown",
   "id": "1283e53d",
   "metadata": {},
   "source": [
    "https://school.programmers.co.kr/learn/courses/30/lessons/70129"
   ]
  },
  {
   "cell_type": "code",
   "execution_count": 3,
   "id": "2821324a",
   "metadata": {},
   "outputs": [],
   "source": [
    "def solution(s):\n",
    "    cnt, xcnt = 0, 0\n",
    "    while s != '1':\n",
    "        xcnt += s.count('0')\n",
    "        s = s.replace('0', '')\n",
    "        s = bin(len(s))[2:]\n",
    "        cnt += 1\n",
    "    return [cnt, xcnt]"
   ]
  }
 ],
 "metadata": {
  "kernelspec": {
   "display_name": "Python 3 (ipykernel)",
   "language": "python",
   "name": "python3"
  },
  "language_info": {
   "codemirror_mode": {
    "name": "ipython",
    "version": 3
   },
   "file_extension": ".py",
   "mimetype": "text/x-python",
   "name": "python",
   "nbconvert_exporter": "python",
   "pygments_lexer": "ipython3",
   "version": "3.9.7"
  }
 },
 "nbformat": 4,
 "nbformat_minor": 5
}
