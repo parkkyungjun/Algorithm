{
 "cells": [
  {
   "cell_type": "markdown",
   "id": "hairy-server",
   "metadata": {},
   "source": [
    "https://programmers.co.kr/learn/courses/30/lessons/42628"
   ]
  },
  {
   "cell_type": "code",
   "execution_count": null,
   "id": "sunset-helping",
   "metadata": {},
   "outputs": [],
   "source": [
    "'D 1'\n",
    "'D -1'"
   ]
  },
  {
   "cell_type": "code",
   "execution_count": 13,
   "id": "waiting-finder",
   "metadata": {},
   "outputs": [
    {
     "name": "stdout",
     "output_type": "stream",
     "text": [
      "[]\n",
      "[-45]\n",
      "[-45, 653]\n",
      "[-45]\n",
      "[-45, -642]\n",
      "[-45, -642, 45]\n",
      "[-45, -642, 45, 97]\n",
      "[-45, -642, 45]\n",
      "[-45, 45]\n"
     ]
    },
    {
     "data": {
      "text/plain": [
       "[333, 333]"
      ]
     },
     "execution_count": 13,
     "metadata": {},
     "output_type": "execute_result"
    }
   ],
   "source": [
    "import re\n",
    "from collections import deque\n",
    "def solution(operations):\n",
    "    answer = []\n",
    "    operations = deque(operations)\n",
    "    while operations:\n",
    "        print(answer)\n",
    "        l = operations.popleft()\n",
    "        if 'I' in l:\n",
    "            answer.append(int(re.findall('[-]?\\d+',l)[0]))\n",
    "        elif 'D 1' in l and answer != []:\n",
    "            answer.remove(max(answer))\n",
    "        elif 'D -1' in l and answer != []:\n",
    "            answer.remove(min(answer))\n",
    "    if answer == []: return [0,0]\n",
    "    else: return [max(answer),max(answer)]\n",
    "solution([\"I -45\", \"I 653\", \"D 1\", \"I -642\", \"I 45\", \"I 97\", \"D 1\", \"D -1\", \"I 333\"])"
   ]
  }
 ],
 "metadata": {
  "kernelspec": {
   "display_name": "Python 3",
   "language": "python",
   "name": "python3"
  },
  "language_info": {
   "codemirror_mode": {
    "name": "ipython",
    "version": 3
   },
   "file_extension": ".py",
   "mimetype": "text/x-python",
   "name": "python",
   "nbconvert_exporter": "python",
   "pygments_lexer": "ipython3",
   "version": "3.7.9"
  }
 },
 "nbformat": 4,
 "nbformat_minor": 5
}
