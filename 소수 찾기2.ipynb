{
 "cells": [
  {
   "cell_type": "markdown",
   "id": "f3512199",
   "metadata": {},
   "source": [
    "https://school.programmers.co.kr/learn/courses/30/lessons/42839"
   ]
  },
  {
   "cell_type": "code",
   "execution_count": null,
   "id": "f299dc0e",
   "metadata": {},
   "outputs": [],
   "source": [
    "from itertools import permutations as pm\n",
    "def solution(numbers):\n",
    "    answer = []\n",
    "    k = []\n",
    "    for i in range(len(numbers)):\n",
    "        per = map(int,(map(''.join, pm(list(numbers), i+1))))\n",
    "        k += per\n",
    "    k = set(map(int,k))\n",
    "    k -= set(range(2))\n",
    "    for p in k:\n",
    "        z=1\n",
    "        y = int((p**0.5))+1\n",
    "        while True:\n",
    "            z+=1\n",
    "            if z == y:\n",
    "                answer.append(p)\n",
    "                break\n",
    "            if p%z == 0 or p == 1:\n",
    "                break\n",
    "    return len(set(answer))"
   ]
  },
  {
   "cell_type": "code",
   "execution_count": 30,
   "id": "265c1c6f",
   "metadata": {},
   "outputs": [
    {
     "name": "stdout",
     "output_type": "stream",
     "text": [
      "('2',) 1\n",
      "('4',) 1\n",
      "('1',) 1\n",
      "('2', '4') 2\n",
      "('2', '1') 2\n",
      "('4', '2') 2\n",
      "('4', '1') 2\n",
      "('1', '2') 2\n",
      "('1', '4') 2\n",
      "('2', '4', '1') 3\n",
      "('2', '1', '4') 3\n",
      "('4', '2', '1') 3\n",
      "('4', '1', '2') 3\n",
      "('1', '2', '4') 3\n",
      "('1', '4', '2') 3\n"
     ]
    },
    {
     "data": {
      "text/plain": [
       "4"
      ]
     },
     "execution_count": 30,
     "metadata": {},
     "output_type": "execute_result"
    }
   ],
   "source": [
    "from itertools import permutations\n",
    "def solution(numbers):\n",
    "    cnt = 0\n",
    "    ps = []\n",
    "    for a in range(len(numbers)):\n",
    "        per = permutations(numbers, a+1)\n",
    "        for n in per:\n",
    "            print(n,a+1)\n",
    "            number = int(''.join(n))\n",
    "            if number in ps or number < 2:\n",
    "                continue\n",
    "            \n",
    "            ps.append(number)\n",
    "            if any([number%i==0 for i in range(2, int(number**0.5)+1)]):\n",
    "                continue\n",
    "            cnt += 1\n",
    "            #print(number)\n",
    "    return cnt\n",
    "solution('241')\n"
   ]
  }
 ],
 "metadata": {
  "kernelspec": {
   "display_name": "Python 3 (ipykernel)",
   "language": "python",
   "name": "python3"
  },
  "language_info": {
   "codemirror_mode": {
    "name": "ipython",
    "version": 3
   },
   "file_extension": ".py",
   "mimetype": "text/x-python",
   "name": "python",
   "nbconvert_exporter": "python",
   "pygments_lexer": "ipython3",
   "version": "3.7.9"
  }
 },
 "nbformat": 4,
 "nbformat_minor": 5
}
