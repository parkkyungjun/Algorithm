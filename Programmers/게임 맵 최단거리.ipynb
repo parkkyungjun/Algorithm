{
 "cells": [
  {
   "cell_type": "markdown",
   "id": "bacterial-needle",
   "metadata": {},
   "source": [
    "https://programmers.co.kr/learn/courses/30/lessons/1844"
   ]
  },
  {
   "cell_type": "code",
   "execution_count": 9,
   "id": "checked-hunter",
   "metadata": {},
   "outputs": [
    {
     "data": {
      "text/plain": [
       "11"
      ]
     },
     "execution_count": 9,
     "metadata": {},
     "output_type": "execute_result"
    }
   ],
   "source": [
    "from collections import deque\n",
    "\n",
    "def solution(maps):\n",
    "    r, c, d, q = len(maps), len(maps[0]), [[1,0], [-1,0], [0,1], [0,-1]], deque()\n",
    "    table = [[-1 for i in range(c)] for i in range(r)]\n",
    "    q.append([0,0])\n",
    "    table[0][0] = 1\n",
    "    \n",
    "    while q:\n",
    "        y, x = q.popleft()\n",
    "        for i in range(4):\n",
    "            ny, nx = y + d[i][0], x + d[i][1]\n",
    "            if -1<ny<r and -1<nx<c and maps[ny][nx] == 1 and table[ny][nx] == -1:\n",
    "                table[ny][nx] = table[y][x] + 1\n",
    "                q.append([ny, nx])        \n",
    "    return table[-1][-1]\n",
    "solution([[1,0,1,1,1],[1,0,1,0,1],[1,0,1,1,1],[1,1,1,0,1],[0,0,0,0,1]])"
   ]
  }
 ],
 "metadata": {
  "kernelspec": {
   "display_name": "Python 3",
   "language": "python",
   "name": "python3"
  },
  "language_info": {
   "codemirror_mode": {
    "name": "ipython",
    "version": 3
   },
   "file_extension": ".py",
   "mimetype": "text/x-python",
   "name": "python",
   "nbconvert_exporter": "python",
   "pygments_lexer": "ipython3",
   "version": "3.7.9"
  }
 },
 "nbformat": 4,
 "nbformat_minor": 5
}
