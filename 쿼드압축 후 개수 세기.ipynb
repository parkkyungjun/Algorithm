{
 "cells": [
  {
   "cell_type": "markdown",
   "id": "domestic-census",
   "metadata": {},
   "source": [
    "https://programmers.co.kr/learn/courses/30/lessons/68936"
   ]
  },
  {
   "cell_type": "code",
   "execution_count": 54,
   "id": "mineral-convention",
   "metadata": {},
   "outputs": [
    {
     "data": {
      "text/plain": [
       "[10, 15]"
      ]
     },
     "execution_count": 54,
     "metadata": {},
     "output_type": "execute_result"
    }
   ],
   "source": [
    "import math\n",
    "def solution(arr):\n",
    "    \n",
    "    def asd(arr,n,a,b,answer):\n",
    "        k = 0\n",
    "        if n == 0:\n",
    "            return arr\n",
    "        for i in range(2**n):\n",
    "            if k == 1:\n",
    "                break\n",
    "            for j in range(2**n):\n",
    "                if arr[a][b] != arr[a+i][b+j]:\n",
    "                    k = 1\n",
    "                    asd(arr,n-1,a,b,answer)\n",
    "                    asd(arr,n-1,a+2**(n-1),b,answer)\n",
    "                    asd(arr,n-1,a,b+2**(n-1),answer)\n",
    "                    asd(arr,n-1,a+2**(n-1),b+2**(n-1),answer)\n",
    "                    break\n",
    "        \n",
    "        if k == 0:\n",
    "            answer.add((arr[a][b],4**n -1,a,b))\n",
    "        \n",
    "        return answer\n",
    "    answer = asd(arr,int(math.log(len(arr),2)),0,0,set())\n",
    "    x = sum([i.count(0) for i in arr]) - sum([i[1] for i in answer if i[0] ==0])\n",
    "    y = sum([i.count(1) for i in arr]) - sum([i[1] for i in answer if i[0] ==1])\n",
    "    return [x,y]\n",
    "solution([[1,1,1,1,1,1,1,1],[0,1,1,1,1,1,1,1],[0,0,0,0,1,1,1,1],[0,1,0,0,1,1,1,1],[0,0,0,0,0,0,1,1],[0,0,0,0,0,0,0,1],[0,0,0,0,1,0,0,1],[0,0,0,0,1,1,1,1]])"
   ]
  }
 ],
 "metadata": {
  "kernelspec": {
   "display_name": "Python 3",
   "language": "python",
   "name": "python3"
  },
  "language_info": {
   "codemirror_mode": {
    "name": "ipython",
    "version": 3
   },
   "file_extension": ".py",
   "mimetype": "text/x-python",
   "name": "python",
   "nbconvert_exporter": "python",
   "pygments_lexer": "ipython3",
   "version": "3.7.9"
  }
 },
 "nbformat": 4,
 "nbformat_minor": 5
}
