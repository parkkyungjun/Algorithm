{
 "cells": [
  {
   "cell_type": "markdown",
   "id": "24ebfd94",
   "metadata": {},
   "source": [
    "https://school.programmers.co.kr/learn/courses/30/lessons/176963"
   ]
  },
  {
   "cell_type": "code",
   "execution_count": 4,
   "id": "381ae336",
   "metadata": {},
   "outputs": [],
   "source": [
    "def solution(name, yearning, photo):\n",
    "    # 1. 사람들의 이름과 그리움 점수를 딕셔너리 형태로 저장\n",
    "    yearning_dict = dict(zip(name, yearning))\n",
    "\n",
    "    answer = []\n",
    "    # 2. photo 배열을 순회하며, 각 사진별 추억 점수를 계산\n",
    "    for p in photo:\n",
    "        score = 0\n",
    "        for person in p:\n",
    "            try:\n",
    "                # 인물의 이름을 딕셔너리에서 찾아 그리움 점수를 더함\n",
    "                score += yearning_dict[person]\n",
    "            except KeyError:\n",
    "                # 딕셔너리에 없는 이름인 경우 그리움 점수를 0으로 처리\n",
    "                score += 0\n",
    "        answer.append(score)\n",
    "    # 3. 모든 사진의 추억 점수를 배열에 담아 반환\n",
    "    return answer"
   ]
  }
 ],
 "metadata": {
  "kernelspec": {
   "display_name": "Python 3 (ipykernel)",
   "language": "python",
   "name": "python3"
  },
  "language_info": {
   "codemirror_mode": {
    "name": "ipython",
    "version": 3
   },
   "file_extension": ".py",
   "mimetype": "text/x-python",
   "name": "python",
   "nbconvert_exporter": "python",
   "pygments_lexer": "ipython3",
   "version": "3.7.9"
  }
 },
 "nbformat": 4,
 "nbformat_minor": 5
}
