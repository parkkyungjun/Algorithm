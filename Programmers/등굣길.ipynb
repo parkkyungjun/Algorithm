{
 "cells": [
  {
   "cell_type": "markdown",
   "id": "going-silly",
   "metadata": {},
   "source": [
    "https://programmers.co.kr/learn/courses/30/lessons/42898"
   ]
  },
  {
   "cell_type": "code",
   "execution_count": 60,
   "id": "weird-logistics",
   "metadata": {},
   "outputs": [],
   "source": [
    "def solution(m, n, puddles):\n",
    "    answer = 0\n",
    "    v = [[0]*(m+1) for j in range(n+1)]\n",
    "    v[1][1] = 1\n",
    "    for i in range(1,n+1):\n",
    "        for j in range(1,m+1):\n",
    "            if [i,j] in puddles or (i == 1 and j == 1):\n",
    "                continue\n",
    "            v[i][j] = v[i-1][j] + v[i][j-1]\n",
    "    return v[-1][-1]"
   ]
  },
  {
   "cell_type": "code",
   "execution_count": 110,
   "id": "passive-miller",
   "metadata": {},
   "outputs": [],
   "source": [
    "def solution(x, y, r, v):\n",
    "    s,S,c,C = [],[],[],[]\n",
    "    R, cnt = [], 0\n",
    "    for i in range(len(x)):\n",
    "        s.append(x[i] - r[i])\n",
    "        S.append(x[i] + r[i])\n",
    "        c.append(y[i] - r[i])\n",
    "        C.append(y[i] + r[i])\n",
    "    l,p,b,t = min(s),max(S),min(c),max(C)\n",
    "    for i in range(0,len(v),2):\n",
    "        R.append([l + v[i]%(p-l),b+v[i+1]%(t-b)])\n",
    "    for i in R:\n",
    "        for j in range(len(x)):\n",
    "            if (i[0]-x[j])**2 + (i[1]-y[j])**2 <= r[j]**2:\n",
    "                cnt += 1\n",
    "    return (p-l)*(t-b)*cnt//len(R)\n"
   ]
  },
  {
   "cell_type": "code",
   "execution_count": 111,
   "id": "operating-shanghai",
   "metadata": {},
   "outputs": [
    {
     "name": "stdout",
     "output_type": "stream",
     "text": [
      "[[2, 3], [4, 5], [6, 7], [8, 9], [0, 1]]\n",
      "4\n"
     ]
    },
    {
     "data": {
      "text/plain": [
       "80"
      ]
     },
     "execution_count": 111,
     "metadata": {},
     "output_type": "execute_result"
    }
   ],
   "source": [
    "solution([5],[5],[5],[92, 83, 14, 45, 66, 37, 28, 9, 10, 81])"
   ]
  },
  {
   "cell_type": "code",
   "execution_count": 117,
   "id": "healthy-emission",
   "metadata": {},
   "outputs": [
    {
     "data": {
      "text/plain": [
       "[[0, 0]]"
      ]
     },
     "execution_count": 117,
     "metadata": {},
     "output_type": "execute_result"
    }
   ],
   "source": [
    "from collections import deque\n",
    "def solution(subway, start, end):\n",
    "    q = deque([])\n",
    "    for i in range(len(subway)):\n",
    "        if subway[i].find(str(start)) != -1:\n",
    "            q.append([i,subway[i].find(str(start))])\n",
    "    while(q):\n",
    "        k = q.popleft()\n",
    "        k[1] += 1\n",
    "        for i in range(len(subway)):\n",
    "            if subway[i].find(str(start)) != -1:\n",
    "                q.append([i,subway[i].find(str(start))])\n",
    "    return q\n",
    "solution([\"1 2 3 4 5 6 7 8 9 10\",\"2 8\"],1,10)"
   ]
  },
  {
   "cell_type": "code",
   "execution_count": 114,
   "id": "moderate-playing",
   "metadata": {},
   "outputs": [
    {
     "data": {
      "text/plain": [
       "-1"
      ]
     },
     "execution_count": 114,
     "metadata": {},
     "output_type": "execute_result"
    }
   ],
   "source": [
    "a = \"123\"\n",
    "a.find(\"4\")"
   ]
  },
  {
   "cell_type": "code",
   "execution_count": null,
   "id": "secure-register",
   "metadata": {},
   "outputs": [],
   "source": []
  }
 ],
 "metadata": {
  "kernelspec": {
   "display_name": "Python 3",
   "language": "python",
   "name": "python3"
  },
  "language_info": {
   "codemirror_mode": {
    "name": "ipython",
    "version": 3
   },
   "file_extension": ".py",
   "mimetype": "text/x-python",
   "name": "python",
   "nbconvert_exporter": "python",
   "pygments_lexer": "ipython3",
   "version": "3.7.9"
  }
 },
 "nbformat": 4,
 "nbformat_minor": 5
}
