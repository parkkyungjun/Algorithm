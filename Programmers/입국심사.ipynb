{
 "cells": [
  {
   "cell_type": "markdown",
   "id": "black-apollo",
   "metadata": {},
   "source": [
    "https://programmers.co.kr/learn/courses/30/lessons/43238"
   ]
  },
  {
   "cell_type": "code",
   "execution_count": 100,
   "id": "stretch-gamma",
   "metadata": {
    "scrolled": false
   },
   "outputs": [
    {
     "data": {
      "text/plain": [
       "[2]"
      ]
     },
     "execution_count": 100,
     "metadata": {},
     "output_type": "execute_result"
    }
   ],
   "source": [
    "def solution(n, times):\n",
    "        M, m = min(times)*n, 1\n",
    "        result = []\n",
    "        times.sort()\n",
    "        while M >= m:\n",
    "            answer = 0\n",
    "            mid = (M+m)//2\n",
    "            for i in times:\n",
    "                answer += mid//i\n",
    "                if answer > n :\n",
    "                    break\n",
    "            if answer >= n:\n",
    "                M = mid -1\n",
    "            elif answer < n:\n",
    "                m = mid +1\n",
    "            if answer >= n:\n",
    "                result.append(mid)\n",
    "        return min(result)\n",
    "solution(1,[2,2])"
   ]
  }
 ],
 "metadata": {
  "kernelspec": {
   "display_name": "Python 3",
   "language": "python",
   "name": "python3"
  },
  "language_info": {
   "codemirror_mode": {
    "name": "ipython",
    "version": 3
   },
   "file_extension": ".py",
   "mimetype": "text/x-python",
   "name": "python",
   "nbconvert_exporter": "python",
   "pygments_lexer": "ipython3",
   "version": "3.7.9"
  }
 },
 "nbformat": 4,
 "nbformat_minor": 5
}
