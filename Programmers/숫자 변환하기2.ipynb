{
 "cells": [
  {
   "cell_type": "code",
   "execution_count": 23,
   "metadata": {},
   "outputs": [
    {
     "data": {
      "text/plain": [
       "10"
      ]
     },
     "execution_count": 23,
     "metadata": {},
     "output_type": "execute_result"
    }
   ],
   "source": [
    "def solution(x, y, n):\n",
    "    cnt, s = 0, set([x])\n",
    "    while s:\n",
    "        if y in s:\n",
    "            return cnt\n",
    "        s_ = set()\n",
    "        for i in s:\n",
    "            if i+n <= y: s_.add(i+n)\n",
    "            if i*2 <= y: s_.add(i*2)\n",
    "            if i*3 <= y: s_.add(i*3)\n",
    "        s, cnt = s_, cnt+1\n",
    "    return -1\n",
    "\n",
    "solution(1, 897, 1)"
   ]
  }
 ],
 "metadata": {
  "kernelspec": {
   "display_name": "Python 3.11.1 64-bit",
   "language": "python",
   "name": "python3"
  },
  "language_info": {
   "codemirror_mode": {
    "name": "ipython",
    "version": 3
   },
   "file_extension": ".py",
   "mimetype": "text/x-python",
   "name": "python",
   "nbconvert_exporter": "python",
   "pygments_lexer": "ipython3",
   "version": "3.11.1"
  },
  "orig_nbformat": 4,
  "vscode": {
   "interpreter": {
    "hash": "5c7b89af1651d0b8571dde13640ecdccf7d5a6204171d6ab33e7c296e100e08a"
   }
  }
 },
 "nbformat": 4,
 "nbformat_minor": 2
}
