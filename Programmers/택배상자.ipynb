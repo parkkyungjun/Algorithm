{
 "cells": [
  {
   "cell_type": "markdown",
   "id": "0188fcae",
   "metadata": {},
   "source": [
    "https://school.programmers.co.kr/learn/courses/30/lessons/131704"
   ]
  },
  {
   "cell_type": "code",
   "execution_count": 4,
   "id": "8a50d3bf",
   "metadata": {},
   "outputs": [
    {
     "name": "stdout",
     "output_type": "stream",
     "text": [
      "deque([1, 2, 3, 4, 5]) 4\n",
      "deque([5]) 1\n"
     ]
    },
    {
     "data": {
      "text/plain": [
       "2"
      ]
     },
     "execution_count": 4,
     "metadata": {},
     "output_type": "execute_result"
    }
   ],
   "source": [
    "from collections import deque\n",
    "def solution(order):\n",
    "    a, b = deque([i+1 for i in range(len(order))]), [-1]\n",
    "    \n",
    "    for index, i in enumerate(order):\n",
    "        if b[-1] == i:\n",
    "            b.pop()\n",
    "            continue\n",
    "\n",
    "        if i >= a[0]:\n",
    "            while i != a[0]:\n",
    "                b.append(a.popleft())\n",
    "            a.popleft()\n",
    "        else:\n",
    "            return index\n",
    "    return len(order)\n",
    "        \n",
    "solution([4, 3, 1, 2, 5])"
   ]
  }
 ],
 "metadata": {
  "kernelspec": {
   "display_name": "Python 3 (ipykernel)",
   "language": "python",
   "name": "python3"
  },
  "language_info": {
   "codemirror_mode": {
    "name": "ipython",
    "version": 3
   },
   "file_extension": ".py",
   "mimetype": "text/x-python",
   "name": "python",
   "nbconvert_exporter": "python",
   "pygments_lexer": "ipython3",
   "version": "3.9.12"
  }
 },
 "nbformat": 4,
 "nbformat_minor": 5
}
