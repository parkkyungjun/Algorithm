{
 "cells": [
  {
   "cell_type": "markdown",
   "id": "5522cd94",
   "metadata": {},
   "source": [
    "https://leetcode.com/problems/happy-number/"
   ]
  },
  {
   "cell_type": "code",
   "execution_count": null,
   "id": "2fe4d770",
   "metadata": {},
   "outputs": [],
   "source": [
    "class Solution:\n",
    "    def isHappy(self, n: int) -> bool:\n",
    "        answer = set()\n",
    "        while True:\n",
    "            n = sum([int(i)**2 for i in list(str(n))])\n",
    "            \n",
    "            if n in answer: return False\n",
    "            if n == 1: return True\n",
    "            \n",
    "            answer.add(n)"
   ]
  }
 ],
 "metadata": {
  "kernelspec": {
   "display_name": "Python 3 (ipykernel)",
   "language": "python",
   "name": "python3"
  },
  "language_info": {
   "codemirror_mode": {
    "name": "ipython",
    "version": 3
   },
   "file_extension": ".py",
   "mimetype": "text/x-python",
   "name": "python",
   "nbconvert_exporter": "python",
   "pygments_lexer": "ipython3",
   "version": "3.9.7"
  }
 },
 "nbformat": 4,
 "nbformat_minor": 5
}
