{
 "cells": [
  {
   "cell_type": "code",
   "execution_count": 22,
   "id": "massive-trading",
   "metadata": {},
   "outputs": [
    {
     "data": {
      "text/plain": [
       "[2, 3, 4, 5, 6, 7]"
      ]
     },
     "execution_count": 22,
     "metadata": {},
     "output_type": "execute_result"
    }
   ],
   "source": [
    "numbers = [2,1,3,4,1]\n",
    "numbers_new = []\n",
    "result = []\n",
    "\n",
    "for i in numbers:\n",
    "    if i not in numbers_new:\n",
    "        numbers_new.append(i)\n",
    "    else:\n",
    "        result.append(i*2)\n",
    "\n",
    "# for i in range(len(numbers_new)-1):\n",
    "#     result.append(numbers_new[0] + numbers_new[i+1])\n",
    "    \n",
    "# for i in range(len(numbers_new)-2):\n",
    "#     result.append(numbers_new[1] + numbers_new[i+2])\n",
    "    \n",
    "# for i in range(len(numbers_new)-3):\n",
    "#     result.append(numbers_new[2] + numbers_new[i+3])\n",
    "    \n",
    "for i in range(len(numbers_new)-1):\n",
    "    for j in range(len(numbers_new)-i-1):\n",
    "        result.append(numbers_new[i] + numbers_new[j+i+1])\n",
    "        \n",
    "result = sorted(list(set(result)))\n",
    "result\n",
    "\n",
    "\n",
    "\n",
    "    "
   ]
  },
  {
   "cell_type": "code",
   "execution_count": 15,
   "id": "hearing-honolulu",
   "metadata": {},
   "outputs": [
    {
     "data": {
      "text/plain": [
       "[1, 5, 6, 7, 10]"
      ]
     },
     "execution_count": 15,
     "metadata": {},
     "output_type": "execute_result"
    }
   ],
   "source": [
    "a = [1, 10, 5, 7, 6]\n",
    "a.sort()\n",
    "a"
   ]
  }
 ],
 "metadata": {
  "kernelspec": {
   "display_name": "Python 3",
   "language": "python",
   "name": "python3"
  },
  "language_info": {
   "codemirror_mode": {
    "name": "ipython",
    "version": 3
   },
   "file_extension": ".py",
   "mimetype": "text/x-python",
   "name": "python",
   "nbconvert_exporter": "python",
   "pygments_lexer": "ipython3",
   "version": "3.7.9"
  }
 },
 "nbformat": 4,
 "nbformat_minor": 5
}
