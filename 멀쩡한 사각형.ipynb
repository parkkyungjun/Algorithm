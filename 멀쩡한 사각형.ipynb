{
 "cells": [
  {
   "cell_type": "markdown",
   "id": "understanding-librarian",
   "metadata": {},
   "source": [
    "https://programmers.co.kr/learn/courses/30/lessons/62048?language=python3"
   ]
  },
  {
   "cell_type": "code",
   "execution_count": 9,
   "id": "accompanied-arnold",
   "metadata": {},
   "outputs": [
    {
     "name": "stdout",
     "output_type": "stream",
     "text": [
      "2\n"
     ]
    }
   ],
   "source": [
    "def solution(w,h):\n",
    "    def divisor(n):\n",
    "        a = []\n",
    "        for i in range(1,int(n**0.5) +1):\n",
    "            if n%i == 0:\n",
    "                a.append(i)\n",
    "                a.append(n//i)\n",
    "        return set(a)\n",
    "    return w*h - (w+h) + max(divisor(w) & divisor(h))"
   ]
  }
 ],
 "metadata": {
  "kernelspec": {
   "display_name": "Python 3",
   "language": "python",
   "name": "python3"
  },
  "language_info": {
   "codemirror_mode": {
    "name": "ipython",
    "version": 3
   },
   "file_extension": ".py",
   "mimetype": "text/x-python",
   "name": "python",
   "nbconvert_exporter": "python",
   "pygments_lexer": "ipython3",
   "version": "3.7.9"
  }
 },
 "nbformat": 4,
 "nbformat_minor": 5
}
