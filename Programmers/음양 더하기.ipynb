{
 "cells": [
  {
   "cell_type": "markdown",
   "id": "three-naples",
   "metadata": {},
   "source": [
    "https://programmers.co.kr/learn/courses/30/lessons/76501"
   ]
  },
  {
   "cell_type": "code",
   "execution_count": 2,
   "id": "specified-charger",
   "metadata": {},
   "outputs": [],
   "source": [
    "def solution(absolutes, signs):\n",
    "    for i in range(len(signs)):\n",
    "        if signs[i] == 'false':\n",
    "            absolutes[i] = -absolutes[i]\n",
    "    return sum(absolutes)"
   ]
  }
 ],
 "metadata": {
  "kernelspec": {
   "display_name": "Python 3",
   "language": "python",
   "name": "python3"
  },
  "language_info": {
   "codemirror_mode": {
    "name": "ipython",
    "version": 3
   },
   "file_extension": ".py",
   "mimetype": "text/x-python",
   "name": "python",
   "nbconvert_exporter": "python",
   "pygments_lexer": "ipython3",
   "version": "3.7.9"
  }
 },
 "nbformat": 4,
 "nbformat_minor": 5
}
