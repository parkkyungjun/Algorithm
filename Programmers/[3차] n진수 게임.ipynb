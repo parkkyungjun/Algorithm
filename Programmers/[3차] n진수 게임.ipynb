{
 "cells": [
  {
   "cell_type": "markdown",
   "id": "connected-roads",
   "metadata": {},
   "source": [
    "https://programmers.co.kr/learn/courses/30/lessons/17687"
   ]
  },
  {
   "cell_type": "code",
   "execution_count": 23,
   "id": "joint-clerk",
   "metadata": {},
   "outputs": [
    {
     "data": {
      "text/plain": [
       "'0111'"
      ]
     },
     "execution_count": 23,
     "metadata": {},
     "output_type": "execute_result"
    }
   ],
   "source": [
    "def solution(n, t, m, p):\n",
    "    asd, cnt = '0123456789ABCDEF', ''\n",
    "    i = 0\n",
    "    while len(cnt) < t*m:\n",
    "        I = i\n",
    "        number = ''\n",
    "        #print(i)\n",
    "        while True:\n",
    "            number += asd[I%n]\n",
    "            I = I//n\n",
    "            if I == 0:\n",
    "                cnt += number[::-1]\n",
    "                break\n",
    "        i += 1\n",
    "    return cnt[p-1:m*t:m]\n",
    "solution(2,4,2,1)"
   ]
  }
 ],
 "metadata": {
  "kernelspec": {
   "display_name": "Python 3",
   "language": "python",
   "name": "python3"
  },
  "language_info": {
   "codemirror_mode": {
    "name": "ipython",
    "version": 3
   },
   "file_extension": ".py",
   "mimetype": "text/x-python",
   "name": "python",
   "nbconvert_exporter": "python",
   "pygments_lexer": "ipython3",
   "version": "3.7.9"
  }
 },
 "nbformat": 4,
 "nbformat_minor": 5
}
