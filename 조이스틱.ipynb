{
 "cells": [
  {
   "cell_type": "markdown",
   "id": "configured-ceiling",
   "metadata": {},
   "source": [
    "https://programmers.co.kr/learn/courses/30/lessons/42860"
   ]
  },
  {
   "cell_type": "code",
   "execution_count": 35,
   "id": "traditional-diesel",
   "metadata": {},
   "outputs": [
    {
     "name": "stdout",
     "output_type": "stream",
     "text": [
      "[1, 3, 9] [0, 2, 4, 5, 6, 7, 8, 10]\n"
     ]
    },
    {
     "data": {
      "text/plain": [
       "11"
      ]
     },
     "execution_count": 35,
     "metadata": {},
     "output_type": "execute_result"
    }
   ],
   "source": [
    "def solution(name):\n",
    "    answer = sum([min(ord(i) - ord('A'),ord('Z') - ord(i)+1) for i in name])\n",
    "    nota,result,a = [], [], []\n",
    "    for i,x in enumerate(list(name)):\n",
    "        if x != 'A':\n",
    "            nota.append(i)\n",
    "        else:\n",
    "            a.append(i)\n",
    "    if a == [] :\n",
    "        return nota[-1] + answer\n",
    "    elif nota == []:\n",
    "        return 0\n",
    "    result.append(nota[-1])\n",
    "    print(nota,a)\n",
    "    if max(a) > max(nota):\n",
    "        for i in range(len(nota)-1):\n",
    "            result.append((a[i]-1)*2 + len(name) - [j for j in nota if j>a[i]][0])\n",
    "    else:\n",
    "        for i in range(len(a)):\n",
    "            result.append((a[i]-1)*2 + len(name) - [j for j in nota if j>a[i]][0])\n",
    "    return min(result) + answer\n",
    "solution(\"ABABAAAAABA\")"
   ]
  }
 ],
 "metadata": {
  "kernelspec": {
   "display_name": "Python 3",
   "language": "python",
   "name": "python3"
  },
  "language_info": {
   "codemirror_mode": {
    "name": "ipython",
    "version": 3
   },
   "file_extension": ".py",
   "mimetype": "text/x-python",
   "name": "python",
   "nbconvert_exporter": "python",
   "pygments_lexer": "ipython3",
   "version": "3.7.9"
  }
 },
 "nbformat": 4,
 "nbformat_minor": 5
}
