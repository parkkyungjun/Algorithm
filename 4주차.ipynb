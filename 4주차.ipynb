{
 "cells": [
  {
   "cell_type": "markdown",
   "id": "cordless-investment",
   "metadata": {},
   "source": [
    "https://programmers.co.kr/learn/courses/30/lessons/84325"
   ]
  },
  {
   "cell_type": "code",
   "execution_count": 72,
   "id": "sound-traffic",
   "metadata": {},
   "outputs": [
    {
     "data": {
      "text/plain": [
       "'PORTAL'"
      ]
     },
     "execution_count": 72,
     "metadata": {},
     "output_type": "execute_result"
    }
   ],
   "source": [
    "\n",
    "solution([\"SI JAVA JAVASCRIPT SQL PYTHON C#\", \"CONTENTS JAVASCRIPT JAVA PYTHON SQL C++\", \"HARDWARE C C++ PYTHON JAVA JAVASCRIPT\", \"PORTAL JAVA JAVASCRIPT PYTHON KOTLIN PHP\", \"GAME C++ C# JAVASCRIPT C JAVA\"],[\"JAVA\", \"JAVASCRIPT\"],[7,5])\n",
    "#solution([\"SI JAVA JAVASCRIPT SQL PYTHON C#\", \"CONTENTS JAVASCRIPT JAVA PYTHON SQL C++\", \"HARDWARE C C++ PYTHON JAVA JAVASCRIPT\", \"PORTAL JAVA JAVASCRIPT PYTHON KOTLIN PHP\", \"GAME C++ C# JAVASCRIPT C JAVA\"],[\"PYTHON\", \"C++\", \"SQL\"],[7,5,5])"
   ]
  },
  {
   "cell_type": "code",
   "execution_count": 71,
   "id": "conventional-oakland",
   "metadata": {},
   "outputs": [],
   "source": [
    "def solution(table, languages, preference):\n",
    "    answer, l, s = [i.split(' ') for i in table], [[languages[i],preference[i]] for i in range(len(languages))], []\n",
    "    for i in answer:\n",
    "        score = 0\n",
    "        for j in range(1,len(i)):\n",
    "            for z in l: \n",
    "                if i[j] == z[0]: score += (6-j)*z[1]\n",
    "        s.append([score,i[0]])\n",
    "    return sorted(s,key = lambda x:(-x[0],x[1]))[0][1]"
   ]
  },
  {
   "cell_type": "code",
   "execution_count": 73,
   "id": "racial-washer",
   "metadata": {},
   "outputs": [
    {
     "data": {
      "text/plain": [
       "109.8"
      ]
     },
     "execution_count": 73,
     "metadata": {},
     "output_type": "execute_result"
    }
   ],
   "source": [
    "6.6*6+3.9*18"
   ]
  }
 ],
 "metadata": {
  "kernelspec": {
   "display_name": "Python 3",
   "language": "python",
   "name": "python3"
  },
  "language_info": {
   "codemirror_mode": {
    "name": "ipython",
    "version": 3
   },
   "file_extension": ".py",
   "mimetype": "text/x-python",
   "name": "python",
   "nbconvert_exporter": "python",
   "pygments_lexer": "ipython3",
   "version": "3.7.9"
  }
 },
 "nbformat": 4,
 "nbformat_minor": 5
}
