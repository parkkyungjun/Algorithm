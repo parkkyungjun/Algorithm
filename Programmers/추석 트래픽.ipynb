{
 "cells": [
  {
   "cell_type": "markdown",
   "id": "guided-disposal",
   "metadata": {},
   "source": [
    "https://programmers.co.kr/learn/courses/30/lessons/17676"
   ]
  },
  {
   "cell_type": "code",
   "execution_count": 49,
   "id": "finnish-interval",
   "metadata": {},
   "outputs": [],
   "source": [
    "def solution(lines):\n",
    "    time = [[(int(i[11:13])*3600 + int(i[14:16])*60 + float(i[17:23]))*1000,float(i[24:-1])*1000] for i in lines]\n",
    "    times = [[i[0]-i[1],i[0]] for i in time]\n",
    "    m = 0\n",
    "    for i in times:\n",
    "        for j in range(2):\n",
    "            cnt = 0\n",
    "            now = i[j]\n",
    "            for t in range(len(times)):\n",
    "                if time[t][0] - time[t][1] + 1 <= now <= time[t][0] or\\\n",
    "                time[t][0] - time[t][1] + 1 <= now + 999<= time[t][0] or\\\n",
    "                now <= time[t][0] - time[t][1] + 1 and time[t][0] <= now + 999:\n",
    "                    cnt += 1\n",
    "            if cnt > m:\n",
    "                m = cnt\n",
    "    return m"
   ]
  },
  {
   "cell_type": "markdown",
   "id": "opened-gnome",
   "metadata": {},
   "source": [
    "설명: 처리시간은 시작시간과 끝시간을 포함하므로\n",
    "첫 번째 로그는 01:00:02.003 ~ 01:00:04.002에서 2초 동안 처리되었으며,\n",
    "두 번째 로그는 01:00:05.001 ~ 01:00:07.000에서 2초 동안 처리된다.\n",
    "따라서, 첫 번째 로그가 끝나는 시점과 두 번째 로그가 시작하는 시점의 구간인 01:00:04.002 ~ 01:00:05.001 1초 동안 최대 2개가 된다."
   ]
  },
  {
   "cell_type": "code",
   "execution_count": 50,
   "id": "frank-structure",
   "metadata": {
    "scrolled": true
   },
   "outputs": [
    {
     "data": {
      "text/plain": [
       "2"
      ]
     },
     "execution_count": 50,
     "metadata": {},
     "output_type": "execute_result"
    }
   ],
   "source": [
    "solution([\n",
    "\"2016-09-15 01:00:04.002 2.0s\",\n",
    "\"2016-09-15 01:00:07.000 2s\"\n",
    "])"
   ]
  },
  {
   "cell_type": "code",
   "execution_count": 10,
   "id": "activated-expense",
   "metadata": {},
   "outputs": [
    {
     "data": {
      "text/plain": [
       "'2'"
      ]
     },
     "execution_count": 10,
     "metadata": {},
     "output_type": "execute_result"
    }
   ],
   "source": [
    "\"2016-09-15 01:00:07.000 2s\"[24:-1]"
   ]
  },
  {
   "cell_type": "code",
   "execution_count": null,
   "id": "crazy-observation",
   "metadata": {},
   "outputs": [],
   "source": []
  }
 ],
 "metadata": {
  "kernelspec": {
   "display_name": "Python 3",
   "language": "python",
   "name": "python3"
  },
  "language_info": {
   "codemirror_mode": {
    "name": "ipython",
    "version": 3
   },
   "file_extension": ".py",
   "mimetype": "text/x-python",
   "name": "python",
   "nbconvert_exporter": "python",
   "pygments_lexer": "ipython3",
   "version": "3.7.9"
  }
 },
 "nbformat": 4,
 "nbformat_minor": 5
}
