{
 "cells": [
  {
   "cell_type": "markdown",
   "id": "valuable-metropolitan",
   "metadata": {},
   "source": [
    "https://programmers.co.kr/learn/courses/30/lessons/42883"
   ]
  },
  {
   "cell_type": "code",
   "execution_count": 216,
   "id": "beautiful-volleyball",
   "metadata": {},
   "outputs": [
    {
     "data": {
      "text/plain": [
       "'94'"
      ]
     },
     "execution_count": 216,
     "metadata": {},
     "output_type": "execute_result"
    }
   ],
   "source": [
    "def solution(number,k):\n",
    "    result = []\n",
    "    for i in range(0,len(number)):\n",
    "        while len(result) > 0 and k > 0 and result[-1] < number[i]:\n",
    "            result.pop()\n",
    "            k -= 1\n",
    "        result.append(number[i])\n",
    "        if k == 0:\n",
    "            return ''.join(result) + number[i+1:]\n",
    "    if k > 0:\n",
    "        result = list(number[:len(number)-k])\n",
    "    return ''.join(result)\n",
    "solution(\"1924\", 2)\n",
    "        \n",
    "            "
   ]
  }
 ],
 "metadata": {
  "kernelspec": {
   "display_name": "Python 3",
   "language": "python",
   "name": "python3"
  },
  "language_info": {
   "codemirror_mode": {
    "name": "ipython",
    "version": 3
   },
   "file_extension": ".py",
   "mimetype": "text/x-python",
   "name": "python",
   "nbconvert_exporter": "python",
   "pygments_lexer": "ipython3",
   "version": "3.7.9"
  }
 },
 "nbformat": 4,
 "nbformat_minor": 5
}
