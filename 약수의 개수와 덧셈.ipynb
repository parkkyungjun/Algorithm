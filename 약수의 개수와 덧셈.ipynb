{
 "cells": [
  {
   "cell_type": "markdown",
   "id": "czech-ratio",
   "metadata": {},
   "source": [
    "https://programmers.co.kr/learn/courses/30/lessons/77884"
   ]
  },
  {
   "cell_type": "code",
   "execution_count": null,
   "id": "quiet-advancement",
   "metadata": {},
   "outputs": [],
   "source": [
    "def solution(left, right):\n",
    "    result = 0\n",
    "    for i in range(left,right+1):\n",
    "        if int(i**0.5) == i**0.5:\n",
    "            result -= i\n",
    "        else:\n",
    "            result += i\n",
    "    return result"
   ]
  }
 ],
 "metadata": {
  "kernelspec": {
   "display_name": "Python 3",
   "language": "python",
   "name": "python3"
  },
  "language_info": {
   "codemirror_mode": {
    "name": "ipython",
    "version": 3
   },
   "file_extension": ".py",
   "mimetype": "text/x-python",
   "name": "python",
   "nbconvert_exporter": "python",
   "pygments_lexer": "ipython3",
   "version": "3.7.9"
  }
 },
 "nbformat": 4,
 "nbformat_minor": 5
}
