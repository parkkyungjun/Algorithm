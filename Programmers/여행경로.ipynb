{
 "cells": [
  {
   "cell_type": "markdown",
   "id": "italic-zimbabwe",
   "metadata": {},
   "source": [
    "https://programmers.co.kr/learn/courses/30/lessons/43164"
   ]
  },
  {
   "cell_type": "code",
   "execution_count": 61,
   "id": "united-uruguay",
   "metadata": {},
   "outputs": [
    {
     "data": {
      "text/plain": [
       "['ATL', 'ICN', 'ICN', 'ATL', 'SFO', 'ATL']"
      ]
     },
     "execution_count": 61,
     "metadata": {},
     "output_type": "execute_result"
    }
   ],
   "source": [
    "from collections import deque\n",
    "def solution(tickets):\n",
    "    tickets.sort()\n",
    "    d = []\n",
    "    for k in tickets:\n",
    "        q = {str(i):-1 for i in tickets}\n",
    "        a = deque([k])\n",
    "        q[str(k)] = 0\n",
    "        b = []\n",
    "        while a:\n",
    "            c = a.popleft()\n",
    "            b.append(c[0])\n",
    "            for i in tickets:\n",
    "                if i[0] == c[1] and q[str(i)] == -1:\n",
    "                    a.append(i)\n",
    "                    q[str(i)] = 0\n",
    "        b.append(c[1])\n",
    "        d.append(b)\n",
    "        if len(b) == len(tickets) +1:\n",
    "            return b\n",
    "    return d\n",
    "solution([[\"ICN\", \"SFO\"], [\"ICN\", \"ATL\"], [\"SFO\", \"ATL\"], [\"ATL\", \"ICN\"], [\"ATL\",\"SFO\"]])"
   ]
  },
  {
   "cell_type": "code",
   "execution_count": 2,
   "id": "faced-wells",
   "metadata": {},
   "outputs": [
    {
     "data": {
      "text/plain": [
       "['asd', 'zsd']"
      ]
     },
     "execution_count": 2,
     "metadata": {},
     "output_type": "execute_result"
    }
   ],
   "source": [
    "import heapq\n",
    "a = []\n",
    "heapq.heappush(a,'zsd')\n",
    "heapq.heappush(a,'asd')\n",
    "a"
   ]
  }
 ],
 "metadata": {
  "kernelspec": {
   "display_name": "Python 3",
   "language": "python",
   "name": "python3"
  },
  "language_info": {
   "codemirror_mode": {
    "name": "ipython",
    "version": 3
   },
   "file_extension": ".py",
   "mimetype": "text/x-python",
   "name": "python",
   "nbconvert_exporter": "python",
   "pygments_lexer": "ipython3",
   "version": "3.7.9"
  }
 },
 "nbformat": 4,
 "nbformat_minor": 5
}
