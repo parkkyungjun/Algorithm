{
 "cells": [
  {
   "cell_type": "markdown",
   "id": "solved-mounting",
   "metadata": {},
   "source": [
    "https://programmers.co.kr/learn/courses/30/lessons/12981"
   ]
  },
  {
   "cell_type": "code",
   "execution_count": 17,
   "id": "happy-brooks",
   "metadata": {
    "scrolled": true
   },
   "outputs": [
    {
     "name": "stdout",
     "output_type": "stream",
     "text": [
      "now r\n"
     ]
    },
    {
     "data": {
      "text/plain": [
       "[1, 3]"
      ]
     },
     "execution_count": 17,
     "metadata": {},
     "output_type": "execute_result"
    }
   ],
   "source": [
    "def solution(n, words):\n",
    "    l = []\n",
    "    L = words[0][0]\n",
    "    for i in range(len(words)):\n",
    "        if words[i] not in l:\n",
    "            l.append(words[i])\n",
    "        else:\n",
    "            if (i+1)%n == 0:\n",
    "                m = n\n",
    "                k = (i+1)//n\n",
    "            else:\n",
    "                m = (i+1)%n\n",
    "                k = (i+1)//n +1\n",
    "            return [m,k]\n",
    "        if words[i][0] != L:\n",
    "            print(words[i],L)\n",
    "            if (i+1)%n ==0:\n",
    "                m = n\n",
    "                k = (i+1)//n\n",
    "            else:\n",
    "                m = (i+1)%n\n",
    "                k = (i+1)//n +1\n",
    "            return [m,k]\n",
    "        L = words[i][-1]\n",
    "    return [0,0]\n",
    "solution(2,[\"hello\", \"one\", \"even\", \"never\", \"now\", \"world\", \"draw\"])"
   ]
  }
 ],
 "metadata": {
  "kernelspec": {
   "display_name": "Python 3",
   "language": "python",
   "name": "python3"
  },
  "language_info": {
   "codemirror_mode": {
    "name": "ipython",
    "version": 3
   },
   "file_extension": ".py",
   "mimetype": "text/x-python",
   "name": "python",
   "nbconvert_exporter": "python",
   "pygments_lexer": "ipython3",
   "version": "3.7.9"
  }
 },
 "nbformat": 4,
 "nbformat_minor": 5
}
