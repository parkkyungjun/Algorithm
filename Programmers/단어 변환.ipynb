{
 "cells": [
  {
   "cell_type": "markdown",
   "id": "expired-shore",
   "metadata": {},
   "source": [
    "https://programmers.co.kr/learn/courses/30/lessons/43163"
   ]
  },
  {
   "cell_type": "code",
   "execution_count": 57,
   "id": "manufactured-traffic",
   "metadata": {},
   "outputs": [
    {
     "data": {
      "text/plain": [
       "3"
      ]
     },
     "execution_count": 57,
     "metadata": {},
     "output_type": "execute_result"
    }
   ],
   "source": [
    "def solution(begin, target, words):\n",
    "    g = {i:0 for i in words}\n",
    "    q = [begin]\n",
    "    answer = 0\n",
    "    while True:\n",
    "        s = []\n",
    "        for x in q:\n",
    "            if x == target:\n",
    "                return answer\n",
    "            for i in words:\n",
    "                n = 0\n",
    "                for j in range(len(begin)):\n",
    "                    if x[j]==list(i)[j]:\n",
    "                        n += 1\n",
    "                if n == len(begin)-1 and g[i] == 0:\n",
    "                    s.append(i)\n",
    "                    g[i] = 1\n",
    "        if not s:\n",
    "            return 0\n",
    "        q = s\n",
    "        answer += 1\n",
    "solution(\"1234567000\", \"1234567899\", [\n",
    "      \"1234567800\", \"1234567890\", \"1234567899\"])"
   ]
  }
 ],
 "metadata": {
  "kernelspec": {
   "display_name": "Python 3",
   "language": "python",
   "name": "python3"
  },
  "language_info": {
   "codemirror_mode": {
    "name": "ipython",
    "version": 3
   },
   "file_extension": ".py",
   "mimetype": "text/x-python",
   "name": "python",
   "nbconvert_exporter": "python",
   "pygments_lexer": "ipython3",
   "version": "3.7.9"
  }
 },
 "nbformat": 4,
 "nbformat_minor": 5
}
