{
 "cells": [
  {
   "cell_type": "markdown",
   "id": "faff85cf",
   "metadata": {},
   "source": [
    "https://school.programmers.co.kr/learn/courses/30/lessons/49994"
   ]
  },
  {
   "cell_type": "code",
   "execution_count": null,
   "id": "94c17106",
   "metadata": {},
   "outputs": [],
   "source": [
    "def solution(dirs):\n",
    "    dic = {'U':[-1, 0], 'D':[1, 0], 'L':[0, -1], 'R':[0, 1]}\n",
    "    ed = []\n",
    "    now = [5, 5]\n",
    "    for i in list(dirs):\n",
    "        dy, dx = dic[i]\n",
    "        y, x = now[0] + dy, now[1] + dx\n",
    "        if -1 < x < 11 and -1 < y < 11:\n",
    "            if [now[0],now[1],y,x] not in ed and [y,x,now[0],now[1]] not in ed:\n",
    "                ed.append([now[0],now[1],y,x])\n",
    "            now = [y, x]\n",
    "\n",
    "    return len(ed)"
   ]
  },
  {
   "cell_type": "code",
   "execution_count": null,
   "id": "09f0ccda",
   "metadata": {},
   "outputs": [],
   "source": [
    "def solution(dirs):\n",
    "    answer = 0\n",
    "    axis = [[0 for i in range(21)] for i in range(21)]\n",
    "    x, y = 10, 10\n",
    "    axis[10][10] = 5\n",
    "    for i in list(dirs):\n",
    "        if i == 'R':\n",
    "            if x == 20 :\n",
    "                continue\n",
    "            elif axis[y][x+1] == 1:\n",
    "                x += 2\n",
    "                continue\n",
    "            axis[y][x+1] += 1\n",
    "            x += 2\n",
    "            axis[y][x] = 5\n",
    "        elif i == 'L':\n",
    "            if x == 0:\n",
    "                continue\n",
    "            elif axis[y][x-1] == 1:\n",
    "                x -= 2\n",
    "                continue\n",
    "            axis[y][x-1] += 1\n",
    "            x -= 2\n",
    "            axis[y][x] = 5\n",
    "        elif i == 'U':\n",
    "            print(x,y)\n",
    "            if y == 0:\n",
    "                continue\n",
    "            elif axis[y-1][x] == 1:\n",
    "                y -= 2\n",
    "                continue\n",
    "            axis[y-1][x] += 1\n",
    "            y -= 2\n",
    "            axis[y][x] = 5\n",
    "        else:\n",
    "            if y == 20:\n",
    "                continue\n",
    "            elif axis[y+1][x] == 1:\n",
    "                y += 2\n",
    "                continue\n",
    "            axis[y+1][x] += 1\n",
    "            y += 2\n",
    "            axis[y][x] = 5\n",
    "    for i in axis:\n",
    "        for j in i:\n",
    "            if j != 5:\n",
    "                answer += j\n",
    "    return answer"
   ]
  }
 ],
 "metadata": {
  "kernelspec": {
   "display_name": "Python 3 (ipykernel)",
   "language": "python",
   "name": "python3"
  },
  "language_info": {
   "codemirror_mode": {
    "name": "ipython",
    "version": 3
   },
   "file_extension": ".py",
   "mimetype": "text/x-python",
   "name": "python",
   "nbconvert_exporter": "python",
   "pygments_lexer": "ipython3",
   "version": "3.9.7"
  }
 },
 "nbformat": 4,
 "nbformat_minor": 5
}
