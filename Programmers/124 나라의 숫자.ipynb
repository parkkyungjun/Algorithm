{
 "cells": [
  {
   "cell_type": "code",
   "execution_count": 6,
   "id": "experienced-influence",
   "metadata": {},
   "outputs": [],
   "source": [
    "def division(k,n):\n",
    "    result = \"\"\n",
    "    for i in range(n+1):\n",
    "        if k // 3**n == 0:\n",
    "            result += '1'\n",
    "        elif k // 3**n == 1:\n",
    "            result += '2'\n",
    "        else:\n",
    "            result += '4'\n",
    "        k = (k%3**n)\n",
    "        n -= 1\n",
    "    return result"
   ]
  },
  {
   "cell_type": "code",
   "execution_count": 27,
   "id": "identified-invention",
   "metadata": {},
   "outputs": [
    {
     "data": {
      "text/plain": [
       "'11'"
      ]
     },
     "execution_count": 27,
     "metadata": {},
     "output_type": "execute_result"
    }
   ],
   "source": [
    "m = 1\n",
    "l = []\n",
    "a = 0\n",
    "while a < 500000000:\n",
    "    l.append(a)\n",
    "    a = int((3**m - 1) * 3/2)\n",
    "    m += 1\n",
    "\n",
    "l.append(n)\n",
    "l.sort()\n",
    "division(n - l[l.index(n)-1] - 1,l.index(n) - 1)"
   ]
  }
 ],
 "metadata": {
  "kernelspec": {
   "display_name": "Python 3",
   "language": "python",
   "name": "python3"
  },
  "language_info": {
   "codemirror_mode": {
    "name": "ipython",
    "version": 3
   },
   "file_extension": ".py",
   "mimetype": "text/x-python",
   "name": "python",
   "nbconvert_exporter": "python",
   "pygments_lexer": "ipython3",
   "version": "3.7.9"
  }
 },
 "nbformat": 4,
 "nbformat_minor": 5
}
