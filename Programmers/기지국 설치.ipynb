{
 "cells": [
  {
   "cell_type": "markdown",
   "id": "finnish-sword",
   "metadata": {},
   "source": [
    "https://programmers.co.kr/learn/courses/30/lessons/12979"
   ]
  },
  {
   "cell_type": "code",
   "execution_count": 24,
   "id": "quiet-picnic",
   "metadata": {},
   "outputs": [
    {
     "name": "stdout",
     "output_type": "stream",
     "text": [
      "[[0, 2], [13, 15]] [10]\n"
     ]
    },
    {
     "data": {
      "text/plain": [
       "2"
      ]
     },
     "execution_count": 24,
     "metadata": {},
     "output_type": "execute_result"
    }
   ],
   "source": [
    "def solution(n, stations, w):\n",
    "    a, b, c = [], [], 0\n",
    "    for i in stations:\n",
    "        if i-w-1 >=0 and i+w-1 <= n-1:\n",
    "            a.append([i-w-1,i+w-1])\n",
    "        elif i-w-1 <= 0:\n",
    "            a.append([0,i+w-1])\n",
    "        elif i+w-1 >= n-1:\n",
    "            a.append([i-w-1,n-1])\n",
    "        else:\n",
    "            a.append([0,n-1])\n",
    "    if a[0][0] != 0:\n",
    "        b.append(a[0][0])\n",
    "    for i in range(len(a)-1):\n",
    "        b.append(a[i+1][0] - a[i][1] -1)\n",
    "    if a[-1][1] != n-1:\n",
    "        b.append(n-1-a[-1][1])\n",
    "    print(a,b)\n",
    "    for i in b:\n",
    "        if i%(2*w +1) !=0:\n",
    "            c += i//(2*w +1) +1\n",
    "        else:\n",
    "            c += i//(2*w +1)\n",
    "    return c\n",
    "solution(16,[1,16],2)"
   ]
  }
 ],
 "metadata": {
  "kernelspec": {
   "display_name": "Python 3",
   "language": "python",
   "name": "python3"
  },
  "language_info": {
   "codemirror_mode": {
    "name": "ipython",
    "version": 3
   },
   "file_extension": ".py",
   "mimetype": "text/x-python",
   "name": "python",
   "nbconvert_exporter": "python",
   "pygments_lexer": "ipython3",
   "version": "3.7.9"
  }
 },
 "nbformat": 4,
 "nbformat_minor": 5
}
