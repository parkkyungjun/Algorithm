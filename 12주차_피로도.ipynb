{
 "cells": [
  {
   "cell_type": "markdown",
   "id": "4785d245",
   "metadata": {},
   "source": [
    "https://programmers.co.kr/learn/courses/30/lessons/87946"
   ]
  },
  {
   "cell_type": "code",
   "execution_count": 15,
   "id": "0c5803a3",
   "metadata": {},
   "outputs": [
    {
     "data": {
      "text/plain": [
       "3"
      ]
     },
     "execution_count": 15,
     "metadata": {},
     "output_type": "execute_result"
    }
   ],
   "source": [
    "import itertools\n",
    "def solution(k, dungeons):\n",
    "    noc = itertools.permutations(dungeons)\n",
    "    m = 0\n",
    "    for i in noc:\n",
    "        cnt,K = 0,k\n",
    "        for j in i:\n",
    "            if K >= j[0]:\n",
    "                K -= j[1]\n",
    "                if K <= 0:\n",
    "                    break\n",
    "                else:\n",
    "                    cnt += 1\n",
    "            else:\n",
    "                break\n",
    "        if cnt > m:\n",
    "            m = cnt\n",
    "    return m\n",
    "solution(80,[[80,20],[50,40],[30,10]])"
   ]
  }
 ],
 "metadata": {
  "kernelspec": {
   "display_name": "Python 3 (ipykernel)",
   "language": "python",
   "name": "python3"
  },
  "language_info": {
   "codemirror_mode": {
    "name": "ipython",
    "version": 3
   },
   "file_extension": ".py",
   "mimetype": "text/x-python",
   "name": "python",
   "nbconvert_exporter": "python",
   "pygments_lexer": "ipython3",
   "version": "3.9.6"
  }
 },
 "nbformat": 4,
 "nbformat_minor": 5
}
