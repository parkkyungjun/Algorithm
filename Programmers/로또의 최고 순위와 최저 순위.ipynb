{
 "cells": [
  {
   "cell_type": "markdown",
   "id": "awful-palestinian",
   "metadata": {},
   "source": [
    "https://programmers.co.kr/learn/courses/30/lessons/77484"
   ]
  },
  {
   "cell_type": "code",
   "execution_count": 8,
   "id": "cutting-accused",
   "metadata": {},
   "outputs": [],
   "source": [
    "def solution(lottos, win_nums):\n",
    "    a, rank = sum([1 for i in range(6) if lottos[i] in win_nums]), {6:1,5:2,4:3,3:4,2:5,1:6,0:6}\n",
    "    return [rank[a+lottos.count(0)],rank[a]]"
   ]
  }
 ],
 "metadata": {
  "kernelspec": {
   "display_name": "Python 3",
   "language": "python",
   "name": "python3"
  },
  "language_info": {
   "codemirror_mode": {
    "name": "ipython",
    "version": 3
   },
   "file_extension": ".py",
   "mimetype": "text/x-python",
   "name": "python",
   "nbconvert_exporter": "python",
   "pygments_lexer": "ipython3",
   "version": "3.7.9"
  }
 },
 "nbformat": 4,
 "nbformat_minor": 5
}
