{
 "cells": [
  {
   "cell_type": "markdown",
   "id": "accurate-cancer",
   "metadata": {},
   "source": [
    "https://programmers.co.kr/learn/courses/30/lessons/42627"
   ]
  },
  {
   "cell_type": "code",
   "execution_count": 31,
   "id": "unlikely-papua",
   "metadata": {},
   "outputs": [
    {
     "data": {
      "text/plain": [
       "5"
      ]
     },
     "execution_count": 31,
     "metadata": {},
     "output_type": "execute_result"
    }
   ],
   "source": [
    "import heapq\n",
    "def solution(jobs):\n",
    "    job = [[i[1],i[0]] for i in jobs]\n",
    "    now, time, l = 0, 0, len(jobs)\n",
    "    heapq.heapify(job)\n",
    "    heapq.heapify(jobs)\n",
    "    while job:\n",
    "        j = [i for i in job if i[1] <= now]\n",
    "        heapq.heapify(j)\n",
    "        if j != []:\n",
    "            k = heapq.heappop(j)\n",
    "            job.remove(k)\n",
    "            jobs.remove([k[1],k[0]])\n",
    "            time += now - k[1] + k[0]\n",
    "            now += k[0]\n",
    "        else:\n",
    "            k = heapq.heappop(jobs)\n",
    "            job.remove([k[1],k[0]])\n",
    "            time += k[1]\n",
    "            now += k[0] - now + k[1]\n",
    "    return time//l\n",
    "solution([[0, 5], [2, 2], [4, 2]])"
   ]
  }
 ],
 "metadata": {
  "kernelspec": {
   "display_name": "Python 3",
   "language": "python",
   "name": "python3"
  },
  "language_info": {
   "codemirror_mode": {
    "name": "ipython",
    "version": 3
   },
   "file_extension": ".py",
   "mimetype": "text/x-python",
   "name": "python",
   "nbconvert_exporter": "python",
   "pygments_lexer": "ipython3",
   "version": "3.7.9"
  }
 },
 "nbformat": 4,
 "nbformat_minor": 5
}
