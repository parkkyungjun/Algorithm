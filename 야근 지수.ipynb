{
 "cells": [
  {
   "cell_type": "markdown",
   "id": "compressed-brunei",
   "metadata": {},
   "source": [
    "https://programmers.co.kr/learn/courses/30/lessons/12927"
   ]
  },
  {
   "cell_type": "code",
   "execution_count": 32,
   "id": "manufactured-luxury",
   "metadata": {},
   "outputs": [
    {
     "data": {
      "text/plain": [
       "12"
      ]
     },
     "execution_count": 32,
     "metadata": {},
     "output_type": "execute_result"
    }
   ],
   "source": [
    "import heapq\n",
    "def solution(n, works):\n",
    "    if sum(works) - n <= 0: return 0\n",
    "    max_heap = []\n",
    "    for i in works:\n",
    "        heapq.heappush(max_heap, [-i, i])\n",
    "    while n !=0:\n",
    "        a = heapq.heappop(max_heap)\n",
    "        heapq.heappush(max_heap,[-a[1]+1,a[1]-1])\n",
    "        n -= 1\n",
    "    return sum([i[1]**2 for i in max_heap])\n",
    "solution(4,[4, 3, 3])"
   ]
  }
 ],
 "metadata": {
  "kernelspec": {
   "display_name": "Python 3",
   "language": "python",
   "name": "python3"
  },
  "language_info": {
   "codemirror_mode": {
    "name": "ipython",
    "version": 3
   },
   "file_extension": ".py",
   "mimetype": "text/x-python",
   "name": "python",
   "nbconvert_exporter": "python",
   "pygments_lexer": "ipython3",
   "version": "3.7.9"
  }
 },
 "nbformat": 4,
 "nbformat_minor": 5
}
