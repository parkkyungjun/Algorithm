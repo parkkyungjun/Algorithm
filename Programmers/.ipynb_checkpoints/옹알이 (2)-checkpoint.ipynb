{
 "cells": [
  {
   "cell_type": "markdown",
   "id": "dd51140b",
   "metadata": {},
   "source": [
    "https://school.programmers.co.kr/learn/courses/30/lessons/133499"
   ]
  },
  {
   "cell_type": "code",
   "execution_count": 6,
   "id": "e684c04d",
   "metadata": {},
   "outputs": [
    {
     "data": {
      "text/plain": [
       "2"
      ]
     },
     "execution_count": 6,
     "metadata": {},
     "output_type": "execute_result"
    }
   ],
   "source": [
    "def solution(babbling):\n",
    "    cnt = 0\n",
    "    for i in babbling:\n",
    "        b = ''\n",
    "        while True:\n",
    "            if i[:3] == 'aya' and b != 'aya':\n",
    "                i = i[3:]\n",
    "                b = 'aya'\n",
    "            elif i[:2] == 'ye' and b != 'ye':\n",
    "                i = i[2:]\n",
    "                b = 'ye'\n",
    "            elif i[:3] == 'woo' and b != 'woo':\n",
    "                i = i[3:]\n",
    "                b = 'woo'\n",
    "            elif i[:2] == 'ma' and b != 'ma':\n",
    "                i = i[2:]\n",
    "                b = 'ma'\n",
    "            else:\n",
    "                break\n",
    "            if i == '':\n",
    "                cnt += 1\n",
    "                break\n",
    "            \n",
    "    return cnt\n",
    "solution([\"ayaye\", \"uuu\", \"yeye\", \"yemawoo\", \"ayaayaa\"])"
   ]
  }
 ],
 "metadata": {
  "kernelspec": {
   "display_name": "Python 3 (ipykernel)",
   "language": "python",
   "name": "python3"
  },
  "language_info": {
   "codemirror_mode": {
    "name": "ipython",
    "version": 3
   },
   "file_extension": ".py",
   "mimetype": "text/x-python",
   "name": "python",
   "nbconvert_exporter": "python",
   "pygments_lexer": "ipython3",
   "version": "3.9.12"
  }
 },
 "nbformat": 4,
 "nbformat_minor": 5
}
