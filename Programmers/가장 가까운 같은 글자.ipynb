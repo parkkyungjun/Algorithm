{
 "cells": [
  {
   "cell_type": "markdown",
   "id": "f0497a18",
   "metadata": {},
   "source": [
    "https://school.programmers.co.kr/learn/courses/30/lessons/142086"
   ]
  },
  {
   "cell_type": "code",
   "execution_count": null,
   "id": "4974906a",
   "metadata": {},
   "outputs": [],
   "source": [
    "def solution(s):\n",
    "    a, b = {i:-1 for i in set(list(s))}, [-1]*len(s)\n",
    "    \n",
    "    for index, i in enumerate(list(s)):\n",
    "        if a[i] != -1:\n",
    "            a[i], b[index]  = index, index - a[i]\n",
    "        else:\n",
    "            a[i] = index\n",
    "            \n",
    "    return b"
   ]
  }
 ],
 "metadata": {
  "kernelspec": {
   "display_name": "Python 3 (ipykernel)",
   "language": "python",
   "name": "python3"
  },
  "language_info": {
   "codemirror_mode": {
    "name": "ipython",
    "version": 3
   },
   "file_extension": ".py",
   "mimetype": "text/x-python",
   "name": "python",
   "nbconvert_exporter": "python",
   "pygments_lexer": "ipython3",
   "version": "3.9.12"
  }
 },
 "nbformat": 4,
 "nbformat_minor": 5
}
