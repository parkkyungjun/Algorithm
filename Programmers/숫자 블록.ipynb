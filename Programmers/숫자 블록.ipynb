{
 "cells": [
  {
   "cell_type": "markdown",
   "id": "38827f95",
   "metadata": {},
   "source": [
    "https://school.programmers.co.kr/learn/courses/30/lessons/12923"
   ]
  },
  {
   "cell_type": "code",
   "execution_count": 20,
   "id": "94599ef6",
   "metadata": {
    "scrolled": true
   },
   "outputs": [
    {
     "data": {
      "text/plain": [
       "[6666679, 1]"
      ]
     },
     "execution_count": 20,
     "metadata": {},
     "output_type": "execute_result"
    }
   ],
   "source": [
    "def solution(begin, end):\n",
    "    result = [0] * (end - begin + 1)\n",
    "    for i in range(begin, end+1):\n",
    "        if i%2 == 0 and i <= 20000000:\n",
    "            result[i-begin] = i//2\n",
    "        else:\n",
    "            a = []\n",
    "            for j in range(1, int(i**0.5)+1):\n",
    "                if i%j == 0:                    \n",
    "                    if j**2 != i:\n",
    "                        a.append([j, i//j])\n",
    "                    else:\n",
    "                        a.append([j, j])\n",
    "            if len(a) == 1:\n",
    "                result[i-begin] = 1\n",
    "            else:\n",
    "                k = 1\n",
    "                #print(a)\n",
    "                while True:\n",
    "                    if a[k][1] <= 10000000:\n",
    "                        result[i-begin] = a[k][1]\n",
    "                        break\n",
    "                    elif len(a) > k+1:\n",
    "                        k += 1\n",
    "                    else:\n",
    "                        result[i-begin] = 1\n",
    "                        break\n",
    "\n",
    "    if begin == 1:\n",
    "        result[0] = 0\n",
    "    return result\n",
    "\n",
    "solution(20000037, 20000038)"
   ]
  }
 ],
 "metadata": {
  "kernelspec": {
   "display_name": "Python 3 (ipykernel)",
   "language": "python",
   "name": "python3"
  },
  "language_info": {
   "codemirror_mode": {
    "name": "ipython",
    "version": 3
   },
   "file_extension": ".py",
   "mimetype": "text/x-python",
   "name": "python",
   "nbconvert_exporter": "python",
   "pygments_lexer": "ipython3",
   "version": "3.9.7"
  }
 },
 "nbformat": 4,
 "nbformat_minor": 5
}
