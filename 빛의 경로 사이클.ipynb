{
 "cells": [
  {
   "cell_type": "code",
   "execution_count": 25,
   "id": "df5fa8d4",
   "metadata": {},
   "outputs": [
    {
     "data": {
      "text/plain": [
       "[1, 1, 1, 1, 2, 2]"
      ]
     },
     "execution_count": 25,
     "metadata": {},
     "output_type": "execute_result"
    }
   ],
   "source": [
    "def c(d):\n",
    "    a,b = d\n",
    "    if [a,b] == [1,0] : return [0,1]\n",
    "    elif [a,b] == [-1,0] : return [0,-1]\n",
    "    elif [a,b] == [0,1] : return [-1,0]\n",
    "    else: return [1,0]\n",
    "\n",
    "\n",
    "def solution(grid):\n",
    "    q = [[1,0],[-1,0],[0,1],[0,-1]]\n",
    "    \n",
    "    s = []\n",
    "    for i in range(len(grid)):\n",
    "        for j in range(len(grid[0])):\n",
    "            for k in q:\n",
    "                s.append([i,j] + k)\n",
    "\n",
    "    answer = []\n",
    "    visited = set()\n",
    "    for i in s:\n",
    "        y, x, d = i[0], i[1], i[2:]\n",
    "        cnt = 0\n",
    "        while True:\n",
    "            if (y, x, d[0], d[1]) in visited:\n",
    "                break\n",
    "            visited.add((y, x, d[0], d[1]))\n",
    "            y, x = y + d[0], x + d[1]\n",
    "            if y == len(grid):\n",
    "                y = 0\n",
    "            elif y < 0:\n",
    "                y = len(grid)-1\n",
    "            elif x == len(grid[0]):\n",
    "                x = 0\n",
    "            elif x < 0:\n",
    "                x = len(grid[0])-1\n",
    "\n",
    "            direction = grid[y][x]   \n",
    "            if  direction == 'L':\n",
    "                d = c(d)\n",
    "            elif direction == 'R':\n",
    "                d = c([-d[0],-d[1]])\n",
    "            \n",
    "            cnt += 1\n",
    "        if cnt != 0:\n",
    "            answer.append(cnt)\n",
    "            \n",
    "    return sorted(answer)"
   ]
  }
 ],
 "metadata": {
  "kernelspec": {
   "display_name": "Python 3 (ipykernel)",
   "language": "python",
   "name": "python3"
  },
  "language_info": {
   "codemirror_mode": {
    "name": "ipython",
    "version": 3
   },
   "file_extension": ".py",
   "mimetype": "text/x-python",
   "name": "python",
   "nbconvert_exporter": "python",
   "pygments_lexer": "ipython3",
   "version": "3.9.7"
  }
 },
 "nbformat": 4,
 "nbformat_minor": 5
}
