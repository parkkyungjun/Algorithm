{
 "cells": [
  {
   "cell_type": "markdown",
   "id": "5b191f82",
   "metadata": {},
   "source": [
    "https://school.programmers.co.kr/learn/courses/30/lessons/178870"
   ]
  },
  {
   "cell_type": "code",
   "execution_count": 27,
   "id": "dc7c32d4",
   "metadata": {},
   "outputs": [
    {
     "data": {
      "text/plain": [
       "[6, 6]"
      ]
     },
     "execution_count": 27,
     "metadata": {},
     "output_type": "execute_result"
    }
   ],
   "source": [
    "def solution(sequence, k):\n",
    "    end, l, v = 0, len(sequence), 0\n",
    "    answer = []\n",
    "    for i in range(l):\n",
    "        while v < k and end < l:\n",
    "            v += sequence[end]\n",
    "            end += 1\n",
    "        if v == k:\n",
    "            answer.append([i, end-1, end-i-1])\n",
    "        v -= sequence[i]\n",
    "\n",
    "    return sorted(answer, key=lambda x:x[2])[0][:2]\n",
    "\n",
    "solution([1, 1, 1, 2, 3, 4, 5], 5)\n",
    "#solution([2, 2, 2, 2, 2], 6)"
   ]
  }
 ],
 "metadata": {
  "kernelspec": {
   "display_name": "Python 3 (ipykernel)",
   "language": "python",
   "name": "python3"
  },
  "language_info": {
   "codemirror_mode": {
    "name": "ipython",
    "version": 3
   },
   "file_extension": ".py",
   "mimetype": "text/x-python",
   "name": "python",
   "nbconvert_exporter": "python",
   "pygments_lexer": "ipython3",
   "version": "3.7.9"
  }
 },
 "nbformat": 4,
 "nbformat_minor": 5
}
