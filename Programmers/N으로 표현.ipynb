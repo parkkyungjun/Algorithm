{
 "cells": [
  {
   "cell_type": "markdown",
   "id": "graduate-accommodation",
   "metadata": {},
   "source": [
    "https://programmers.co.kr/learn/courses/30/lessons/42895"
   ]
  },
  {
   "cell_type": "code",
   "execution_count": 35,
   "id": "double-newman",
   "metadata": {
    "scrolled": false
   },
   "outputs": [
    {
     "data": {
      "text/plain": [
       "7"
      ]
     },
     "execution_count": 35,
     "metadata": {},
     "output_type": "execute_result"
    }
   ],
   "source": [
    "from itertools import product\n",
    "from itertools import permutations\n",
    "def solution(N, number):\n",
    "    if N == number:\n",
    "        return 1\n",
    "    s = ['+','*','-','//','']\n",
    "    a = [[N]]\n",
    "    for i in range(2,9):\n",
    "        b = set()\n",
    "        for j in a[i-2]:\n",
    "            b.add(j*N)\n",
    "            b.add(j+N)\n",
    "            b.add(j-N)\n",
    "            b.add(j//N)\n",
    "        b.add(int(str(N)*i))\n",
    "        for k in range(len(a)):\n",
    "            for r in a[k]:\n",
    "                for z in product(s,repeat=i-k-1):\n",
    "                    c = [str(r)]\n",
    "                    for j in range(i-1-k):\n",
    "                        if z[0] !='':\n",
    "                            c.append(z[j])\n",
    "                            c.append(str(N))\n",
    "                    if c[0] !='0':\n",
    "                        o = eval(''.join(c))\n",
    "                        b.add(o)\n",
    "                    if o < 0:\n",
    "                        b.add(abs(o))\n",
    "                    #print(c)\n",
    "        if number in b:\n",
    "            return i\n",
    "        a.append(b)\n",
    "    return -1\n",
    "solution(1,1121)"
   ]
  }
 ],
 "metadata": {
  "kernelspec": {
   "display_name": "Python 3",
   "language": "python",
   "name": "python3"
  },
  "language_info": {
   "codemirror_mode": {
    "name": "ipython",
    "version": 3
   },
   "file_extension": ".py",
   "mimetype": "text/x-python",
   "name": "python",
   "nbconvert_exporter": "python",
   "pygments_lexer": "ipython3",
   "version": "3.7.9"
  }
 },
 "nbformat": 4,
 "nbformat_minor": 5
}
