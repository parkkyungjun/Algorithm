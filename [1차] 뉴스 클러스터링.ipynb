{
 "cells": [
  {
   "cell_type": "markdown",
   "id": "first-amber",
   "metadata": {},
   "source": [
    "https://programmers.co.kr/learn/courses/30/lessons/17677"
   ]
  },
  {
   "cell_type": "code",
   "execution_count": 62,
   "id": "based-outreach",
   "metadata": {
    "scrolled": true
   },
   "outputs": [
    {
     "name": "stdout",
     "output_type": "stream",
     "text": [
      "5 Counter({'fr': 1, 're': 1, 'en': 1, 'nc': 1, 'ch': 1})\n"
     ]
    },
    {
     "data": {
      "text/plain": [
       "16384"
      ]
     },
     "execution_count": 62,
     "metadata": {},
     "output_type": "execute_result"
    }
   ],
   "source": [
    "import re\n",
    "from collections import Counter\n",
    "def solution(str1, str2):\n",
    "    str1,str2,str_1, str_2 = str1.lower(), str2.lower(), [], []\n",
    "    p = re.compile('[a-zA-Z]{2}')\n",
    "    for i in range(len(str1) -1):\n",
    "        str_1 += p.findall(str1[i:i+2])\n",
    "    for i in range(len(str2) -1):\n",
    "        str_2 += p.findall(str2[i:i+2])\n",
    "    if str_1 == [] or str_2 == []:\n",
    "        return 65536\n",
    "    count_1 = Counter(str_1)\n",
    "    count_2 = Counter(str_2)\n",
    "    #print(sum(count_1.values()),count_2)\n",
    "    return  int(65536*len(list((count_1 & count_2).elements()))/\\\n",
    "len(list((count_1 | count_2).elements())))\n",
    "solution('FRANCE','french')"
   ]
  }
 ],
 "metadata": {
  "kernelspec": {
   "display_name": "Python 3",
   "language": "python",
   "name": "python3"
  },
  "language_info": {
   "codemirror_mode": {
    "name": "ipython",
    "version": 3
   },
   "file_extension": ".py",
   "mimetype": "text/x-python",
   "name": "python",
   "nbconvert_exporter": "python",
   "pygments_lexer": "ipython3",
   "version": "3.7.9"
  }
 },
 "nbformat": 4,
 "nbformat_minor": 5
}
