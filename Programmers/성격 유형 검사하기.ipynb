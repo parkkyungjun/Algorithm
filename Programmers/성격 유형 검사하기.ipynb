{
 "cells": [
  {
   "cell_type": "markdown",
   "id": "4fa4abaa",
   "metadata": {},
   "source": [
    "https://school.programmers.co.kr/learn/courses/30/lessons/118666?language=python3"
   ]
  },
  {
   "cell_type": "code",
   "execution_count": 4,
   "id": "237a6563",
   "metadata": {},
   "outputs": [
    {
     "data": {
      "text/plain": [
       "'TCMN'"
      ]
     },
     "execution_count": 4,
     "metadata": {},
     "output_type": "execute_result"
    }
   ],
   "source": [
    "from collections import defaultdict\n",
    "def solution(survey, choices):\n",
    "    dic = defaultdict(int)\n",
    "    answer = ''\n",
    "    for i, v in enumerate(survey):\n",
    "        if choices[i] > 4:\n",
    "            dic[v[1]] += abs(choices[i]-4)\n",
    "        else:\n",
    "            dic[v[0]] += abs(choices[i]-4)\n",
    "            \n",
    "    if dic['R'] >= dic['T']:\n",
    "        answer += 'R'\n",
    "    else:\n",
    "        answer += 'T'   \n",
    "    if dic['C'] >= dic['F']:\n",
    "        answer += 'C'\n",
    "    else:\n",
    "        answer += 'F'\n",
    "    if dic['J'] >= dic['M']:\n",
    "        answer += 'J'\n",
    "    else:\n",
    "        answer += 'M'\n",
    "    if dic['A'] >= dic['N']:\n",
    "        answer += 'A'\n",
    "    else:\n",
    "        answer += 'N'\n",
    "        \n",
    "    return answer"
   ]
  }
 ],
 "metadata": {
  "kernelspec": {
   "display_name": "Python 3 (ipykernel)",
   "language": "python",
   "name": "python3"
  },
  "language_info": {
   "codemirror_mode": {
    "name": "ipython",
    "version": 3
   },
   "file_extension": ".py",
   "mimetype": "text/x-python",
   "name": "python",
   "nbconvert_exporter": "python",
   "pygments_lexer": "ipython3",
   "version": "3.7.9"
  }
 },
 "nbformat": 4,
 "nbformat_minor": 5
}
