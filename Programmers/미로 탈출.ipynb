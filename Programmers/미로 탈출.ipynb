{
 "cells": [
  {
   "cell_type": "markdown",
   "metadata": {},
   "source": [
    "https://school.programmers.co.kr/learn/courses/30/lessons/159993"
   ]
  },
  {
   "cell_type": "code",
   "execution_count": 32,
   "metadata": {},
   "outputs": [
    {
     "data": {
      "text/plain": [
       "14"
      ]
     },
     "execution_count": 32,
     "metadata": {},
     "output_type": "execute_result"
    }
   ],
   "source": [
    "from collections import deque\n",
    "def E(maps, S, E):\n",
    "    my, mx = len(maps), len(maps[0])\n",
    "    visited = [[-1 for i in range(mx)] for j in range(my)]\n",
    "    for i in range(my):\n",
    "        for j in range(mx):\n",
    "            if maps[i][j] == S:\n",
    "                start = [i, j]\n",
    "    visited[start[0]][start[1]] = 0\n",
    "    move = [[0, 1], [1, 0], [-1, 0], [0, -1]]\n",
    "    l = deque([[start[0], start[1]]])\n",
    "    while l:\n",
    "        n = l.popleft()\n",
    "        for i in move:\n",
    "            y, x = n[0]+i[0], n[1]+i[1]\n",
    "            if 0 <= y < my and 0 <= x < mx:\n",
    "                if maps[y][x] != 'X' and visited[y][x] == -1:\n",
    "                    visited[y][x] = visited[n[0]][n[1]] + 1\n",
    "                    l.append([y,x])\n",
    "                    if maps[y][x] == E:\n",
    "                        return visited[n[0]][n[1]] + 1\n",
    "    return -1\n",
    "\n",
    "def solution(maps):\n",
    "    l, e = E(maps, 'S', 'L') , E(maps, 'L', 'E')\n",
    "    if l != -1 and e != -1:\n",
    "        return l + e\n",
    "    else:\n",
    "        return -1\n",
    "solution([\"OOOOOL\", \"OXOXOO\", \"OOSXOX\", \"OXXXOX\", \"EOOOOX\"])"
   ]
  }
 ],
 "metadata": {
  "kernelspec": {
   "display_name": "Python 3.11.1 64-bit",
   "language": "python",
   "name": "python3"
  },
  "language_info": {
   "codemirror_mode": {
    "name": "ipython",
    "version": 3
   },
   "file_extension": ".py",
   "mimetype": "text/x-python",
   "name": "python",
   "nbconvert_exporter": "python",
   "pygments_lexer": "ipython3",
   "version": "3.11.1"
  },
  "orig_nbformat": 4,
  "vscode": {
   "interpreter": {
    "hash": "5c7b89af1651d0b8571dde13640ecdccf7d5a6204171d6ab33e7c296e100e08a"
   }
  }
 },
 "nbformat": 4,
 "nbformat_minor": 2
}
