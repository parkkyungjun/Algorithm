{
 "cells": [
  {
   "cell_type": "markdown",
   "id": "elegant-course",
   "metadata": {},
   "source": [
    "https://programmers.co.kr/learn/courses/30/lessons/49191"
   ]
  },
  {
   "cell_type": "code",
   "execution_count": null,
   "id": "possible-abortion",
   "metadata": {},
   "outputs": [],
   "source": [
    "def solution(n, results):\n",
    "    record = {i:set() for i in range(1,n+1)}\n",
    "        \n",
    "    for i in result:\n",
    "        \n",
    "    return answer"
   ]
  }
 ],
 "metadata": {
  "kernelspec": {
   "display_name": "Python 3",
   "language": "python",
   "name": "python3"
  },
  "language_info": {
   "codemirror_mode": {
    "name": "ipython",
    "version": 3
   },
   "file_extension": ".py",
   "mimetype": "text/x-python",
   "name": "python",
   "nbconvert_exporter": "python",
   "pygments_lexer": "ipython3",
   "version": "3.7.9"
  }
 },
 "nbformat": 4,
 "nbformat_minor": 5
}
