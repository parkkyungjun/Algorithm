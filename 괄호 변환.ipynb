{
 "cells": [
  {
   "cell_type": "markdown",
   "id": "basic-fossil",
   "metadata": {},
   "source": [
    "https://programmers.co.kr/learn/courses/30/lessons/60058"
   ]
  },
  {
   "cell_type": "markdown",
   "id": "supposed-sheep",
   "metadata": {},
   "source": [
    "* 1. 입력이 빈 문자열인 경우, 빈 문자열을 반환합니다. \n",
    "* 2. 문자열 w를 두 \"균형잡힌 괄호 문자열\" u, v로 분리합니다. 단, u는 \"균형잡힌 괄호 문자열\"로 더 이상 분리할 수 없어야 하며, v는 빈 문자열이 될 수 있습니다. \n",
    "* 3. 문자열 u가 \"올바른 괄호 문자열\" 이라면 문자열 v에 대해 1단계부터 다시 수행합니다. \n",
    "*  3-1. 수행한 결과 문자열을 u에 이어 붙인 후 반환합니다. \n",
    "* 4. 문자열 u가 \"올바른 괄호 문자열\"이 아니라면 아래 과정을 수행합니다. \n",
    "* 4-1. 빈 문자열에 첫 번째 문자로 '('를 붙입니다. \n",
    "*  4-2. 문자열 v에 대해 1단계부터 재귀적으로 수행한 결과 문자열을 이어 붙입니다. \n",
    "*  4-3. ')'를 다시 붙입니다. \n",
    "*  4-4. u의 첫 번째와 마지막 문자를 제거하고, 나머지 문자열의 괄호 방향을 뒤집어서 뒤에 붙입니다. \n",
    "*  4-5. 생성된 문자열을 반환합니다."
   ]
  },
  {
   "cell_type": "code",
   "execution_count": 19,
   "id": "sublime-territory",
   "metadata": {
    "scrolled": true
   },
   "outputs": [],
   "source": [
    "def solution(p):\n",
    "    def division(w):\n",
    "        l,r = 0,0\n",
    "        for i in range(len(w)):\n",
    "            if w[i] == '(':\n",
    "                r += 1\n",
    "            else:\n",
    "                l += 1\n",
    "            if l == r:\n",
    "                break\n",
    "        return w[:i+1], w[i+1:]\n",
    "    def borr(w):\n",
    "        l = 0\n",
    "        for i in range(len(w)):\n",
    "            if w[i] == '(':\n",
    "                l += 1\n",
    "            else:\n",
    "                l -= 1\n",
    "            if l < 0:\n",
    "                return False\n",
    "        return True\n",
    "\n",
    "    if p == '':\n",
    "        return ''\n",
    "    u,v = division(p)\n",
    "    if borr(u):\n",
    "        return u + solution(v)\n",
    "    else:\n",
    "        answer = '(' \n",
    "        answer += solution(v) \n",
    "        answer += ')'\n",
    "        u = u[1:-1]\n",
    "        for i in range(len(u)):\n",
    "            if u[i] == '(':\n",
    "                answer += ')'\n",
    "            else:\n",
    "                answer += '('\n",
    "        return answer"
   ]
  }
 ],
 "metadata": {
  "kernelspec": {
   "display_name": "Python 3",
   "language": "python",
   "name": "python3"
  },
  "language_info": {
   "codemirror_mode": {
    "name": "ipython",
    "version": 3
   },
   "file_extension": ".py",
   "mimetype": "text/x-python",
   "name": "python",
   "nbconvert_exporter": "python",
   "pygments_lexer": "ipython3",
   "version": "3.7.9"
  }
 },
 "nbformat": 4,
 "nbformat_minor": 5
}
