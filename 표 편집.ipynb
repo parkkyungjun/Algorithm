{
 "cells": [
  {
   "cell_type": "markdown",
   "id": "difficult-worst",
   "metadata": {},
   "source": [
    "https://programmers.co.kr/learn/courses/30/lessons/81303"
   ]
  },
  {
   "cell_type": "code",
   "execution_count": 93,
   "id": "strategic-novel",
   "metadata": {},
   "outputs": [],
   "source": [
    "def solution(n, k, cmd):\n",
    "    o = [i for i in range(n)]\n",
    "    memory = []\n",
    "    for i in range(len(cmd)):\n",
    "        a = 0\n",
    "        if cmd[i][0] == \"U\":\n",
    "            while(a != int(cmd[i][2:])):\n",
    "                k -= 1\n",
    "                if o[k] != \"X\":\n",
    "                    a += 1\n",
    "        elif cmd[i][0] == \"D\":\n",
    "            while(a != int(cmd[i][2:])):\n",
    "                k += 1\n",
    "                if o[k] != \"X\":\n",
    "                    a += 1\n",
    "        elif cmd[i][0] == \"C\":\n",
    "            memory.append(o[k])\n",
    "            o[k] = \"X\"\n",
    "            if n-1 == k :\n",
    "                while(a != 1):\n",
    "                    k -= 1\n",
    "                    if o[k] != \"X\":\n",
    "                        a += 1\n",
    "            else:\n",
    "                while(a != 1):\n",
    "                    k += 1\n",
    "                    if o[k] != \"X\":\n",
    "                        a += 1\n",
    "        else:\n",
    "            o[memory[-1]] = memory[-1]\n",
    "            memory.pop()\n",
    "    return ''.join([\"O\" if i != \"X\" else \"X\" for i in o])"
   ]
  },
  {
   "cell_type": "code",
   "execution_count": 94,
   "id": "close-pressing",
   "metadata": {
    "scrolled": true
   },
   "outputs": [
    {
     "name": "stdout",
     "output_type": "stream",
     "text": [
      "[0, 1, 2, 3, 4, 5, 6, 7] 4\n",
      "[0, 1, 2, 3, 'X', 5, 6, 7] 5\n",
      "[0, 1, 2, 3, 'X', 5, 6, 7] 1\n",
      "[0, 'X', 2, 3, 'X', 5, 6, 7] 2\n",
      "[0, 'X', 2, 3, 'X', 5, 6, 7] 7\n",
      "[0, 'X', 2, 3, 'X', 5, 6, 'X'] 6\n",
      "[0, 'X', 2, 3, 'X', 5, 6, 'X'] 3\n",
      "[0, 'X', 2, 3, 'X', 5, 6, 7] 3\n",
      "[0, 1, 2, 3, 'X', 5, 6, 7] 3\n"
     ]
    },
    {
     "data": {
      "text/plain": [
       "'OOOOXOOO'"
      ]
     },
     "execution_count": 94,
     "metadata": {},
     "output_type": "execute_result"
    }
   ],
   "source": [
    "solution(8,2,[\"D 2\",\"C\",\"U 3\",\"C\",\"D 4\",\"C\",\"U 2\",\"Z\",\"Z\"])"
   ]
  },
  {
   "cell_type": "code",
   "execution_count": 25,
   "id": "progressive-collector",
   "metadata": {},
   "outputs": [],
   "source": [
    "A = [1,2,3,4]\n",
    "left = 0\n",
    "right = len(o)-1\n",
    "target = memory[-1]\n",
    "while 1:\n",
    "    if A[right] < target:\n",
    "        A.append(target)\n",
    "        break\n",
    "    elif A[left] > target:\n",
    "        A.insert(0,target)\n",
    "        break\n",
    "    mid = (left + right)//2\n",
    "    if A[mid] > target:\n",
    "        right = mid \n",
    "    elif A[mid] < target:\n",
    "        left = mid\n",
    "    if right - mid == 1:\n",
    "        A.insert(mid+1,target)\n",
    "        break\n",
    "    elif mid - left == 1:\n",
    "        A.insert(mid-1,target)\n",
    "        break"
   ]
  },
  {
   "cell_type": "code",
   "execution_count": 26,
   "id": "accessory-bradford",
   "metadata": {},
   "outputs": [
    {
     "data": {
      "text/plain": [
       "[1, 2, 3, 4, 5]"
      ]
     },
     "execution_count": 26,
     "metadata": {},
     "output_type": "execute_result"
    }
   ],
   "source": [
    "A"
   ]
  },
  {
   "cell_type": "code",
   "execution_count": null,
   "id": "loving-brass",
   "metadata": {},
   "outputs": [],
   "source": []
  }
 ],
 "metadata": {
  "kernelspec": {
   "display_name": "Python 3",
   "language": "python",
   "name": "python3"
  },
  "language_info": {
   "codemirror_mode": {
    "name": "ipython",
    "version": 3
   },
   "file_extension": ".py",
   "mimetype": "text/x-python",
   "name": "python",
   "nbconvert_exporter": "python",
   "pygments_lexer": "ipython3",
   "version": "3.7.9"
  }
 },
 "nbformat": 4,
 "nbformat_minor": 5
}
