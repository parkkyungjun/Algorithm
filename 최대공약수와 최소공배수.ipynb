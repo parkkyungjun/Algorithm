{
 "cells": [
  {
   "cell_type": "markdown",
   "id": "dependent-poland",
   "metadata": {},
   "source": [
    "* 문제 설명\n",
    "* 두 수를 입력받아 두 수의 최대공약수와 최소공배수를 반환하는 함수, solution을 완성해 보세요. 배열의 맨 앞에 최대공약수, 그다음 최소공배수를 넣어 반환하면 됩니다. 예를 들어 두 수 3, 12의 최대공약수는 3, 최소공배수는 12이므로 solution(3, 12)는 [3, 12]를 반환해야 합니다.\n",
    "\n",
    "* 제한 사항\n",
    "* 두 수는 1이상 1000000이하의 자연수입니다."
   ]
  },
  {
   "cell_type": "code",
   "execution_count": 18,
   "id": "invisible-insulation",
   "metadata": {
    "scrolled": true
   },
   "outputs": [
    {
     "data": {
      "text/plain": [
       "[1, 10]"
      ]
     },
     "execution_count": 18,
     "metadata": {},
     "output_type": "execute_result"
    }
   ],
   "source": [
    "def solution(n, m):\n",
    "    def divisor(n,m):\n",
    "        dn = []\n",
    "        dm = []\n",
    "        for i in range(1,int(n**0.5)+1):\n",
    "            if n%i == 0:\n",
    "                dn.append(i)\n",
    "                dn.append(n//i)\n",
    "        for i in range(1,int(m**0.5)+1):\n",
    "            if m%i == 0:\n",
    "                dm.append(i)\n",
    "                dm.append(m//i)\n",
    "        return max(set(dm) & set(dn))\n",
    "    def max_multiple(n,m):\n",
    "        N = []\n",
    "        M = []\n",
    "        for i in range(1,m+1):\n",
    "            N.append(n*i)\n",
    "        for i in range(1,n+1):\n",
    "            M.append(m*i)\n",
    "        return min(set(N) & set(M))\n",
    "    return [divisor(n,m),max_multiple(n,m)]\n",
    "solution(2,5)"
   ]
  }
 ],
 "metadata": {
  "kernelspec": {
   "display_name": "Python 3",
   "language": "python",
   "name": "python3"
  },
  "language_info": {
   "codemirror_mode": {
    "name": "ipython",
    "version": 3
   },
   "file_extension": ".py",
   "mimetype": "text/x-python",
   "name": "python",
   "nbconvert_exporter": "python",
   "pygments_lexer": "ipython3",
   "version": "3.7.9"
  }
 },
 "nbformat": 4,
 "nbformat_minor": 5
}
