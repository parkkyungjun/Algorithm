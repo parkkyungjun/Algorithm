{
 "cells": [
  {
   "cell_type": "markdown",
   "id": "female-roman",
   "metadata": {},
   "source": [
    "* 문제 설명\n",
    "* 정수 num이 짝수일 경우 \"Even\"을 반환하고 홀수인 경우 \"Odd\"를 반환하는 함수, solution을 완성해주세요.\n",
    "\n",
    "* 제한 조건\n",
    "* num은 int 범위의 정수입니다.\n",
    "* 0은 짝수입니다."
   ]
  },
  {
   "cell_type": "code",
   "execution_count": null,
   "id": "verbal-sensitivity",
   "metadata": {},
   "outputs": [],
   "source": [
    "def solution(num):\n",
    "    return [\"Even\", \"Odd\"][num & 1]"
   ]
  }
 ],
 "metadata": {
  "kernelspec": {
   "display_name": "Python 3",
   "language": "python",
   "name": "python3"
  },
  "language_info": {
   "codemirror_mode": {
    "name": "ipython",
    "version": 3
   },
   "file_extension": ".py",
   "mimetype": "text/x-python",
   "name": "python",
   "nbconvert_exporter": "python",
   "pygments_lexer": "ipython3",
   "version": "3.7.9"
  }
 },
 "nbformat": 4,
 "nbformat_minor": 5
}
