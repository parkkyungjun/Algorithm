{
 "cells": [
  {
   "cell_type": "markdown",
   "id": "legislative-bandwidth",
   "metadata": {},
   "source": [
    "https://programmers.co.kr/learn/courses/30/lessons/12980"
   ]
  },
  {
   "cell_type": "code",
   "execution_count": null,
   "id": "bridal-certificate",
   "metadata": {
    "scrolled": true
   },
   "outputs": [],
   "source": [
    "def solution(n):\n",
    "    k = 1\n",
    "    if n == 1:\n",
    "        return 1\n",
    "    while n !=2:\n",
    "        if n%2 ==1:\n",
    "            n -= 1\n",
    "            k += 1\n",
    "            if n == 2:\n",
    "                break\n",
    "        n = n/2\n",
    "\n",
    "    return k\n",
    "solution(1)\n"
   ]
  },
  {
   "cell_type": "code",
   "execution_count": null,
   "id": "altered-machine",
   "metadata": {},
   "outputs": [],
   "source": [
    "1 2 4\n",
    "6 3 4 2 1\n",
    "5 "
   ]
  }
 ],
 "metadata": {
  "kernelspec": {
   "display_name": "Python 3",
   "language": "python",
   "name": "python3"
  },
  "language_info": {
   "codemirror_mode": {
    "name": "ipython",
    "version": 3
   },
   "file_extension": ".py",
   "mimetype": "text/x-python",
   "name": "python",
   "nbconvert_exporter": "python",
   "pygments_lexer": "ipython3",
   "version": "3.7.9"
  }
 },
 "nbformat": 4,
 "nbformat_minor": 5
}
