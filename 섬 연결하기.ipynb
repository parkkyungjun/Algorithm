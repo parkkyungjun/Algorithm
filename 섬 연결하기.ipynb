{
 "cells": [
  {
   "cell_type": "markdown",
   "id": "supposed-reducing",
   "metadata": {},
   "source": [
    "https://programmers.co.kr/learn/courses/30/lessons/42861#"
   ]
  },
  {
   "cell_type": "code",
   "execution_count": 23,
   "id": "corporate-tyler",
   "metadata": {},
   "outputs": [
    {
     "data": {
      "text/plain": [
       "4"
      ]
     },
     "execution_count": 23,
     "metadata": {},
     "output_type": "execute_result"
    }
   ],
   "source": [
    "import heapq\n",
    "def solution(n, costs):\n",
    "    a,b = [0],[]\n",
    "    c = [[z,x,y] for x,y,z in costs]\n",
    "    k = 0\n",
    "    line = []\n",
    "    while len(b) != n-1:\n",
    "        for i in c:\n",
    "            if i[1] == k or i[2] == k:\n",
    "                if i[1] not in a or i[2] not in a:\n",
    "                    if i not in line:\n",
    "                        heapq.heappush(line,i)\n",
    "        q = heapq.heappop(line)\n",
    "        while True:\n",
    "            if q[1] in a and q[2] in a:\n",
    "                q = heapq.heappop(line)\n",
    "            else:\n",
    "                break\n",
    "        if q[1] not in a:\n",
    "            k = q[1]\n",
    "        else: \n",
    "            k = q[2]\n",
    "        a.append(q[1])\n",
    "        a.append(q[2])\n",
    "        b.append(q[0])\n",
    "        c.remove(q)\n",
    "    return sum(b)\n",
    "solution(4,[[0, 1, 1], [0, 2, 2], [1, 2, 5], [1, 3, 1], [2, 3, 8]])"
   ]
  }
 ],
 "metadata": {
  "kernelspec": {
   "display_name": "Python 3",
   "language": "python",
   "name": "python3"
  },
  "language_info": {
   "codemirror_mode": {
    "name": "ipython",
    "version": 3
   },
   "file_extension": ".py",
   "mimetype": "text/x-python",
   "name": "python",
   "nbconvert_exporter": "python",
   "pygments_lexer": "ipython3",
   "version": "3.7.9"
  }
 },
 "nbformat": 4,
 "nbformat_minor": 5
}
