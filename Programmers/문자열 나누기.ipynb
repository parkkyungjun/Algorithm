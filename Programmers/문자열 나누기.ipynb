{
 "cells": [
  {
   "cell_type": "markdown",
   "id": "8c3e602a",
   "metadata": {},
   "source": [
    "https://school.programmers.co.kr/learn/courses/30/lessons/140108"
   ]
  },
  {
   "cell_type": "code",
   "execution_count": 2,
   "id": "91cac0e5",
   "metadata": {},
   "outputs": [
    {
     "data": {
      "text/plain": [
       "6"
      ]
     },
     "execution_count": 2,
     "metadata": {},
     "output_type": "execute_result"
    }
   ],
   "source": [
    "def solution(s):\n",
    "    a, b, x, cnt = 0, 0, '', 0\n",
    "    for i in list(s):\n",
    "        if a == 0:\n",
    "            x = i\n",
    "        if i == x:\n",
    "            a += 1\n",
    "        else:\n",
    "            b += 1\n",
    "        if a == b:\n",
    "            cnt += 1\n",
    "            a, b = 0, 0\n",
    "    if a != 0:\n",
    "        cnt += 1\n",
    "    return cnt\n",
    "\n",
    "solution(\"abracadabra\")"
   ]
  }
 ],
 "metadata": {
  "kernelspec": {
   "display_name": "Python 3 (ipykernel)",
   "language": "python",
   "name": "python3"
  },
  "language_info": {
   "codemirror_mode": {
    "name": "ipython",
    "version": 3
   },
   "file_extension": ".py",
   "mimetype": "text/x-python",
   "name": "python",
   "nbconvert_exporter": "python",
   "pygments_lexer": "ipython3",
   "version": "3.9.12"
  }
 },
 "nbformat": 4,
 "nbformat_minor": 5
}
