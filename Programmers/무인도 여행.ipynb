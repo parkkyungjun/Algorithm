{
 "cells": [
  {
   "cell_type": "markdown",
   "metadata": {},
   "source": [
    "https://school.programmers.co.kr/learn/courses/30/lessons/154540"
   ]
  },
  {
   "cell_type": "code",
   "execution_count": 26,
   "metadata": {},
   "outputs": [
    {
     "data": {
      "text/plain": [
       "[1, 1, 27]"
      ]
     },
     "execution_count": 26,
     "metadata": {},
     "output_type": "execute_result"
    }
   ],
   "source": [
    "from collections import deque\n",
    "def solution(maps):\n",
    "    my, mx = len(maps), len(maps[0])\n",
    "    move, answer = [[1,0],[0,1],[-1,0],[0,-1]], [-1]\n",
    "    visited = [[-1 if maps[j][i] != 'X' else 0 for i in range(mx)] for j in range(my)]\n",
    "    q = deque([])\n",
    "    for i in range(my):\n",
    "        for j in range(mx):\n",
    "            if visited[i][j] == -1:\n",
    "                q.append([i,j])\n",
    "                s = int(maps[i][j])\n",
    "                visited[i][j] = 0\n",
    "                while q:\n",
    "                    n = q.popleft()\n",
    "                    for m in move:\n",
    "                        y, x = n[0]+m[0], n[1]+m[1]\n",
    "                        if 0 <= y < my and 0 <= x < mx:\n",
    "                            if visited[y][x] == -1:\n",
    "                                s += int(maps[y][x])\n",
    "                                visited[y][x] = 0\n",
    "                                q.append([y,x])\n",
    "                answer.append(s)\n",
    "                    \n",
    "    return answer if len(answer) == 1 else sorted(answer[1:])\n",
    "solution([\"X591X\",\"X1X5X\",\"X231X\", \"1XXX1\"])"
   ]
  }
 ],
 "metadata": {
  "kernelspec": {
   "display_name": "Python 3.11.1 64-bit",
   "language": "python",
   "name": "python3"
  },
  "language_info": {
   "codemirror_mode": {
    "name": "ipython",
    "version": 3
   },
   "file_extension": ".py",
   "mimetype": "text/x-python",
   "name": "python",
   "nbconvert_exporter": "python",
   "pygments_lexer": "ipython3",
   "version": "3.11.1"
  },
  "orig_nbformat": 4,
  "vscode": {
   "interpreter": {
    "hash": "5c7b89af1651d0b8571dde13640ecdccf7d5a6204171d6ab33e7c296e100e08a"
   }
  }
 },
 "nbformat": 4,
 "nbformat_minor": 2
}
