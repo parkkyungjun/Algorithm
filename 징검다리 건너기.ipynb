{
 "cells": [
  {
   "cell_type": "markdown",
   "id": "special-escape",
   "metadata": {},
   "source": [
    "https://programmers.co.kr/learn/courses/30/lessons/64062"
   ]
  },
  {
   "cell_type": "code",
   "execution_count": 44,
   "id": "quality-group",
   "metadata": {},
   "outputs": [
    {
     "data": {
      "text/plain": [
       "200000001"
      ]
     },
     "execution_count": 44,
     "metadata": {},
     "output_type": "execute_result"
    }
   ],
   "source": [
    "\n",
    "def solution(stones, k):\n",
    "    \n",
    "    return answer\n"
   ]
  },
  {
   "cell_type": "code",
   "execution_count": 26,
   "id": "russian-twenty",
   "metadata": {},
   "outputs": [
    {
     "name": "stdout",
     "output_type": "stream",
     "text": [
      "[2, 5, 1]\n",
      "[4, 2, 5]\n",
      "[1, 4, 2]\n",
      "[2, 1, 4]\n",
      "[3, 2, 1]\n",
      "[5, 3, 2]\n",
      "[4, 5, 3]\n",
      "[2, 4, 5]\n"
     ]
    },
    {
     "data": {
      "text/plain": [
       "3"
      ]
     },
     "execution_count": 26,
     "metadata": {},
     "output_type": "execute_result"
    }
   ],
   "source": [
    "solution([2, 4, 5, 3, 2, 1, 4, 2, 5, 1],3)"
   ]
  },
  {
   "cell_type": "code",
   "execution_count": null,
   "id": "empty-minutes",
   "metadata": {},
   "outputs": [],
   "source": []
  }
 ],
 "metadata": {
  "kernelspec": {
   "display_name": "Python 3",
   "language": "python",
   "name": "python3"
  },
  "language_info": {
   "codemirror_mode": {
    "name": "ipython",
    "version": 3
   },
   "file_extension": ".py",
   "mimetype": "text/x-python",
   "name": "python",
   "nbconvert_exporter": "python",
   "pygments_lexer": "ipython3",
   "version": "3.7.9"
  }
 },
 "nbformat": 4,
 "nbformat_minor": 5
}
