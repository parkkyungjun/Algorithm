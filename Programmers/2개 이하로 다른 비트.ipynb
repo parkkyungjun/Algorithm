{
 "cells": [
  {
   "cell_type": "markdown",
   "id": "directed-testimony",
   "metadata": {},
   "source": [
    "https://programmers.co.kr/learn/courses/30/lessons/77885"
   ]
  },
  {
   "cell_type": "code",
   "execution_count": 66,
   "id": "french-memory",
   "metadata": {
    "scrolled": true
   },
   "outputs": [
    {
     "data": {
      "text/plain": [
       "[1002,\n",
       " 338,\n",
       " 1,\n",
       " 2,\n",
       " 334,\n",
       " 674,\n",
       " 347,\n",
       " 222,\n",
       " 899,\n",
       " 998,\n",
       " 122,\n",
       " 1019,\n",
       " 666,\n",
       " 781,\n",
       " 893,\n",
       " 422,\n",
       " 223,\n",
       " 257,\n",
       " 513,\n",
       " 129,\n",
       " 101]"
      ]
     },
     "execution_count": 66,
     "metadata": {},
     "output_type": "execute_result"
    }
   ],
   "source": [
    "def solution(numbers):\n",
    "    result = []\n",
    "    for i in numbers:\n",
    "        b = []\n",
    "        if '0' in bin(i)[2:]:\n",
    "            a = list(bin(i)[2:])\n",
    "            for j in range(len(a)):\n",
    "                if a[j] == '0':\n",
    "                    b.append(j)\n",
    "            c = int(b.pop())\n",
    "            for j in range(len(a)):\n",
    "                if c == len(a) -j-2:\n",
    "                    a[c+1] = '0'\n",
    "            a[c] = '1'\n",
    "            result.append(int('0b' + ''.join(a),2))\n",
    "        else:\n",
    "            a = list(bin((i<<1) +1))\n",
    "            a[3] = '0'\n",
    "            result.append(int(''.join(a),2))\n",
    "    return result\n",
    "solution([1001,337,0,1,333,673,343,221,898,997,121,1015,665,779,891,421,222,256,512,128,100])"
   ]
  }
 ],
 "metadata": {
  "kernelspec": {
   "display_name": "Python 3",
   "language": "python",
   "name": "python3"
  },
  "language_info": {
   "codemirror_mode": {
    "name": "ipython",
    "version": 3
   },
   "file_extension": ".py",
   "mimetype": "text/x-python",
   "name": "python",
   "nbconvert_exporter": "python",
   "pygments_lexer": "ipython3",
   "version": "3.7.9"
  }
 },
 "nbformat": 4,
 "nbformat_minor": 5
}
