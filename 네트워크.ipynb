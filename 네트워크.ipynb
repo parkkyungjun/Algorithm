{
 "cells": [
  {
   "cell_type": "markdown",
   "id": "loved-authorization",
   "metadata": {},
   "source": [
    "https://programmers.co.kr/learn/courses/30/lessons/43162"
   ]
  },
  {
   "cell_type": "code",
   "execution_count": 189,
   "id": "beneficial-hearing",
   "metadata": {
    "scrolled": true
   },
   "outputs": [
    {
     "data": {
      "text/plain": [
       "1"
      ]
     },
     "execution_count": 189,
     "metadata": {},
     "output_type": "execute_result"
    }
   ],
   "source": [
    "def solution(n, computers):\n",
    "    result = 0\n",
    "    computers = list(set([tuple(i) for i in computers]))\n",
    "    g = {str(i):-1 for i in computers}\n",
    "    while computers:\n",
    "        q = [computers.pop()]\n",
    "        while q:\n",
    "            a = q.pop()\n",
    "            if a in computers:\n",
    "                computers.remove(a)\n",
    "            b = []\n",
    "            for i in computers:\n",
    "                if [x+y for x,y in zip(i,a)].count(2) != 0 and g[str(i)] == -1:\n",
    "                    b.append(i)\n",
    "                    g[str(i)] = 0\n",
    "            q += b\n",
    "        result += 1\n",
    "    return result\n",
    "solution(4, [[1, 0, 0, 1], [0, 1, 1, 0], [0, 1, 1, 0], [1, 1, 0, 1]])"
   ]
  }
 ],
 "metadata": {
  "kernelspec": {
   "display_name": "Python 3",
   "language": "python",
   "name": "python3"
  },
  "language_info": {
   "codemirror_mode": {
    "name": "ipython",
    "version": 3
   },
   "file_extension": ".py",
   "mimetype": "text/x-python",
   "name": "python",
   "nbconvert_exporter": "python",
   "pygments_lexer": "ipython3",
   "version": "3.7.9"
  }
 },
 "nbformat": 4,
 "nbformat_minor": 5
}
