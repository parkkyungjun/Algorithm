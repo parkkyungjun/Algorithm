{
 "cells": [
  {
   "cell_type": "markdown",
   "metadata": {},
   "source": [
    "https://school.programmers.co.kr/learn/courses/30/lessons/150370"
   ]
  },
  {
   "cell_type": "code",
   "execution_count": 3,
   "metadata": {},
   "outputs": [
    {
     "data": {
      "text/plain": [
       "[1, 3]"
      ]
     },
     "execution_count": 3,
     "metadata": {},
     "output_type": "execute_result"
    }
   ],
   "source": [
    "def solution(today, terms, privacies):\n",
    "    dic, t = {i[0]:[] for i in terms}, [int(today[:4])*12+int(today[5:7]), int(today[8:10])]\n",
    "    answer = []\n",
    "    for index, i in enumerate(privacies):\n",
    "        dic[i[-1]].append([int(i[:4])*12+int(i[5:7]), int(i[8:10]), index+1])\n",
    "    for i in terms:\n",
    "        for j in dic[i[0]]:\n",
    "            if t[0] > j[0] + int(i[2:]):\n",
    "                answer.append(j[2])\n",
    "            elif t[0] == j[0] + int(i[2:]):\n",
    "                if t[1] >= j[1]:\n",
    "                    answer.append(j[2])\n",
    "                    \n",
    "    return sorted(answer)\n",
    "\n",
    "solution(\"2022.05.19\", [\"A 6\", \"B 12\", \"C 3\"], [\"2021.05.02 A\", \"2021.07.01 B\", \"2022.02.19 C\", \"2022.02.20 C\"])"
   ]
  }
 ],
 "metadata": {
  "kernelspec": {
   "display_name": "Python 3.11.1 64-bit",
   "language": "python",
   "name": "python3"
  },
  "language_info": {
   "codemirror_mode": {
    "name": "ipython",
    "version": 3
   },
   "file_extension": ".py",
   "mimetype": "text/x-python",
   "name": "python",
   "nbconvert_exporter": "python",
   "pygments_lexer": "ipython3",
   "version": "3.11.1"
  },
  "orig_nbformat": 4,
  "vscode": {
   "interpreter": {
    "hash": "5c7b89af1651d0b8571dde13640ecdccf7d5a6204171d6ab33e7c296e100e08a"
   }
  }
 },
 "nbformat": 4,
 "nbformat_minor": 2
}
