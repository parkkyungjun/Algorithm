{
 "cells": [
  {
   "cell_type": "markdown",
   "id": "sensitive-nitrogen",
   "metadata": {},
   "source": [
    "https://programmers.co.kr/learn/courses/30/lessons/42885"
   ]
  },
  {
   "cell_type": "code",
   "execution_count": 52,
   "id": "economic-ivory",
   "metadata": {
    "scrolled": false
   },
   "outputs": [
    {
     "name": "stdout",
     "output_type": "stream",
     "text": [
      "1 4\n"
     ]
    },
    {
     "data": {
      "text/plain": [
       "3"
      ]
     },
     "execution_count": 52,
     "metadata": {},
     "output_type": "execute_result"
    }
   ],
   "source": [
    "def solution(people, limit):\n",
    "    i,k, answer,j = 0, 0, 0,len(people)-1\n",
    "    people.sort()\n",
    "    \n",
    "    while len(people)> k:\n",
    "        answer +=1\n",
    "        if limit >= people[i] + people[j] :\n",
    "            i +=1\n",
    "            k +=2\n",
    "        else:\n",
    "            k +=1\n",
    "        j -=1\n",
    "    return answer\n",
    "solution([70, 80, 50,50],100)\n"
   ]
  }
 ],
 "metadata": {
  "kernelspec": {
   "display_name": "Python 3",
   "language": "python",
   "name": "python3"
  },
  "language_info": {
   "codemirror_mode": {
    "name": "ipython",
    "version": 3
   },
   "file_extension": ".py",
   "mimetype": "text/x-python",
   "name": "python",
   "nbconvert_exporter": "python",
   "pygments_lexer": "ipython3",
   "version": "3.7.9"
  }
 },
 "nbformat": 4,
 "nbformat_minor": 5
}
