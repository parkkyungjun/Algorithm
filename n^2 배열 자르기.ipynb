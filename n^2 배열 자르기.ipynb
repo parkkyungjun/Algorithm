{
 "cells": [
  {
   "cell_type": "markdown",
   "id": "9e03a464",
   "metadata": {},
   "source": [
    "https://school.programmers.co.kr/learn/courses/30/lessons/87390"
   ]
  },
  {
   "cell_type": "code",
   "execution_count": null,
   "id": "5275efee",
   "metadata": {},
   "outputs": [],
   "source": [
    "    answer = []\n",
    "    for i in range(left//n,right//n +1):\n",
    "        for k in range(n):\n",
    "            if i >k:\n",
    "                answer.append(i+1)\n",
    "            else:\n",
    "                answer.append(k+1)\n",
    "    return answer[left%n:right-left +1 + left%n]"
   ]
  }
 ],
 "metadata": {
  "kernelspec": {
   "display_name": "Python 3 (ipykernel)",
   "language": "python",
   "name": "python3"
  },
  "language_info": {
   "codemirror_mode": {
    "name": "ipython",
    "version": 3
   },
   "file_extension": ".py",
   "mimetype": "text/x-python",
   "name": "python",
   "nbconvert_exporter": "python",
   "pygments_lexer": "ipython3",
   "version": "3.9.7"
  }
 },
 "nbformat": 4,
 "nbformat_minor": 5
}
