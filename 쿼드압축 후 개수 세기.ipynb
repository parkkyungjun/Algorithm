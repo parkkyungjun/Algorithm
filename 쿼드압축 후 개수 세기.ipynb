{
 "cells": [
  {
   "cell_type": "markdown",
   "id": "a4f36ff2",
   "metadata": {},
   "source": [
    "https://school.programmers.co.kr/learn/courses/30/lessons/68936#"
   ]
  },
  {
   "cell_type": "code",
   "execution_count": 25,
   "id": "aa5e124d",
   "metadata": {},
   "outputs": [
    {
     "data": {
      "text/plain": [
       "[1, 0]"
      ]
     },
     "execution_count": 25,
     "metadata": {},
     "output_type": "execute_result"
    }
   ],
   "source": [
    "import numpy as np\n",
    "def solution(arr):\n",
    "    \n",
    "    global result\n",
    "    result = {0:0, 1:0, 2:0}\n",
    "\n",
    "    def dive(arr):    \n",
    "        arr = np.array(arr)\n",
    "        l = len(arr[0])\n",
    "        s = arr.sum()\n",
    "        if l**2 == s:\n",
    "            result[1] += 1\n",
    "            return\n",
    "        elif 0 == s:\n",
    "            result[0] += 1\n",
    "            return\n",
    "        ll = l//2\n",
    "        q = [[0, 0], [ll, 0], [0, ll], [ll, ll]]\n",
    "        for i in q:\n",
    "            dive(arr[i[0]:i[0]+ll,i[1]:i[1]+ll])\n",
    "    dive(arr)\n",
    "    return [result[0],result[1]]\n",
    "solution([[0,0],[0,0]])"
   ]
  }
 ],
 "metadata": {
  "kernelspec": {
   "display_name": "Python 3 (ipykernel)",
   "language": "python",
   "name": "python3"
  },
  "language_info": {
   "codemirror_mode": {
    "name": "ipython",
    "version": 3
   },
   "file_extension": ".py",
   "mimetype": "text/x-python",
   "name": "python",
   "nbconvert_exporter": "python",
   "pygments_lexer": "ipython3",
   "version": "3.9.7"
  }
 },
 "nbformat": 4,
 "nbformat_minor": 5
}
