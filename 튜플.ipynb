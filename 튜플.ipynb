{
 "cells": [
  {
   "cell_type": "markdown",
   "id": "adopted-pressure",
   "metadata": {},
   "source": [
    "https://programmers.co.kr/learn/courses/30/lessons/64065"
   ]
  },
  {
   "cell_type": "code",
   "execution_count": 29,
   "id": "instructional-jerusalem",
   "metadata": {},
   "outputs": [
    {
     "name": "stdout",
     "output_type": "stream",
     "text": [
      "1\n",
      "2\n",
      "3\n",
      "4\n"
     ]
    },
    {
     "data": {
      "text/plain": [
       "[3, 2, 4, 1]"
      ]
     },
     "execution_count": 29,
     "metadata": {},
     "output_type": "execute_result"
    }
   ],
   "source": [
    "def solution(s):\n",
    "    s = eval(s.replace('{','[').replace('}',']'))\n",
    "    answer, k = [], 1\n",
    "    while len(s) >= k:\n",
    "        for i in s:\n",
    "            if len(i) == k:\n",
    "                print(k)\n",
    "                for j in i:\n",
    "                    if j not in answer:\n",
    "                        answer.append(j)\n",
    "                        break\n",
    "        k += 1\n",
    "    return answer\n",
    "solution(\"{{4,2,3},{3},{2,3,4,1},{2,3}}\")"
   ]
  },
  {
   "cell_type": "code",
   "execution_count": 45,
   "id": "vietnamese-natural",
   "metadata": {},
   "outputs": [
    {
     "data": {
      "text/plain": [
       "[3, 2, 4, 1]"
      ]
     },
     "execution_count": 45,
     "metadata": {},
     "output_type": "execute_result"
    }
   ],
   "source": [
    "from collections import Counter\n",
    "import re\n",
    "s = \"{{4,2,3},{3},{2,3,4,1},{2,3}}\"\n",
    "s = Counter(re.findall('\\d+',s))\n",
    "list(map(int,[x for x,y in sorted(s.items(), key=lambda x:x[1],reverse=True)]))"
   ]
  }
 ],
 "metadata": {
  "kernelspec": {
   "display_name": "Python 3",
   "language": "python",
   "name": "python3"
  },
  "language_info": {
   "codemirror_mode": {
    "name": "ipython",
    "version": 3
   },
   "file_extension": ".py",
   "mimetype": "text/x-python",
   "name": "python",
   "nbconvert_exporter": "python",
   "pygments_lexer": "ipython3",
   "version": "3.7.9"
  }
 },
 "nbformat": 4,
 "nbformat_minor": 5
}
