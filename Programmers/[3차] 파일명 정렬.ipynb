{
 "cells": [
  {
   "cell_type": "markdown",
   "id": "casual-ground",
   "metadata": {},
   "source": [
    "https://programmers.co.kr/learn/courses/30/lessons/17686"
   ]
  },
  {
   "cell_type": "code",
   "execution_count": 131,
   "id": "small-berry",
   "metadata": {
    "scrolled": false
   },
   "outputs": [],
   "source": [
    "import re\n",
    "def solution(files):\n",
    "    a = files\n",
    "    b = []\n",
    "    for i in range(len(a)):\n",
    "        b.append([a[i],i])\n",
    "        a[i] = [a[i],i]\n",
    "    for i in range(len(a)):\n",
    "        a[i][0] = a[i][0].lower()\n",
    "    a = sorted(a,key= lambda x:(re.search('\\D+',x[0]).group(),int(re.search('\\d{1,5}',x[0]).group())))\n",
    "    for i in range(len(a)):\n",
    "        for j in b:\n",
    "            if a[i][1] == j[1]:\n",
    "                a[i] = j[0]\n",
    "    return a\n"
   ]
  }
 ],
 "metadata": {
  "kernelspec": {
   "display_name": "Python 3",
   "language": "python",
   "name": "python3"
  },
  "language_info": {
   "codemirror_mode": {
    "name": "ipython",
    "version": 3
   },
   "file_extension": ".py",
   "mimetype": "text/x-python",
   "name": "python",
   "nbconvert_exporter": "python",
   "pygments_lexer": "ipython3",
   "version": "3.7.9"
  }
 },
 "nbformat": 4,
 "nbformat_minor": 5
}
