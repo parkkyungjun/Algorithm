{
 "cells": [
  {
   "cell_type": "markdown",
   "id": "configured-ceiling",
   "metadata": {},
   "source": [
    "https://programmers.co.kr/learn/courses/30/lessons/42860"
   ]
  },
  {
   "cell_type": "code",
   "execution_count": 59,
   "id": "c9eb8867",
   "metadata": {},
   "outputs": [
    {
     "data": {
      "text/plain": [
       "56"
      ]
     },
     "execution_count": 59,
     "metadata": {},
     "output_type": "execute_result"
    }
   ],
   "source": [
    "def solution(name):\n",
    "    cnt = sum([min(ord(i) - ord('A'),ord('Z') - ord(i)+1) for i in name])\n",
    "    name = list(name)\n",
    "    now = 0\n",
    "    l = len(name)\n",
    "    name[0] = 'A'\n",
    "    answer = [[cnt,name,now]]\n",
    "    cnts = []\n",
    "    while answer:\n",
    "        q = answer.pop()\n",
    "        \n",
    "        cnt, name, now = q[0], q[1], q[2]\n",
    "        if all([i=='A' for i in name]):\n",
    "            cnts.append(cnt)\n",
    "        h = []\n",
    "        for i in range(l):\n",
    "            if name[i] != 'A':\n",
    "                h.append([min(abs(now-i), now+abs(l-i), abs(now-l)+i), i])\n",
    "\n",
    "        for i in h:\n",
    "            a = [j for j in name]\n",
    "            a[i[1]] = 'A'\n",
    "            answer.append([cnt+i[0], a, i[1]])\n",
    "\n",
    "    return min(cnts)\n",
    "solution('JEROEN')"
   ]
  }
 ],
 "metadata": {
  "kernelspec": {
   "display_name": "Python 3 (ipykernel)",
   "language": "python",
   "name": "python3"
  },
  "language_info": {
   "codemirror_mode": {
    "name": "ipython",
    "version": 3
   },
   "file_extension": ".py",
   "mimetype": "text/x-python",
   "name": "python",
   "nbconvert_exporter": "python",
   "pygments_lexer": "ipython3",
   "version": "3.7.9"
  }
 },
 "nbformat": 4,
 "nbformat_minor": 5
}
