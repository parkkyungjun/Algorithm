{
 "cells": [
  {
   "cell_type": "markdown",
   "id": "3d5790b1",
   "metadata": {},
   "source": [
    "https://programmers.co.kr/learn/courses/30/lessons/87377"
   ]
  },
  {
   "cell_type": "code",
   "execution_count": 23,
   "id": "87ff58ac",
   "metadata": {},
   "outputs": [],
   "source": [
    "def solution(line):\n",
    "    l = line\n",
    "    cp,stars = [],[]\n",
    "    for i in range(len(l)):\n",
    "        for j in range(i+1,len(l)):\n",
    "            a1,b1,c1 = l[i][0], l[i][1], l[i][2]\n",
    "            a2,b2,c2 = l[j][0], l[j][1], l[j][2]\n",
    "            if a1*b2 -a2*b1 != 0:\n",
    "                x = (b1*c2 - b2*c1)/(a1*b2 - a2*b1)\n",
    "                y = (c1*a2 - a1*c2)/(a1*b2 - a2*b1)\n",
    "                if x == int(x) and y == int(y):\n",
    "                    cp.append([int(x),int(y)])\n",
    "    m,M = min(cp,key = lambda x:x[0])[0], max(cp,key = lambda x:x[1])[1]\n",
    "    cp = [[i[0]-m,-(i[1]-M)] for i in cp]\n",
    "    m,M = max(cp,key = lambda x:x[0])[0], max(cp,key = lambda x:x[1])[1]\n",
    "    star = [[\".\" for i in range(m+1)] for j in range(M+1)]\n",
    "    for i in cp:\n",
    "        star[i[1]][i[0]] = \"*\"\n",
    "    for i in star:\n",
    "        stars.append(\"\".join(i))\n",
    "    return stars"
   ]
  }
 ],
 "metadata": {
  "kernelspec": {
   "display_name": "Python 3 (ipykernel)",
   "language": "python",
   "name": "python3"
  },
  "language_info": {
   "codemirror_mode": {
    "name": "ipython",
    "version": 3
   },
   "file_extension": ".py",
   "mimetype": "text/x-python",
   "name": "python",
   "nbconvert_exporter": "python",
   "pygments_lexer": "ipython3",
   "version": "3.9.6"
  }
 },
 "nbformat": 4,
 "nbformat_minor": 5
}
