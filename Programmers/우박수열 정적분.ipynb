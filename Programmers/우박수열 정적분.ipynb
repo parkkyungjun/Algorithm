{
 "cells": [
  {
   "cell_type": "markdown",
   "id": "732254bf",
   "metadata": {},
   "source": [
    "https://school.programmers.co.kr/learn/courses/30/lessons/134239"
   ]
  },
  {
   "cell_type": "code",
   "execution_count": 55,
   "id": "aee6fd66",
   "metadata": {},
   "outputs": [
    {
     "data": {
      "text/plain": [
       "[33.0, 31.5, 0, -1.0, -1.0, -1.0]"
      ]
     },
     "execution_count": 55,
     "metadata": {},
     "output_type": "execute_result"
    }
   ],
   "source": [
    "def solution(k, ranges):\n",
    "    answer = Collatz(k)\n",
    "    areas, result = [], []\n",
    "    for i in range(len(answer)-1):\n",
    "        areas.append((answer[i]+answer[i+1])/2)\n",
    "    for i in ranges:\n",
    "        if i[1] == 0:\n",
    "            if i[0] - i[1] < len(answer):\n",
    "                result.append(sum(areas[i[0]:]))\n",
    "            else:\n",
    "                result.append(-1.0)\n",
    "        else:\n",
    "            if i[0] - i[1] < len(answer):\n",
    "                result.append(sum(areas[i[0]:i[1]]))\n",
    "            else:\n",
    "                result.append(-1.0)\n",
    "    return result\n",
    "\n",
    "def Collatz(k):\n",
    "    answer = [k]\n",
    "    while k > 1:\n",
    "        if k%2 == 0:\n",
    "            k //= 2\n",
    "        else:\n",
    "            k = k*3 + 1\n",
    "        answer.append(k)\n",
    "    return answer\n",
    "    \n",
    "solution(5,[[0,0],[0,-1],[2,-3],[3,-3], [5,-1], [10,0]])"
   ]
  }
 ],
 "metadata": {
  "kernelspec": {
   "display_name": "Python 3 (ipykernel)",
   "language": "python",
   "name": "python3"
  },
  "language_info": {
   "codemirror_mode": {
    "name": "ipython",
    "version": 3
   },
   "file_extension": ".py",
   "mimetype": "text/x-python",
   "name": "python",
   "nbconvert_exporter": "python",
   "pygments_lexer": "ipython3",
   "version": "3.7.9"
  }
 },
 "nbformat": 4,
 "nbformat_minor": 5
}
