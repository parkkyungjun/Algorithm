{
 "cells": [
  {
   "cell_type": "code",
   "execution_count": 10,
   "id": "republican-violin",
   "metadata": {},
   "outputs": [],
   "source": [
    "from itertools import combinations\n",
    "def solution(nums):\n",
    "    def prime_3000():\n",
    "        prime = []\n",
    "        for i in range(7,3000,2):\n",
    "            for j in range(3,int(i**0.5)+1):\n",
    "                if i%j ==0:\n",
    "                    break\n",
    "            else:\n",
    "                prime.append(i)\n",
    "        return prime\n",
    "    answer = 0\n",
    "    check = prime_3000()\n",
    "    for i in combinations(nums,3):\n",
    "        if sum(i) in check:\n",
    "            answer += 1\n",
    "    return answer"
   ]
  }
 ],
 "metadata": {
  "kernelspec": {
   "display_name": "Python 3",
   "language": "python",
   "name": "python3"
  },
  "language_info": {
   "codemirror_mode": {
    "name": "ipython",
    "version": 3
   },
   "file_extension": ".py",
   "mimetype": "text/x-python",
   "name": "python",
   "nbconvert_exporter": "python",
   "pygments_lexer": "ipython3",
   "version": "3.7.9"
  }
 },
 "nbformat": 4,
 "nbformat_minor": 5
}
