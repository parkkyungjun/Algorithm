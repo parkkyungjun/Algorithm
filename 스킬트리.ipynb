{
 "cells": [
  {
   "cell_type": "markdown",
   "id": "intelligent-lightweight",
   "metadata": {},
   "source": [
    "https://programmers.co.kr/learn/courses/30/lessons/49993"
   ]
  },
  {
   "cell_type": "code",
   "execution_count": 20,
   "id": "emerging-locking",
   "metadata": {
    "scrolled": true
   },
   "outputs": [
    {
     "data": {
      "text/plain": [
       "4"
      ]
     },
     "execution_count": 20,
     "metadata": {},
     "output_type": "execute_result"
    }
   ],
   "source": [
    "def solution(skill, skill_trees):\n",
    "    answer = 0\n",
    "    for i in skill_trees:\n",
    "        gs = ''\n",
    "        for j in range(len(i)):\n",
    "            if i[j] in skill:\n",
    "                gs += i[j]\n",
    "        if gs == '':\n",
    "            answer += 1\n",
    "            continue\n",
    "        for i in range(len(skill)):\n",
    "            if skill[:i+1] == gs:\n",
    "                answer += 1\n",
    "    return answer\n",
    "solution(\"CBDK\",[\"CB\", \"CXYB\", \"BD\", \"AECD\", \"ABC\", \"AEX\", \"CDB\", \"CBKD\", \"IJCB\", \"LMDK\"])"
   ]
  }
 ],
 "metadata": {
  "kernelspec": {
   "display_name": "Python 3",
   "language": "python",
   "name": "python3"
  },
  "language_info": {
   "codemirror_mode": {
    "name": "ipython",
    "version": 3
   },
   "file_extension": ".py",
   "mimetype": "text/x-python",
   "name": "python",
   "nbconvert_exporter": "python",
   "pygments_lexer": "ipython3",
   "version": "3.7.9"
  }
 },
 "nbformat": 4,
 "nbformat_minor": 5
}
