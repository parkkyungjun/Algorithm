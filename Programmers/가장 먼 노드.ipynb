{
 "cells": [
  {
   "cell_type": "markdown",
   "id": "destroyed-remains",
   "metadata": {},
   "source": [
    "https://programmers.co.kr/learn/courses/30/lessons/49189"
   ]
  },
  {
   "cell_type": "code",
   "execution_count": 52,
   "id": "tender-intensity",
   "metadata": {},
   "outputs": [
    {
     "data": {
      "text/plain": [
       "{1: [3, 2], 2: [3, 1, 4, 5], 3: [6, 4, 2, 1], 4: [3, 2], 5: [2], 6: [3]}"
      ]
     },
     "execution_count": 52,
     "metadata": {},
     "output_type": "execute_result"
    }
   ],
   "source": [
    "from collections import deque\n",
    "def solution(n, edge):\n",
    "    a = {i:0 for i in range(1,n+1)}\n",
    "    b = {i:0 for i in range(1,n+1)}\n",
    "    a[1] = -1\n",
    "    e = {i:[] for i in range(1,n+1)}\n",
    "    for i in edge:\n",
    "        e[i[0]].append(i[1])\n",
    "        e[i[1]].append(i[0])\n",
    "    q = deque([1])\n",
    "    while q:\n",
    "        p = q.popleft()\n",
    "        for i in e[p]:\n",
    "            if a[i] != -1:\n",
    "                b[i] = b[p] + 1\n",
    "                a[i] = -1\n",
    "                q.append(i)\n",
    "    return e\n",
    "solution(6,[[3, 6], [4, 3], [3, 2], [1, 3], [1, 2], [2, 4], [5, 2]])\n"
   ]
  },
  {
   "cell_type": "code",
   "execution_count": 48,
   "id": "binding-screening",
   "metadata": {},
   "outputs": [
    {
     "name": "stdout",
     "output_type": "stream",
     "text": [
      "[]\n",
      "[]\n",
      "[6]\n",
      "[]\n",
      "[3]\n",
      "[]\n",
      "[]\n"
     ]
    },
    {
     "data": {
      "text/plain": [
       "{1: [3, 2],\n",
       " 2: [4],\n",
       " 3: [6, 2],\n",
       " 4: [3],\n",
       " 5: [2],\n",
       " 6: [],\n",
       " 7: [],\n",
       " 8: [],\n",
       " 9: [],\n",
       " 10: []}"
      ]
     },
     "execution_count": 48,
     "metadata": {},
     "output_type": "execute_result"
    }
   ],
   "source": [
    "a = {i:[] for i in range(1,11)}\n",
    "edge = [[3, 6], [4, 3], [3, 2], [1, 3], [1, 2], [2, 4], [5, 2]]\n",
    "for i in edge:\n",
    "    print(a[i[0]])\n",
    "    a[i[0]].append(i[1])\n",
    "a"
   ]
  }
 ],
 "metadata": {
  "kernelspec": {
   "display_name": "Python 3",
   "language": "python",
   "name": "python3"
  },
  "language_info": {
   "codemirror_mode": {
    "name": "ipython",
    "version": 3
   },
   "file_extension": ".py",
   "mimetype": "text/x-python",
   "name": "python",
   "nbconvert_exporter": "python",
   "pygments_lexer": "ipython3",
   "version": "3.7.9"
  }
 },
 "nbformat": 4,
 "nbformat_minor": 5
}
