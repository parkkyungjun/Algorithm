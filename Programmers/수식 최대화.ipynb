{
 "cells": [
  {
   "cell_type": "markdown",
   "id": "rubber-compound",
   "metadata": {},
   "source": [
    "https://programmers.co.kr/learn/courses/30/lessons/67257"
   ]
  },
  {
   "cell_type": "code",
   "execution_count": 45,
   "id": "alone-quantity",
   "metadata": {
    "scrolled": true
   },
   "outputs": [
    {
     "data": {
      "text/plain": [
       "60420"
      ]
     },
     "execution_count": 45,
     "metadata": {},
     "output_type": "execute_result"
    }
   ],
   "source": [
    "import re\n",
    "from itertools import permutations\n",
    "def solution(expression):\n",
    "    cal  = permutations(set(re.findall('\\D',expression)))\n",
    "    answer = []\n",
    "    for i in cal:\n",
    "        s = re.compile(\"(\\D)\").split(expression)\n",
    "        for j in i:\n",
    "            while j in s:\n",
    "                idx = s.index(j)\n",
    "                s = s[:idx-1] + [str(eval(''.join(s[idx-1:idx+2])))] + s[idx+2:]\n",
    "        answer += s\n",
    "    return max([abs(int(i)) for i in answer])\n",
    "solution(\"100-200*300-500+20\")\n",
    "            "
   ]
  },
  {
   "cell_type": "code",
   "execution_count": 42,
   "id": "interpreted-phenomenon",
   "metadata": {},
   "outputs": [
    {
     "name": "stdout",
     "output_type": "stream",
     "text": [
      "['100', '-', '200', '*', '300', '-', '500', '+', '20']\n",
      "['100', '-', '200', '*', '300', '-', '500', '+', '20']\n",
      "['100', '-', '200', '*', '300', '-', '500', '+', '20']\n",
      "['100', '-', '200', '*', '300', '-', '500', '+', '20']\n",
      "['100', '-', '200', '*', '300', '-', '500', '+', '20']\n",
      "['100', '-', '200', '*', '300', '-', '500', '+', '20']\n"
     ]
    }
   ],
   "source": [
    "def solution(expression):\n",
    "    cal  = permutations(set(re.findall('\\D',expression)))\n",
    "    answer = []\n",
    "    for i in cal:\n",
    "        s = re.compile(\"(\\D)\").split(expression)\n",
    "        print(s)\n",
    "solution(\"100-200*300-500+20\")"
   ]
  }
 ],
 "metadata": {
  "kernelspec": {
   "display_name": "Python 3",
   "language": "python",
   "name": "python3"
  },
  "language_info": {
   "codemirror_mode": {
    "name": "ipython",
    "version": 3
   },
   "file_extension": ".py",
   "mimetype": "text/x-python",
   "name": "python",
   "nbconvert_exporter": "python",
   "pygments_lexer": "ipython3",
   "version": "3.7.9"
  }
 },
 "nbformat": 4,
 "nbformat_minor": 5
}
