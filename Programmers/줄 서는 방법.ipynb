{
 "cells": [
  {
   "cell_type": "markdown",
   "id": "refined-laptop",
   "metadata": {},
   "source": [
    "https://programmers.co.kr/learn/courses/30/lessons/12936"
   ]
  },
  {
   "cell_type": "code",
   "execution_count": 26,
   "id": "6c6efc86",
   "metadata": {},
   "outputs": [],
   "source": [
    "from math import factorial\n",
    "def solution(n, k):\n",
    "    answer, m = [], list(range(1, n+1))\n",
    "    while n!=0:\n",
    "        n -= 1\n",
    "        a = factorial(n)\n",
    "        b, c = divmod(k-1, a)\n",
    "        k = k%a\n",
    "        answer.append(m[b])\n",
    "        m.remove(m[b])\n",
    "    return answer"
   ]
  }
 ],
 "metadata": {
  "kernelspec": {
   "display_name": "Python 3 (ipykernel)",
   "language": "python",
   "name": "python3"
  },
  "language_info": {
   "codemirror_mode": {
    "name": "ipython",
    "version": 3
   },
   "file_extension": ".py",
   "mimetype": "text/x-python",
   "name": "python",
   "nbconvert_exporter": "python",
   "pygments_lexer": "ipython3",
   "version": "3.7.9"
  }
 },
 "nbformat": 4,
 "nbformat_minor": 5
}
