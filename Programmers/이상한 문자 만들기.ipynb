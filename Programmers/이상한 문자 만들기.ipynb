{
 "cells": [
  {
   "cell_type": "markdown",
   "id": "broad-motivation",
   "metadata": {},
   "source": [
    "*문제 설명\n",
    "*문자열 s는 한 개 이상의 단어로 구성되어 있습니다. 각 단어는 하나 이상의 공백문자로 구분되어 있습니다. 각 단어의 짝수번째 알파벳은 대문자로, 홀수번째 알파벳은 소문자로 바꾼 문자열을 리턴하는 함수, solution을 완성하세요.\n",
    "\n",
    "*제한 사항\n",
    "*문자열 전체의 짝/홀수 인덱스가 아니라, 단어(공백을 기준)별로 짝/홀수 인덱스를 판단해야합니다.\n",
    "*첫 번째 글자는 0번째 인덱스로 보아 짝수번째 알파벳으로 처리해야 합니다."
   ]
  },
  {
   "cell_type": "code",
   "execution_count": 43,
   "id": "historical-federation",
   "metadata": {
    "scrolled": true
   },
   "outputs": [
    {
     "data": {
      "text/plain": [
       "'TrY HeLlO WoRlD'"
      ]
     },
     "execution_count": 43,
     "metadata": {},
     "output_type": "execute_result"
    }
   ],
   "source": [
    "def solution(s):\n",
    "    s = s.split(\" \")\n",
    "    r = []\n",
    "    for i in s:\n",
    "        answer = \"\"\n",
    "        for j in range(len(i)):\n",
    "            if j%2 ==0:\n",
    "                answer+= list(i)[j].upper()\n",
    "            else:\n",
    "                answer+= list(i)[j].lower()\n",
    "        r.append(answer)\n",
    "    return ' '.join(r)\n",
    "solution(\"try hello world\")"
   ]
  }
 ],
 "metadata": {
  "kernelspec": {
   "display_name": "Python 3",
   "language": "python",
   "name": "python3"
  },
  "language_info": {
   "codemirror_mode": {
    "name": "ipython",
    "version": 3
   },
   "file_extension": ".py",
   "mimetype": "text/x-python",
   "name": "python",
   "nbconvert_exporter": "python",
   "pygments_lexer": "ipython3",
   "version": "3.7.9"
  }
 },
 "nbformat": 4,
 "nbformat_minor": 5
}
