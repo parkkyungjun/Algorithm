{
 "cells": [
  {
   "cell_type": "markdown",
   "id": "derived-potter",
   "metadata": {},
   "source": [
    "https://programmers.co.kr/learn/courses/30/lessons/17683"
   ]
  },
  {
   "cell_type": "code",
   "execution_count": 139,
   "id": "stock-posting",
   "metadata": {},
   "outputs": [
    {
     "data": {
      "text/plain": [
       "'(None)'"
      ]
     },
     "execution_count": 139,
     "metadata": {},
     "output_type": "execute_result"
    }
   ],
   "source": [
    "def solution(m,musicinfos):\n",
    "    answer = dict()\n",
    "    result = []\n",
    "    early = []\n",
    "    def replace_all(text, dic):\n",
    "        for i, j in dic.items():\n",
    "            text = text.replace(i, j)\n",
    "        return text\n",
    "    change = {'C#':'c','D#':'d','F#':'f','G#':'g','A#':'a'}\n",
    "    m = replace_all(m,change)\n",
    "    music = [i.split(',') for i in musicinfos]\n",
    "    for i in range(len(musicinfos)):\n",
    "        music[i][3] = replace_all(music[i][3],change)\n",
    "        time = int(music[i][1].replace(':','')[:2])*60 + int(music[i][1].replace(':','')[2:])\\\n",
    "         - int(music[i][0].replace(':','')[:2])*60 - int(music[i][0].replace(':','')[2:])\n",
    "        acbo =  music[i][3] * (time//len(music[i][3])) + \\\n",
    "        music[i][3][:time%len(music[i][3])]\n",
    "        if m in acbo:\n",
    "            answer[music[i][2]] = time\n",
    "    if answer == {}:\n",
    "        return \"(None)\"\n",
    "    for i,x in answer.items():\n",
    "        if x == max(answer.values()):\n",
    "            result.append(i)\n",
    "        return result[0]\n",
    "    return result[0]\n",
    "solution(\"CDEFGAC\",[\"12:00,12:06,HELLO,CDEFGA\"])\n"
   ]
  }
 ],
 "metadata": {
  "kernelspec": {
   "display_name": "Python 3",
   "language": "python",
   "name": "python3"
  },
  "language_info": {
   "codemirror_mode": {
    "name": "ipython",
    "version": 3
   },
   "file_extension": ".py",
   "mimetype": "text/x-python",
   "name": "python",
   "nbconvert_exporter": "python",
   "pygments_lexer": "ipython3",
   "version": "3.7.9"
  }
 },
 "nbformat": 4,
 "nbformat_minor": 5
}
