{
 "cells": [
  {
   "cell_type": "markdown",
   "metadata": {},
   "source": [
    "https://school.programmers.co.kr/learn/courses/30/lessons/148653"
   ]
  },
  {
   "cell_type": "code",
   "execution_count": 38,
   "metadata": {},
   "outputs": [
    {
     "name": "stdout",
     "output_type": "stream",
     "text": [
      "8 2 [6, 7, 8]\n",
      "8 2 [6, 8, 0]\n",
      "7 3 [7, 0, 0]\n",
      "1 9 [1, 0, 0, 0]\n"
     ]
    },
    {
     "data": {
      "text/plain": [
       "8"
      ]
     },
     "execution_count": 38,
     "metadata": {},
     "output_type": "execute_result"
    }
   ],
   "source": [
    "def solution(storey):\n",
    "    s, cnt, index = [int(i) for i in list(str(storey))], 0, 0\n",
    "    while storey != 0:\n",
    "        i = s[len(s)-index-1]\n",
    "        if index != len(s)-1:\n",
    "            if s[len(s)-index-1-1] >= 5:\n",
    "                a = 10-i-1\n",
    "            else:\n",
    "                a = 10-i+1\n",
    "        else:\n",
    "             a = 10-i\n",
    "\n",
    "        if a >= i:\n",
    "            cnt += i\n",
    "            storey = storey-(pow(10,index))*i\n",
    "            s = [int(i) for i in list(str(storey))]\n",
    "        else:\n",
    "            storey = storey+(pow(10,index))*(10-i)\n",
    "            s = [int(i) for i in list(str(storey))]\n",
    "            cnt += 10-i\n",
    "            if index == len(s)-1:\n",
    "                cnt += 1\n",
    "        index += 1\n",
    "    return cnt\n",
    "\n",
    "solution(678)"
   ]
  }
 ],
 "metadata": {
  "kernelspec": {
   "display_name": "Python 3.11.1 64-bit",
   "language": "python",
   "name": "python3"
  },
  "language_info": {
   "codemirror_mode": {
    "name": "ipython",
    "version": 3
   },
   "file_extension": ".py",
   "mimetype": "text/x-python",
   "name": "python",
   "nbconvert_exporter": "python",
   "pygments_lexer": "ipython3",
   "version": "3.11.1"
  },
  "orig_nbformat": 4,
  "vscode": {
   "interpreter": {
    "hash": "5c7b89af1651d0b8571dde13640ecdccf7d5a6204171d6ab33e7c296e100e08a"
   }
  }
 },
 "nbformat": 4,
 "nbformat_minor": 2
}
