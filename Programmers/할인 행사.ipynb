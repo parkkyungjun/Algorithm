{
 "cells": [
  {
   "cell_type": "markdown",
   "id": "300ae000",
   "metadata": {},
   "source": [
    "https://school.programmers.co.kr/learn/courses/30/lessons/131127"
   ]
  },
  {
   "cell_type": "code",
   "execution_count": 25,
   "id": "fd3593f5",
   "metadata": {},
   "outputs": [
    {
     "data": {
      "text/plain": [
       "3"
      ]
     },
     "execution_count": 25,
     "metadata": {},
     "output_type": "execute_result"
    }
   ],
   "source": [
    "from collections import Counter\n",
    "def solution(want, number, discount):\n",
    "    dic, cnt = {k:v for k,v in zip(want,number)}, 0\n",
    "    for i in range(len(discount)-9):\n",
    "        l = Counter(discount[i:10+i])\n",
    "        if all([dic[j] <= l[j] for j in want]): cnt += 1\n",
    "            \n",
    "    return cnt\n",
    "\n",
    "solution([\"banana\", \"apple\", \"rice\", \"pork\", \"pot\"], [3, 2, 2, 2, 1], [\"chicken\", \"apple\", \"apple\", \"banana\", \"rice\", \"apple\", \"pork\", \"banana\", \"pork\", \"rice\", \"pot\", \"banana\", \"apple\", \"banana\"])"
   ]
  }
 ],
 "metadata": {
  "kernelspec": {
   "display_name": "Python 3 (ipykernel)",
   "language": "python",
   "name": "python3"
  },
  "language_info": {
   "codemirror_mode": {
    "name": "ipython",
    "version": 3
   },
   "file_extension": ".py",
   "mimetype": "text/x-python",
   "name": "python",
   "nbconvert_exporter": "python",
   "pygments_lexer": "ipython3",
   "version": "3.9.12"
  }
 },
 "nbformat": 4,
 "nbformat_minor": 5
}
