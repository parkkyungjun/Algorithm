{
 "cells": [
  {
   "cell_type": "markdown",
   "id": "increasing-andorra",
   "metadata": {},
   "source": [
    "* 문제 설명\n",
    "* 1부터 입력받은 숫자 n 사이에 있는 소수의 개수를 반환하는 함수, solution을 만들어 보세요.\n",
    "\n",
    "* 소수는 1과 자기 자신으로만 나누어지는 수를 의미합니다.\n",
    "* (1은 소수가 아닙니다.)\n",
    "\n",
    "* 제한 조건\n",
    "* n은 2이상 1000000이하의 자연수입니다."
   ]
  },
  {
   "cell_type": "code",
   "execution_count": 41,
   "id": "smart-purse",
   "metadata": {
    "scrolled": true
   },
   "outputs": [
    {
     "data": {
      "text/plain": [
       "4"
      ]
     },
     "execution_count": 41,
     "metadata": {},
     "output_type": "execute_result"
    }
   ],
   "source": [
    "def solution(n):\n",
    "    k = 1\n",
    "    for i in range(3,n+1,2):\n",
    "        for j in range(2,int(i**(1/2))+1):\n",
    "            if i%j == 0:\n",
    "                break\n",
    "        else:\n",
    "            k += 1\n",
    "    return k\n",
    "solution(10)"
   ]
  },
  {
   "cell_type": "code",
   "execution_count": 54,
   "id": "studied-portsmouth",
   "metadata": {},
   "outputs": [
    {
     "name": "stdout",
     "output_type": "stream",
     "text": [
      "{2, 3, 4, 5, 6, 7, 8, 9, 10}\n",
      "{2, 3, 5, 7, 9}\n",
      "{2, 3, 5, 7}\n",
      "{2, 3, 5, 7}\n",
      "{2, 3, 5, 7}\n",
      "{2, 3, 5, 7}\n",
      "{2, 3, 5, 7}\n",
      "{2, 3, 5, 7}\n",
      "{2, 3, 5, 7}\n"
     ]
    },
    {
     "data": {
      "text/plain": [
       "4"
      ]
     },
     "execution_count": 54,
     "metadata": {},
     "output_type": "execute_result"
    }
   ],
   "source": [
    "def solution(n):\n",
    "    num = set(range(2,n+1))\n",
    "\n",
    "    for i in range(2,n+1):\n",
    "        print(num)\n",
    "        if i in num:\n",
    "            num -= set(range(2*i,n+1,i))\n",
    "    return len(num)\n"
   ]
  }
 ],
 "metadata": {
  "kernelspec": {
   "display_name": "Python 3",
   "language": "python",
   "name": "python3"
  },
  "language_info": {
   "codemirror_mode": {
    "name": "ipython",
    "version": 3
   },
   "file_extension": ".py",
   "mimetype": "text/x-python",
   "name": "python",
   "nbconvert_exporter": "python",
   "pygments_lexer": "ipython3",
   "version": "3.7.9"
  }
 },
 "nbformat": 4,
 "nbformat_minor": 5
}
