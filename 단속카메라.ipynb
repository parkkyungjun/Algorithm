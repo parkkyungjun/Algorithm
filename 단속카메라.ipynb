{
 "cells": [
  {
   "cell_type": "markdown",
   "id": "sporting-genesis",
   "metadata": {},
   "source": [
    "https://programmers.co.kr/learn/courses/30/lessons/42884"
   ]
  },
  {
   "cell_type": "code",
   "execution_count": 23,
   "id": "awful-purpose",
   "metadata": {},
   "outputs": [
    {
     "data": {
      "text/plain": [
       "2"
      ]
     },
     "execution_count": 23,
     "metadata": {},
     "output_type": "execute_result"
    }
   ],
   "source": [
    "def solution(routes):\n",
    "    r = sorted(routes,key=lambda x:x[1])\n",
    "    k,answer = -30001,0\n",
    "    for i in r:\n",
    "        if k < i[0]:\n",
    "            answer += 1\n",
    "            k = i[1]\n",
    "    return answer\n",
    "solution([[-20,15], [-14,-5], [-18,-13], [-5,-3]])"
   ]
  }
 ],
 "metadata": {
  "kernelspec": {
   "display_name": "Python 3",
   "language": "python",
   "name": "python3"
  },
  "language_info": {
   "codemirror_mode": {
    "name": "ipython",
    "version": 3
   },
   "file_extension": ".py",
   "mimetype": "text/x-python",
   "name": "python",
   "nbconvert_exporter": "python",
   "pygments_lexer": "ipython3",
   "version": "3.7.9"
  }
 },
 "nbformat": 4,
 "nbformat_minor": 5
}
