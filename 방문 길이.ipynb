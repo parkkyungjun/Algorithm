{
 "cells": [
  {
   "cell_type": "markdown",
   "id": "specialized-mountain",
   "metadata": {},
   "source": [
    "https://programmers.co.kr/learn/courses/30/lessons/49994"
   ]
  },
  {
   "cell_type": "code",
   "execution_count": 67,
   "id": "invisible-allergy",
   "metadata": {
    "scrolled": true
   },
   "outputs": [
    {
     "data": {
      "text/plain": [
       "10"
      ]
     },
     "execution_count": 67,
     "metadata": {},
     "output_type": "execute_result"
    }
   ],
   "source": [
    "def solution(dirs):\n",
    "    answer = 0\n",
    "    axis = [[0 for i in range(21)] for i in range(21)]\n",
    "    x, y = 10, 10\n",
    "    axis[10][10] = 5\n",
    "    for i in list(dirs):\n",
    "        if i == 'R':\n",
    "            if x == 20 :\n",
    "                continue\n",
    "            elif axis[y][x+1] == 1:\n",
    "                x += 2\n",
    "                continue\n",
    "            axis[y][x+1] += 1\n",
    "            x += 2\n",
    "            axis[y][x] = 5\n",
    "        elif i == 'L':\n",
    "            if x == 0:\n",
    "                continue\n",
    "            elif axis[y][x-1] == 1:\n",
    "                x -= 2\n",
    "                continue\n",
    "            axis[y][x-1] += 1\n",
    "            x -= 2\n",
    "            axis[y][x] = 5\n",
    "        elif i == 'U':\n",
    "            if y == 0:\n",
    "                continue\n",
    "            elif axis[y-1][x] == 1:\n",
    "                y -= 2\n",
    "                continue\n",
    "            axis[y-1][x] += 1\n",
    "            y -= 2\n",
    "            axis[y][x] = 5\n",
    "        else:\n",
    "            if y == 20:\n",
    "                continue\n",
    "            elif axis[y+1][x] == 1:\n",
    "                y += 2\n",
    "                continue\n",
    "            axis[y+1][x] += 1\n",
    "            y += 2\n",
    "            axis[y][x] = 5\n",
    "    for i in axis:\n",
    "        for j in i:\n",
    "            if j != 5:\n",
    "                answer += j\n",
    "    return answer\n",
    "solution(\"ULURRDLLUUUUUUUUUUUUUUUUUUUUUU\")"
   ]
  },
  {
   "cell_type": "code",
   "execution_count": 70,
   "id": "three-roulette",
   "metadata": {
    "scrolled": true
   },
   "outputs": [
    {
     "data": {
      "text/plain": [
       "7"
      ]
     },
     "execution_count": 70,
     "metadata": {},
     "output_type": "execute_result"
    }
   ],
   "source": [
    "def solution(dirs):\n",
    "    s = set()\n",
    "    joy = {'U':(1,0),'D':(-1,0),'R':(0,1),'L':(0,-1)}\n",
    "    x,y = 0, 0\n",
    "    for i in dirs:\n",
    "        nx, ny = x + joy[i][0], y + joy[i][1]\n",
    "        s.add((x,y,nx,ny))\n",
    "        s.add((nx,ny,x,y))\n",
    "        x,y = nx, ny\n",
    "    return len(s)//2\n",
    "solution(\"ULURRDLLU\")"
   ]
  }
 ],
 "metadata": {
  "kernelspec": {
   "display_name": "Python 3",
   "language": "python",
   "name": "python3"
  },
  "language_info": {
   "codemirror_mode": {
    "name": "ipython",
    "version": 3
   },
   "file_extension": ".py",
   "mimetype": "text/x-python",
   "name": "python",
   "nbconvert_exporter": "python",
   "pygments_lexer": "ipython3",
   "version": "3.7.9"
  }
 },
 "nbformat": 4,
 "nbformat_minor": 5
}
