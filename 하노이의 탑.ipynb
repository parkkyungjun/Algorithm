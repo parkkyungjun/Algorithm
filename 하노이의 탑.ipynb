{
 "cells": [
  {
   "cell_type": "markdown",
   "id": "minor-priority",
   "metadata": {},
   "source": [
    "https://programmers.co.kr/learn/courses/30/lessons/12946"
   ]
  },
  {
   "cell_type": "code",
   "execution_count": 11,
   "id": "light-fancy",
   "metadata": {},
   "outputs": [
    {
     "name": "stdout",
     "output_type": "stream",
     "text": [
      "[[1, 2], [1, 3], [2, 3]] [[1, 3], [1, 2], [3, 2]]\n"
     ]
    },
    {
     "data": {
      "text/plain": [
       "[[1, 3], [1, 2], [3, 2], [1, 3], [2, 1], [2, 3], [1, 3]]"
      ]
     },
     "execution_count": 11,
     "metadata": {},
     "output_type": "execute_result"
    }
   ],
   "source": [
    "import copy\n",
    "def solution(n):\n",
    "    a = [[1,3]]\n",
    "    b = [[1,2], [1,3], [2,3]]\n",
    "    if n ==1: return a\n",
    "    m = 2\n",
    "    while m != n:\n",
    "        m +=1\n",
    "        b2,b3 = copy.deepcopy(b),copy.deepcopy(b)\n",
    "        for i in range(len(b)):\n",
    "            if b[i][0] == 3: b2[i][0] = 2\n",
    "            elif b[i][0] == 2: b2[i][0] = 3\n",
    "            if b[i][1] == 3: b2[i][1] = 2\n",
    "            elif b[i][1] == 2: b2[i][1] = 3\n",
    "            if b[i][0] == 1: b3[i][0] = 2\n",
    "            elif b[i][0] == 2: b3[i][0] = 1\n",
    "            if b[i][1] == 1: b3[i][1] = 2\n",
    "            elif b[i][1] == 2: b3[i][1] = 1\n",
    "        b = b2 + a + b3\n",
    "    return b\n",
    "solution(3)"
   ]
  }
 ],
 "metadata": {
  "kernelspec": {
   "display_name": "Python 3",
   "language": "python",
   "name": "python3"
  },
  "language_info": {
   "codemirror_mode": {
    "name": "ipython",
    "version": 3
   },
   "file_extension": ".py",
   "mimetype": "text/x-python",
   "name": "python",
   "nbconvert_exporter": "python",
   "pygments_lexer": "ipython3",
   "version": "3.7.9"
  }
 },
 "nbformat": 4,
 "nbformat_minor": 5
}
