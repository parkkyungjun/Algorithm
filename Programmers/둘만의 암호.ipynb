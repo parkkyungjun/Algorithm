{
 "cells": [
  {
   "cell_type": "markdown",
   "id": "7fa3a42f",
   "metadata": {},
   "source": [
    "https://school.programmers.co.kr/learn/courses/30/lessons/155652#"
   ]
  },
  {
   "cell_type": "code",
   "execution_count": null,
   "id": "bd6d47a2",
   "metadata": {},
   "outputs": [],
   "source": [
    "from string import ascii_lowercase\n",
    "\n",
    "def solution(s, skip, index):\n",
    "    alpha = list(ascii_lowercase)\n",
    "    for i in list(skip):\n",
    "        alpha.remove(i)\n",
    "    answer = ''\n",
    "    dic = {i:index for index,i in enumerate(alpha)}\n",
    "    for i in list(s):\n",
    "        now = dic[i]\n",
    "        n = now + index if now + index < len(alpha) else now + index - len(alpha)\n",
    "        n = n if n < len(alpha) else n - len(alpha)\n",
    "        answer += alpha[n]\n",
    "    return answer"
   ]
  }
 ],
 "metadata": {
  "kernelspec": {
   "display_name": "Python 3 (ipykernel)",
   "language": "python",
   "name": "python3"
  },
  "language_info": {
   "codemirror_mode": {
    "name": "ipython",
    "version": 3
   },
   "file_extension": ".py",
   "mimetype": "text/x-python",
   "name": "python",
   "nbconvert_exporter": "python",
   "pygments_lexer": "ipython3",
   "version": "3.11.1"
  }
 },
 "nbformat": 4,
 "nbformat_minor": 5
}
