{
 "cells": [
  {
   "cell_type": "markdown",
   "id": "60d94eb4",
   "metadata": {},
   "source": [
    "https://school.programmers.co.kr/learn/courses/30/lessons/118667#"
   ]
  },
  {
   "cell_type": "code",
   "execution_count": null,
   "id": "70087184",
   "metadata": {},
   "outputs": [],
   "source": [
    "from collections import deque\n",
    "def solution(queue1, queue2):\n",
    "    queue1, queue2 = deque(queue1), deque(queue2)\n",
    "    q1, q2 = sum(queue1), sum(queue2)\n",
    "    s = (q1+q2)//2\n",
    "    cnt, l = 0, len(queue1)+len(queue2)\n",
    "    i, j = 0, 0\n",
    "    while i < l and j < l:\n",
    "        if q1 > s:\n",
    "            r = queue1.popleft()\n",
    "            queue2.append(r)\n",
    "            q1 -= r\n",
    "            i += 1\n",
    "        elif q1 < s:\n",
    "            r = queue2.popleft()\n",
    "            queue1.append(r)\n",
    "            q1 += r\n",
    "            j += 1\n",
    "        else:\n",
    "            return cnt\n",
    "\n",
    "        cnt += 1\n",
    "    return -1"
   ]
  }
 ],
 "metadata": {
  "kernelspec": {
   "display_name": "Python 3 (ipykernel)",
   "language": "python",
   "name": "python3"
  },
  "language_info": {
   "codemirror_mode": {
    "name": "ipython",
    "version": 3
   },
   "file_extension": ".py",
   "mimetype": "text/x-python",
   "name": "python",
   "nbconvert_exporter": "python",
   "pygments_lexer": "ipython3",
   "version": "3.9.12"
  }
 },
 "nbformat": 4,
 "nbformat_minor": 5
}
