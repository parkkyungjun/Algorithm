{
 "cells": [
  {
   "cell_type": "markdown",
   "id": "gorgeous-lightning",
   "metadata": {},
   "source": [
    "1.연도의 마지막 두 자리를 12로 나눈 몫을 구한다. 이 경우 [12/12]=1\n",
    "2.연도의 마지막 두 자리를 12로 나눈 나머지를 구한다. 이 경우 12 mod 12 = 0\n",
    "3.앞서 구한 나머지를 4로 나눈 몫을 구한다. 이 경우 [0/4]=0\n",
    "4.세 수를 모두 더한다. 이 경우 1+0+0=1\n",
    "5.기점일로부터 위에서 구한 수만큼 센다. 이 경우 Twosday+1 = Treblesday\n",
    "요일 맞히기 - 수학으로 본 달력 (수학산책, 박부성)"
   ]
  },
  {
   "cell_type": "code",
   "execution_count": 18,
   "id": "heavy-sellers",
   "metadata": {
    "scrolled": true
   },
   "outputs": [
    {
     "data": {
      "text/plain": [
       "'FRI'"
      ]
     },
     "execution_count": 18,
     "metadata": {},
     "output_type": "execute_result"
    }
   ],
   "source": [
    "#a = month, b = day\n",
    "month = [31,29,31,30,31,30,31,31,30,31,30,31]\n",
    "week = ['THU','FRI','SAT','SUN','MON','TUE','WED']\n",
    "day = 0\n",
    "for i in range(a-1):\n",
    "    day += month[i]\n",
    "day = week[(day+b)%7]\n",
    "day\n",
    "                   "
   ]
  },
  {
   "cell_type": "code",
   "execution_count": null,
   "id": "joint-fantasy",
   "metadata": {},
   "outputs": [],
   "source": [
    "1 금 8 금 15 금 22 금 29 금 36 금"
   ]
  }
 ],
 "metadata": {
  "kernelspec": {
   "display_name": "Python 3",
   "language": "python",
   "name": "python3"
  },
  "language_info": {
   "codemirror_mode": {
    "name": "ipython",
    "version": 3
   },
   "file_extension": ".py",
   "mimetype": "text/x-python",
   "name": "python",
   "nbconvert_exporter": "python",
   "pygments_lexer": "ipython3",
   "version": "3.7.9"
  }
 },
 "nbformat": 4,
 "nbformat_minor": 5
}
