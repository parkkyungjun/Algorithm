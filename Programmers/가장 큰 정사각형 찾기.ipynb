{
 "cells": [
  {
   "cell_type": "markdown",
   "id": "historical-class",
   "metadata": {},
   "source": [
    "https://programmers.co.kr/learn/courses/30/lessons/12905"
   ]
  },
  {
   "cell_type": "code",
   "execution_count": 3,
   "id": "developing-netscape",
   "metadata": {},
   "outputs": [
    {
     "name": "stdout",
     "output_type": "stream",
     "text": [
      "1 1\n",
      "1 2\n",
      "1 3\n"
     ]
    },
    {
     "data": {
      "text/plain": [
       "4"
      ]
     },
     "execution_count": 3,
     "metadata": {},
     "output_type": "execute_result"
    }
   ],
   "source": [
    "def solution(board):\n",
    "    for i in range(1,len(board)):\n",
    "        for j in range(1,len(board[0])):\n",
    "            if board[i][j] == 1:\n",
    "                board[i][j] = min([board[i][j-1],board[i-1][j],board[i-1][j-1]]) + 1\n",
    "    return max([max(i) for i in board])**2\n",
    "solution([[0, 0, 1, 1], [1, 1, 1, 1]])"
   ]
  }
 ],
 "metadata": {
  "kernelspec": {
   "display_name": "Python 3",
   "language": "python",
   "name": "python3"
  },
  "language_info": {
   "codemirror_mode": {
    "name": "ipython",
    "version": 3
   },
   "file_extension": ".py",
   "mimetype": "text/x-python",
   "name": "python",
   "nbconvert_exporter": "python",
   "pygments_lexer": "ipython3",
   "version": "3.7.9"
  }
 },
 "nbformat": 4,
 "nbformat_minor": 5
}
