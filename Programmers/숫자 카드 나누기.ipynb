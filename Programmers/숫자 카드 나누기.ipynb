{
 "cells": [
  {
   "cell_type": "markdown",
   "metadata": {},
   "source": [
    "https://school.programmers.co.kr/learn/courses/30/lessons/135807"
   ]
  },
  {
   "cell_type": "code",
   "execution_count": 15,
   "metadata": {},
   "outputs": [
    {
     "data": {
      "text/plain": [
       "12"
      ]
     },
     "execution_count": 15,
     "metadata": {},
     "output_type": "execute_result"
    }
   ],
   "source": [
    "import math\n",
    "def solution(arrayA, arrayB):\n",
    "    a, b, c, d = gcd(arrayA), gcd(arrayB), 0, 0\n",
    "    if all([j%b != 0 for j in arrayA]):\n",
    "        c = b\n",
    "    if all([j%a != 0 for j in arrayB]):\n",
    "        d = a\n",
    "    return max(c, d)\n",
    "\n",
    "def gcd(nums):\n",
    "    gc = 0\n",
    "    for i in range(len(nums)):\n",
    "        gc = math.gcd(gc,nums[i])\n",
    "    return gc\n",
    "\n",
    "solution([10, 20], [5,17])"
   ]
  }
 ],
 "metadata": {
  "kernelspec": {
   "display_name": "Python 3.11.1 64-bit",
   "language": "python",
   "name": "python3"
  },
  "language_info": {
   "codemirror_mode": {
    "name": "ipython",
    "version": 3
   },
   "file_extension": ".py",
   "mimetype": "text/x-python",
   "name": "python",
   "nbconvert_exporter": "python",
   "pygments_lexer": "ipython3",
   "version": "3.11.1"
  },
  "orig_nbformat": 4,
  "vscode": {
   "interpreter": {
    "hash": "5c7b89af1651d0b8571dde13640ecdccf7d5a6204171d6ab33e7c296e100e08a"
   }
  }
 },
 "nbformat": 4,
 "nbformat_minor": 2
}
