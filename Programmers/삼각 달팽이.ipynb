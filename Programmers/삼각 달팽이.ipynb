{
 "cells": [
  {
   "cell_type": "markdown",
   "id": "liked-handy",
   "metadata": {},
   "source": [
    "https://programmers.co.kr/learn/courses/30/lessons/68645"
   ]
  },
  {
   "cell_type": "code",
   "execution_count": 16,
   "id": "extended-tiffany",
   "metadata": {},
   "outputs": [
    {
     "data": {
      "text/plain": [
       "[1, 2, 15, 3, 16, 14, 4, 17, 21, 13, 5, 18, 19, 20, 12, 6, 7, 8, 9, 10, 11]"
      ]
     },
     "execution_count": 16,
     "metadata": {},
     "output_type": "execute_result"
    }
   ],
   "source": [
    "def solution(n):\n",
    "    binkan = [[0 for i in range(n)] for i in range(n)]\n",
    "    def doldol(N,x,y,k,binkan):\n",
    "        for i in range(N):\n",
    "            y += 1 ; k += 1\n",
    "            binkan[y][x] = k\n",
    "        for i in range(N-1):\n",
    "            x += 1 ; k += 1\n",
    "            binkan[y][x] = k\n",
    "        if N > 1:\n",
    "            for i in range(N-2):\n",
    "                x -= 1 ; y -= 1 ; k += 1\n",
    "                binkan[y][x] = k\n",
    "        N -= 3\n",
    "        if 0 >= N:\n",
    "            return [i for j in binkan for i in j if i != 0]\n",
    "        return doldol(N,x,y,k,binkan)\n",
    "    return doldol(n,0,-1,0,binkan)\n",
    "solution(6)"
   ]
  }
 ],
 "metadata": {
  "kernelspec": {
   "display_name": "Python 3",
   "language": "python",
   "name": "python3"
  },
  "language_info": {
   "codemirror_mode": {
    "name": "ipython",
    "version": 3
   },
   "file_extension": ".py",
   "mimetype": "text/x-python",
   "name": "python",
   "nbconvert_exporter": "python",
   "pygments_lexer": "ipython3",
   "version": "3.7.9"
  }
 },
 "nbformat": 4,
 "nbformat_minor": 5
}
