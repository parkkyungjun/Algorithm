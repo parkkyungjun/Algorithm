{
 "cells": [
  {
   "cell_type": "markdown",
   "id": "whole-designer",
   "metadata": {},
   "source": [
    "https://programmers.co.kr/learn/courses/30/lessons/12951"
   ]
  },
  {
   "cell_type": "code",
   "execution_count": 27,
   "id": "aging-detective",
   "metadata": {},
   "outputs": [],
   "source": [
    "def solution(s):\n",
    "    if s[0] in ['1','2','3','4','5','6','7','8','9','0'] :\n",
    "        s = s.lower()\n",
    "    s = s.split(\" \")\n",
    "    l = []\n",
    "    for i in s:\n",
    "        if i != '':\n",
    "            l.append(i[0].upper())\n",
    "        else:\n",
    "            l.append('')\n",
    "    for i in range(len(l)):\n",
    "        l[i] += s[i][1:].lower()\n",
    "    return ' '.join(l)"
   ]
  }
 ],
 "metadata": {
  "kernelspec": {
   "display_name": "Python 3",
   "language": "python",
   "name": "python3"
  },
  "language_info": {
   "codemirror_mode": {
    "name": "ipython",
    "version": 3
   },
   "file_extension": ".py",
   "mimetype": "text/x-python",
   "name": "python",
   "nbconvert_exporter": "python",
   "pygments_lexer": "ipython3",
   "version": "3.7.9"
  }
 },
 "nbformat": 4,
 "nbformat_minor": 5
}
