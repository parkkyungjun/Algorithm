{
 "cells": [
  {
   "cell_type": "markdown",
   "id": "315915f1",
   "metadata": {},
   "source": [
    "https://school.programmers.co.kr/learn/courses/30/lessons/49993"
   ]
  },
  {
   "cell_type": "code",
   "execution_count": null,
   "id": "4b698ef9",
   "metadata": {},
   "outputs": [],
   "source": [
    "def solution(skill, skill_trees):\n",
    "    answer = 0\n",
    "    for i in skill_trees:\n",
    "        gs = ''\n",
    "        for j in range(len(i)):\n",
    "            if i[j] in skill:\n",
    "                gs += i[j]\n",
    "        if gs == '':\n",
    "            answer += 1\n",
    "            continue\n",
    "        for i in range(len(skill)):\n",
    "            if skill[:i+1] == gs:\n",
    "                answer += 1\n",
    "    return answer"
   ]
  },
  {
   "cell_type": "code",
   "execution_count": null,
   "id": "bcca5bdb",
   "metadata": {},
   "outputs": [],
   "source": [
    "def solution(skill, skill_trees):\n",
    "    cnt = 0\n",
    "    for i in skill_trees:        \n",
    "        index, f = 0, True\n",
    "        for j in list(i):\n",
    "            if index == len(skill):\n",
    "                break\n",
    "            if skill[index] != j:\n",
    "                if j in list(skill):\n",
    "                    f = False\n",
    "                    break\n",
    "            else:\n",
    "                index += 1\n",
    "        if f:\n",
    "            cnt += 1\n",
    "\n",
    "    return cnt"
   ]
  }
 ],
 "metadata": {
  "kernelspec": {
   "display_name": "Python 3 (ipykernel)",
   "language": "python",
   "name": "python3"
  },
  "language_info": {
   "codemirror_mode": {
    "name": "ipython",
    "version": 3
   },
   "file_extension": ".py",
   "mimetype": "text/x-python",
   "name": "python",
   "nbconvert_exporter": "python",
   "pygments_lexer": "ipython3",
   "version": "3.9.7"
  }
 },
 "nbformat": 4,
 "nbformat_minor": 5
}
