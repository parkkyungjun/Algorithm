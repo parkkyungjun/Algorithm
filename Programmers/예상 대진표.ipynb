{
 "cells": [
  {
   "cell_type": "markdown",
   "id": "expensive-foundation",
   "metadata": {},
   "source": [
    "https://programmers.co.kr/learn/courses/30/lessons/12985"
   ]
  },
  {
   "cell_type": "code",
   "execution_count": 25,
   "id": "substantial-sellers",
   "metadata": {
    "scrolled": true
   },
   "outputs": [
    {
     "data": {
      "text/plain": [
       "3"
      ]
     },
     "execution_count": 25,
     "metadata": {},
     "output_type": "execute_result"
    }
   ],
   "source": [
    "def solution(n,a,b):\n",
    "    answer = 1\n",
    "    n,m = max([a,b]),min([a,b])\n",
    "    while True:\n",
    "        if n - m == 1 and n%2 ==0:\n",
    "            return answer\n",
    "        if n%2 ==1:\n",
    "            n +=1\n",
    "        if m%2 ==1:\n",
    "            m +=1\n",
    "        n = n//2\n",
    "        m = m//2\n",
    "        answer += 1\n",
    "\n",
    "solution(8, 1, 8)"
   ]
  },
  {
   "cell_type": "code",
   "execution_count": 23,
   "id": "gorgeous-teach",
   "metadata": {},
   "outputs": [
    {
     "data": {
      "text/plain": [
       "'0b111'"
      ]
     },
     "execution_count": 23,
     "metadata": {},
     "output_type": "execute_result"
    }
   ],
   "source": [
    "def solution(n,a,b):\n",
    "    return bin((a-1)^(b-1))\n",
    "\n",
    "solution(8, 1, 8)\n"
   ]
  }
 ],
 "metadata": {
  "kernelspec": {
   "display_name": "Python 3",
   "language": "python",
   "name": "python3"
  },
  "language_info": {
   "codemirror_mode": {
    "name": "ipython",
    "version": 3
   },
   "file_extension": ".py",
   "mimetype": "text/x-python",
   "name": "python",
   "nbconvert_exporter": "python",
   "pygments_lexer": "ipython3",
   "version": "3.7.9"
  }
 },
 "nbformat": 4,
 "nbformat_minor": 5
}
