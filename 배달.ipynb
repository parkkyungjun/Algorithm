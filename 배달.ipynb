{
 "cells": [
  {
   "cell_type": "markdown",
   "id": "falling-handy",
   "metadata": {},
   "source": [
    "https://programmers.co.kr/learn/courses/30/lessons/12978"
   ]
  },
  {
   "cell_type": "code",
   "execution_count": 59,
   "id": "actual-nerve",
   "metadata": {},
   "outputs": [
    {
     "data": {
      "text/plain": [
       "{1: 0, 2: 1, 3: 2, 4: 5, 5: 4, 6: 5}"
      ]
     },
     "execution_count": 59,
     "metadata": {},
     "output_type": "execute_result"
    }
   ],
   "source": [
    "from collections import deque\n",
    "\n",
    "def solution(N, road, K):\n",
    "    nodes = {}\n",
    "    dist = { i:float('inf') if i != 1 else 0 for i in range(1, N+1) }\n",
    "    for v1, v2, d in road:\n",
    "        nodes[v1] = nodes.get(v1, []) + [(v2, d)]\n",
    "        nodes[v2] = nodes.get(v2, []) + [(v1, d)]\n",
    "    que = deque([1])\n",
    "    \n",
    "    while que:\n",
    "        cur_node = que.popleft()\n",
    "        for nxt_node, d in nodes[cur_node]:\n",
    "            if dist[nxt_node] > dist[cur_node] + d:\n",
    "                dist[nxt_node] = dist[cur_node] + d\n",
    "                que.append(nxt_node)\n",
    "    return dist\n",
    "solution(6, [[1, 2, 1], [1, 3, 2], [2, 3, 2], [3, 4, 3], [3, 5, 2], [3, 5, 3], [5, 6, 1]], 4)"
   ]
  },
  {
   "cell_type": "code",
   "execution_count": 65,
   "id": "supreme-attitude",
   "metadata": {},
   "outputs": [
    {
     "name": "stdout",
     "output_type": "stream",
     "text": [
      "{1: {2: 1, 3: 2}, 2: {3: 2, 1: 1}, 3: {4: 3, 5: 3, 1: 2, 2: 2}, 5: {6: 1, 3: 3}, 4: {3: 3}, 6: {5: 1}}\n"
     ]
    },
    {
     "data": {
      "text/plain": [
       "3"
      ]
     },
     "execution_count": 65,
     "metadata": {},
     "output_type": "execute_result"
    }
   ],
   "source": [
    "from collections import deque\n",
    "def solution(N, road, K):\n",
    "    road = road + [[i[1],i[0],i[2]] for i in road]\n",
    "    road ={i[0]:{j[1]:j[2] for j in road if i[0]==j[0]} for i in road}\n",
    "    dis = {i:float('inf') if i != 1 else 0 for i in range(1,N+1)}\n",
    "    q = deque([1])\n",
    "    while q:\n",
    "        c_n = q.popleft()\n",
    "        for n_n,d in road[c_n].items():\n",
    "            if dis[n_n] > dis[c_n] + d:\n",
    "                dis[n_n] = dis[c_n] + d\n",
    "                q.append(n_n)\n",
    "    print(road)\n",
    "    return sum([1 for i in dis.values() if K >= i])\n",
    "solution(6, [[1, 2, 1], [1, 3, 2], [2, 3, 2], [3, 4, 3], [3, 5, 2], [3, 5, 3], [5, 6, 1]], 4)"
   ]
  },
  {
   "cell_type": "code",
   "execution_count": null,
   "id": "invalid-elements",
   "metadata": {},
   "outputs": [],
   "source": []
  }
 ],
 "metadata": {
  "kernelspec": {
   "display_name": "Python 3",
   "language": "python",
   "name": "python3"
  },
  "language_info": {
   "codemirror_mode": {
    "name": "ipython",
    "version": 3
   },
   "file_extension": ".py",
   "mimetype": "text/x-python",
   "name": "python",
   "nbconvert_exporter": "python",
   "pygments_lexer": "ipython3",
   "version": "3.7.9"
  }
 },
 "nbformat": 4,
 "nbformat_minor": 5
}
