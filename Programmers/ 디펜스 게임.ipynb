{
 "cells": [
  {
   "cell_type": "markdown",
   "id": "4cf707ad",
   "metadata": {},
   "source": [
    "https://school.programmers.co.kr/learn/courses/30/lessons/142085#qna"
   ]
  },
  {
   "cell_type": "code",
   "execution_count": 4,
   "id": "cea95d47",
   "metadata": {},
   "outputs": [
    {
     "data": {
      "text/plain": [
       "5"
      ]
     },
     "execution_count": 4,
     "metadata": {},
     "output_type": "execute_result"
    }
   ],
   "source": [
    "import heapq\n",
    "def solution(n, k, enemy):\n",
    "    heap = []\n",
    "    for index, i in enumerate(enemy):\n",
    "        n -= i\n",
    "        heapq.heappush(heap, -i)\n",
    "        \n",
    "        if n < 0:\n",
    "            if k > 0:\n",
    "                n, k = n-heapq.heappop(heap), k-1, \n",
    "            else:\n",
    "                return index\n",
    "    return len(enemy)\n",
    "\n",
    "solution(7, 3, [4, 2, 4, 5, 3, 3, 1])\n"
   ]
  }
 ],
 "metadata": {
  "kernelspec": {
   "display_name": "Python 3 (ipykernel)",
   "language": "python",
   "name": "python3"
  },
  "language_info": {
   "codemirror_mode": {
    "name": "ipython",
    "version": 3
   },
   "file_extension": ".py",
   "mimetype": "text/x-python",
   "name": "python",
   "nbconvert_exporter": "python",
   "pygments_lexer": "ipython3",
   "version": "3.9.12"
  }
 },
 "nbformat": 4,
 "nbformat_minor": 5
}
