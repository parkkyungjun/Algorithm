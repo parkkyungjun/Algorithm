{
 "cells": [
  {
   "cell_type": "markdown",
   "id": "lonely-belarus",
   "metadata": {},
   "source": [
    "https://programmers.co.kr/learn/courses/30/lessons/76502"
   ]
  },
  {
   "cell_type": "code",
   "execution_count": 1,
   "id": "demographic-villa",
   "metadata": {},
   "outputs": [
    {
     "data": {
      "text/plain": [
       "1"
      ]
     },
     "execution_count": 1,
     "metadata": {},
     "output_type": "execute_result"
    }
   ],
   "source": [
    "from collections import deque\n",
    "def solution(k):\n",
    "    k, result, n = deque(k), 0, 0\n",
    "    while n != len(k):\n",
    "        n += 1\n",
    "        s,d,j = 0, 0, 0\n",
    "        for i in k:\n",
    "            if i == '[': d += 1\n",
    "            elif i == ']': d -= 1\n",
    "            elif i == '{': j += 1\n",
    "            elif i == '}': j -= 1\n",
    "            elif i == '(': s += 1\n",
    "            elif i == ')': s -= 1\n",
    "            if d == -1 or j == -1 or s == -1 :break\n",
    "        if [s,d,j] == [0,0,0]: \n",
    "            result += 1\n",
    "        k.rotate(-1)\n",
    "    return result\n",
    "solution('([{)}]')"
   ]
  },
  {
   "cell_type": "code",
   "execution_count": 26,
   "id": "active-briefing",
   "metadata": {},
   "outputs": [
    {
     "name": "stdout",
     "output_type": "stream",
     "text": [
      "deque(['}', '}', '}'])\n",
      "deque(['}', '}', '}'])\n",
      "deque(['}', '}', '}'])\n"
     ]
    },
    {
     "data": {
      "text/plain": [
       "0"
      ]
     },
     "execution_count": 26,
     "metadata": {},
     "output_type": "execute_result"
    }
   ],
   "source": [
    "from collections import deque\n",
    "def solution(k):\n",
    "    save, k, result, n = [], deque(k), 0, 0\n",
    "    while n != len(k):\n",
    "        m = 0\n",
    "        n += 1\n",
    "        print(k)\n",
    "        for i in k:\n",
    "            if k[0] == ')' or k[0] == '}' or k[0] == ']':\n",
    "                m = 1\n",
    "                break\n",
    "            if i == '(' or i == '{' or i == '[':\n",
    "                save.append(i)\n",
    "                m = 1\n",
    "            else:\n",
    "                if len(save) != 0:\n",
    "                    if save[-1] == '[' and i == ']' or save[-1] == '(' and i == ')'or\\\n",
    "                    save[-1] == '{' and i == '}':\n",
    "                        save.pop()\n",
    "                        m = 0\n",
    "                        pass\n",
    "                    else:\n",
    "                        m = 1\n",
    "                        break\n",
    "        if m == 0:\n",
    "            result += 1\n",
    "        k.rotate(-1)\n",
    "    return result\n",
    "solution(\"}}}\")\n",
    "        "
   ]
  },
  {
   "cell_type": "code",
   "execution_count": 23,
   "id": "constant-stevens",
   "metadata": {},
   "outputs": [
    {
     "data": {
      "text/plain": [
       "deque([']', '(', ')', '{', '}', '['])"
      ]
     },
     "execution_count": 23,
     "metadata": {},
     "output_type": "execute_result"
    }
   ],
   "source": [
    "s = \"[](){}\"\n",
    "s = deque(s)\n",
    "s.rotate(-1)\n",
    "s"
   ]
  }
 ],
 "metadata": {
  "kernelspec": {
   "display_name": "Python 3",
   "language": "python",
   "name": "python3"
  },
  "language_info": {
   "codemirror_mode": {
    "name": "ipython",
    "version": 3
   },
   "file_extension": ".py",
   "mimetype": "text/x-python",
   "name": "python",
   "nbconvert_exporter": "python",
   "pygments_lexer": "ipython3",
   "version": "3.7.9"
  }
 },
 "nbformat": 4,
 "nbformat_minor": 5
}
