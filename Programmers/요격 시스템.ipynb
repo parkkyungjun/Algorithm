{
 "cells": [
  {
   "cell_type": "markdown",
   "id": "8e39fe1d",
   "metadata": {},
   "source": [
    "https://school.programmers.co.kr/learn/courses/30/lessons/181188"
   ]
  },
  {
   "cell_type": "code",
   "execution_count": 5,
   "id": "e75284c0",
   "metadata": {},
   "outputs": [],
   "source": [
    "def solution(targets):\n",
    "    targets.sort(key=lambda x: x[1])  \n",
    "    last_intercepted = -1  \n",
    "    intercept_count = 0  \n",
    "\n",
    "    for target in targets:\n",
    "        if target[0] >= last_intercepted:  \n",
    "            intercept_count += 1  \n",
    "            last_intercepted = target[1] \n",
    "\n",
    "    return intercept_count"
   ]
  }
 ],
 "metadata": {
  "kernelspec": {
   "display_name": "Python 3 (ipykernel)",
   "language": "python",
   "name": "python3"
  },
  "language_info": {
   "codemirror_mode": {
    "name": "ipython",
    "version": 3
   },
   "file_extension": ".py",
   "mimetype": "text/x-python",
   "name": "python",
   "nbconvert_exporter": "python",
   "pygments_lexer": "ipython3",
   "version": "3.7.9"
  }
 },
 "nbformat": 4,
 "nbformat_minor": 5
}
