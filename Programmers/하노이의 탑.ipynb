{
 "cells": [
  {
   "cell_type": "markdown",
   "id": "e248a97e",
   "metadata": {},
   "source": [
    "https://school.programmers.co.kr/learn/courses/30/lessons/12946"
   ]
  },
  {
   "cell_type": "code",
   "execution_count": null,
   "id": "562d224a",
   "metadata": {},
   "outputs": [],
   "source": [
    "def solution(n):\n",
    "    def hanoi(a,b,c,n):\n",
    "        if n == 0:\n",
    "            return []\n",
    "        return hanoi(a,c,b,n-1) + [[a,c]] + hanoi(b,a,c,n-1)\n",
    "    return hanoi(1, 2, 3, n)"
   ]
  }
 ],
 "metadata": {
  "kernelspec": {
   "display_name": "Python 3 (ipykernel)",
   "language": "python",
   "name": "python3"
  },
  "language_info": {
   "codemirror_mode": {
    "name": "ipython",
    "version": 3
   },
   "file_extension": ".py",
   "mimetype": "text/x-python",
   "name": "python",
   "nbconvert_exporter": "python",
   "pygments_lexer": "ipython3",
   "version": "3.9.7"
  }
 },
 "nbformat": 4,
 "nbformat_minor": 5
}
