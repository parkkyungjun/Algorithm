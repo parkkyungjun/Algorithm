{
 "cells": [
  {
   "cell_type": "markdown",
   "id": "0988ccd6",
   "metadata": {},
   "source": [
    "https://school.programmers.co.kr/learn/courses/30/lessons/138476"
   ]
  },
  {
   "cell_type": "code",
   "execution_count": 6,
   "id": "a6a165b1",
   "metadata": {},
   "outputs": [
    {
     "data": {
      "text/plain": [
       "3"
      ]
     },
     "execution_count": 6,
     "metadata": {},
     "output_type": "execute_result"
    }
   ],
   "source": [
    "from collections import defaultdict\n",
    "def solution(k, tangerine):\n",
    "    n = defaultdict(int)\n",
    "    \n",
    "    for i in tangerine:\n",
    "        n[i] += 1\n",
    "        \n",
    "    n = sorted(n.items(), key = lambda x: x[1], reverse=True)\n",
    "    \n",
    "    a, cnt = 0, 0\n",
    "\n",
    "    for _, i in n:\n",
    "        a += i\n",
    "        cnt += 1\n",
    "        if a >= k:\n",
    "            return cnt\n",
    "        \n",
    "solution(6, [1, 3, 2, 5, 4, 5, 2, 3])"
   ]
  }
 ],
 "metadata": {
  "kernelspec": {
   "display_name": "Python 3 (ipykernel)",
   "language": "python",
   "name": "python3"
  },
  "language_info": {
   "codemirror_mode": {
    "name": "ipython",
    "version": 3
   },
   "file_extension": ".py",
   "mimetype": "text/x-python",
   "name": "python",
   "nbconvert_exporter": "python",
   "pygments_lexer": "ipython3",
   "version": "3.9.12"
  }
 },
 "nbformat": 4,
 "nbformat_minor": 5
}
