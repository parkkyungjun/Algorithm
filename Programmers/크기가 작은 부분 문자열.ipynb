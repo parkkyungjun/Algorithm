{
 "cells": [
  {
   "cell_type": "markdown",
   "id": "6e5190c0",
   "metadata": {},
   "source": [
    "https://school.programmers.co.kr/learn/courses/30/lessons/147355"
   ]
  },
  {
   "cell_type": "code",
   "execution_count": null,
   "id": "c18b20da",
   "metadata": {},
   "outputs": [],
   "source": [
    "def solution(t, p):\n",
    "    a, b, c = len(t), len(p), int(p)\n",
    "    cnt = 0\n",
    "    \n",
    "    for i in range(a - b + 1):\n",
    "        if int(t[i:i+b]) <= c:\n",
    "            cnt += 1\n",
    "    return cnt"
   ]
  }
 ],
 "metadata": {
  "kernelspec": {
   "display_name": "Python 3 (ipykernel)",
   "language": "python",
   "name": "python3"
  },
  "language_info": {
   "codemirror_mode": {
    "name": "ipython",
    "version": 3
   },
   "file_extension": ".py",
   "mimetype": "text/x-python",
   "name": "python",
   "nbconvert_exporter": "python",
   "pygments_lexer": "ipython3",
   "version": "3.9.12"
  }
 },
 "nbformat": 4,
 "nbformat_minor": 5
}
