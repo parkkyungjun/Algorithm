{
 "cells": [
  {
   "attachments": {},
   "cell_type": "markdown",
   "id": "engaging-northeast",
   "metadata": {},
   "source": [
    "* 문제 설명\n",
    "스마트폰 전화 키패드의 각 칸에 다음과 같이 숫자들이 적혀 있습니다.\n",
    "\n",
    "\n",
    "\n",
    "* 이 전화 키패드에서 왼손과 오른손의 엄지손가락만을 이용해서 숫자만을 입력하려고 합니다.\n",
    "맨 처음 왼손 엄지손가락은 * 키패드에 오른손 엄지손가락은 # 키패드 위치에서 시작하며, 엄지손가락을 사용하는 규칙은 다음과 같습니다.\n",
    "\n",
    "* 엄지손가락은 상하좌우 4가지 방향으로만 이동할 수 있으며 키패드 이동 한 칸은 거리로 1에 해당합니다.\n",
    "왼쪽 열의 3개의 숫자 1, 4, 7을 입력할 때는 왼손 엄지손가락을 사용합니다.\n",
    "오른쪽 열의 3개의 숫자 3, 6, 9를 입력할 때는 오른손 엄지손가락을 사용합니다.\n",
    "가운데 열의 4개의 숫자 2, 5, 8, 0을 입력할 때는 두 엄지손가락의 현재 키패드의 위치에서 더 가까운 엄지손가락을 사용합니다.\n",
    "4-1. 만약 두 엄지손가락의 거리가 같다면, 오른손잡이는 오른손 엄지손가락, 왼손잡이는 왼손 엄지손가락을 사용합니다.\n",
    "순서대로 누를 번호가 담긴 배열 numbers, 왼손잡이인지 오른손잡이인 지를 나타내는 문자열 hand가 매개변수로 주어질 때, 각 번호를 누른 엄지손가락이 왼손인 지 오른손인 지를 나타내는 연속된 문자열 형태로 return 하도록 solution 함수를 완성해주세요.\n",
    "\n",
    "* [제한사항]\n",
    "numbers 배열의 크기는 1 이상 1,000 이하입니다.\n",
    "numbers 배열 원소의 값은 0 이상 9 이하인 정수입니다.\n",
    "hand는 \"left\" 또는 \"right\" 입니다.\n",
    "\"left\"는 왼손잡이, \"right\"는 오른손잡이를 의미합니다.\n",
    "왼손 엄지손가락을 사용한 경우는 L, 오른손 엄지손가락을 사용한 경우는 R을 순서대로 이어붙여 문자열 형태로 return 해주세요."
   ]
  },
  {
   "cell_type": "code",
   "execution_count": 69,
   "id": "passive-student",
   "metadata": {},
   "outputs": [
    {
     "data": {
      "text/plain": [
       "'LRLLRRLLLRR'"
      ]
     },
     "execution_count": 69,
     "metadata": {},
     "output_type": "execute_result"
    }
   ],
   "source": [
    "def solution(numbers, hand):\n",
    "    result = \"\"\n",
    "    phone = [[1,2,3],[4,5,6],[7,8,9],['*',0,'#']]\n",
    "    def b(numbers,phone):\n",
    "        for i in range(4):\n",
    "            for j in range(3):\n",
    "                if numbers == phone[i][j]:\n",
    "                    return [i,j]\n",
    "    l,r = [3,0],[3,2]\n",
    "    for i in numbers:\n",
    "        if i in [1,4,7]:\n",
    "            l = b(i,phone)\n",
    "            result += \"L\"\n",
    "            continue\n",
    "        elif i in [3,6,9]:\n",
    "            r = b(i,phone)\n",
    "            result += \"R\"\n",
    "            continue\n",
    "        else:\n",
    "            if sum([abs(x-y) for x,y in zip(b(i,phone),l)]) > \\\n",
    "            sum([abs(x-y) for x,y in zip(b(i,phone),r)]):\n",
    "                r = b(i,phone)\n",
    "                result += \"R\"\n",
    "                continue\n",
    "            elif sum([abs(x-y) for x,y in zip(b(i,phone),l)]) < \\\n",
    "            sum([abs(x-y) for x,y in zip(b(i,phone),r)]):\n",
    "                l = b(i,phone)\n",
    "                result += \"L\"\n",
    "                continue\n",
    "            else:\n",
    "                if hand == \"right\":\n",
    "                    result += \"R\"\n",
    "                    r = b(i,phone)\n",
    "                    continue\n",
    "                else:\n",
    "                    result += \"L\"\n",
    "                    l = b(i,phone)\n",
    "                    continue\n",
    "                \n",
    "    return result\n",
    "solution([7, 0, 8, 2, 8, 3, 1, 5, 7, 6, 2],\"left\")"
   ]
  }
 ],
 "metadata": {
  "kernelspec": {
   "display_name": "Python 3",
   "language": "python",
   "name": "python3"
  },
  "language_info": {
   "codemirror_mode": {
    "name": "ipython",
    "version": 3
   },
   "file_extension": ".py",
   "mimetype": "text/x-python",
   "name": "python",
   "nbconvert_exporter": "python",
   "pygments_lexer": "ipython3",
   "version": "3.7.9"
  }
 },
 "nbformat": 4,
 "nbformat_minor": 5
}
