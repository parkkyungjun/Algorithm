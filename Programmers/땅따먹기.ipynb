{
 "cells": [
  {
   "cell_type": "markdown",
   "id": "modified-multimedia",
   "metadata": {},
   "source": [
    "https://programmers.co.kr/learn/courses/30/lessons/12913"
   ]
  },
  {
   "cell_type": "code",
   "execution_count": 1,
   "id": "opposed-prospect",
   "metadata": {},
   "outputs": [],
   "source": [
    "def solution(land):\n",
    "    for i in range(1,len(land)):\n",
    "        for j in range(4):\n",
    "            land[i][j] = max(land[i-1][:j] + land[i-1][j+1:]) + land[i][j]\n",
    "    return max(land)\n",
    "    "
   ]
  }
 ],
 "metadata": {
  "kernelspec": {
   "display_name": "Python 3",
   "language": "python",
   "name": "python3"
  },
  "language_info": {
   "codemirror_mode": {
    "name": "ipython",
    "version": 3
   },
   "file_extension": ".py",
   "mimetype": "text/x-python",
   "name": "python",
   "nbconvert_exporter": "python",
   "pygments_lexer": "ipython3",
   "version": "3.7.9"
  }
 },
 "nbformat": 4,
 "nbformat_minor": 5
}
