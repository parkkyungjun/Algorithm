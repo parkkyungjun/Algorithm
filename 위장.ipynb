{
 "cells": [
  {
   "cell_type": "markdown",
   "id": "e916829d",
   "metadata": {},
   "source": [
    "https://school.programmers.co.kr/learn/courses/30/lessons/42578"
   ]
  },
  {
   "cell_type": "code",
   "execution_count": 2,
   "id": "f0a78f22",
   "metadata": {},
   "outputs": [],
   "source": [
    "from functools import reduce\n",
    "from collections import Counter\n",
    "def solution(clothes):\n",
    "    C = Counter([v for k, v in clothes])\n",
    "    return reduce(lambda x, y: x * (y+1), C.values(), 1) - 1"
   ]
  }
 ],
 "metadata": {
  "kernelspec": {
   "display_name": "Python 3 (ipykernel)",
   "language": "python",
   "name": "python3"
  },
  "language_info": {
   "codemirror_mode": {
    "name": "ipython",
    "version": 3
   },
   "file_extension": ".py",
   "mimetype": "text/x-python",
   "name": "python",
   "nbconvert_exporter": "python",
   "pygments_lexer": "ipython3",
   "version": "3.7.9"
  }
 },
 "nbformat": 4,
 "nbformat_minor": 5
}
