{
 "cells": [
  {
   "cell_type": "markdown",
   "id": "bb2fd61f",
   "metadata": {},
   "source": [
    "https://school.programmers.co.kr/learn/courses/30/lessons/42583"
   ]
  },
  {
   "cell_type": "code",
   "execution_count": 54,
   "id": "b98458bf",
   "metadata": {
    "scrolled": true
   },
   "outputs": [
    {
     "name": "stdout",
     "output_type": "stream",
     "text": [
      "99 [[1, 5]]\n",
      "98 [[1, 4], [1, 5]]\n",
      "97 [[1, 3], [1, 4], [1, 5]]\n",
      "96 [[1, 2], [1, 3], [1, 4], [1, 5]]\n",
      "95 [[1, 1], [1, 2], [1, 3], [1, 4], [1, 5]]\n",
      "95 [[1, 1], [1, 2], [1, 3], [1, 4], [1, 5]]\n",
      "95 [[1, 1], [1, 2], [1, 3], [1, 4], [1, 5]]\n",
      "91 [[1, 1], [1, 2], [1, 3], [1, 4], [5, 5]]\n",
      "87 [[1, 1], [1, 2], [1, 3], [5, 4], [5, 5]]\n",
      "83 [[1, 1], [1, 2], [5, 3], [5, 4], [5, 5]]\n",
      "79 [[1, 1], [5, 2], [5, 3], [5, 4], [5, 5]]\n",
      "75 [[5, 1], [5, 2], [5, 3], [5, 4], [5, 5]]\n",
      "75 [[5, 1], [5, 2], [5, 3], [5, 4], [5, 5]]\n",
      "0 [[100, 5]]\n"
     ]
    },
    {
     "data": {
      "text/plain": [
       "23"
      ]
     },
     "execution_count": 54,
     "metadata": {},
     "output_type": "execute_result"
    }
   ],
   "source": [
    "def solution(bridge_length, weight, truck_weights):\n",
    "    now, time = [], 0\n",
    "    for i in range(len(truck_weights)):\n",
    "        if weight >= truck_weights[i]:\n",
    "            weight -= truck_weights[i]\n",
    "            time += 1\n",
    "            for j in now:\n",
    "                j[1] -= 1\n",
    "            if len(now) > 0:\n",
    "                if now[0][1] == 0:\n",
    "                    weight += now[0][0]\n",
    "                    now.pop(0)\n",
    "            now.append([truck_weights[i],bridge_length])\n",
    "        else:\n",
    "            while weight < truck_weights[i]:\n",
    "                #print(weight, truck_weights[i],now)\n",
    "                q = now.pop(0)\n",
    "                weight += q[0]\n",
    "                time += q[1]\n",
    "                for j in now:\n",
    "                    j[1] -= q[1]\n",
    "                    \n",
    "            weight -= truck_weights[i]\n",
    "            now.append([truck_weights[i],bridge_length])\n",
    "        print(weight,now)\n",
    "    return time + now[-1][1]\n",
    "\n",
    "#olution(2,10,[7,4,5,6])\n",
    "solution(5,100,[1,1,1,1,1,1,1,5,5,5,5,5,5,100])"
   ]
  }
 ],
 "metadata": {
  "kernelspec": {
   "display_name": "Python 3 (ipykernel)",
   "language": "python",
   "name": "python3"
  },
  "language_info": {
   "codemirror_mode": {
    "name": "ipython",
    "version": 3
   },
   "file_extension": ".py",
   "mimetype": "text/x-python",
   "name": "python",
   "nbconvert_exporter": "python",
   "pygments_lexer": "ipython3",
   "version": "3.7.9"
  }
 },
 "nbformat": 4,
 "nbformat_minor": 5
}
