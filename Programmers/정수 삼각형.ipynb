{
 "cells": [
  {
   "cell_type": "markdown",
   "id": "german-frontier",
   "metadata": {},
   "source": [
    "https://programmers.co.kr/learn/courses/30/lessons/43105"
   ]
  },
  {
   "cell_type": "code",
   "execution_count": 24,
   "id": "eleven-graduate",
   "metadata": {},
   "outputs": [
    {
     "data": {
      "text/plain": [
       "30"
      ]
     },
     "execution_count": 24,
     "metadata": {},
     "output_type": "execute_result"
    }
   ],
   "source": [
    "def solution(triangle):\n",
    "    for i in range(1,len(triangle)):\n",
    "        for j in range(len(triangle[i])):\n",
    "            if j == 0:\n",
    "                triangle[i][j] = triangle[i][j] + triangle[i-1][j]\n",
    "            elif j == len(triangle[i]) -1:\n",
    "                triangle[i][j] = triangle[i][j] + triangle[i-1][j-1]\n",
    "            else:\n",
    "                if triangle[i-1][j] >= triangle[i-1][j-1]:\n",
    "                    triangle[i][j] = triangle[i-1][j] + triangle[i][j]\n",
    "                else:\n",
    "                    triangle[i][j] = triangle[i-1][j-1] + triangle[i][j]\n",
    "    return max(triangle[-1])\n",
    "solution([[7], [3, 8], [8, 1, 0], [2, 7, 4, 4], [4, 5, 2, 6, 5]])"
   ]
  }
 ],
 "metadata": {
  "kernelspec": {
   "display_name": "Python 3",
   "language": "python",
   "name": "python3"
  },
  "language_info": {
   "codemirror_mode": {
    "name": "ipython",
    "version": 3
   },
   "file_extension": ".py",
   "mimetype": "text/x-python",
   "name": "python",
   "nbconvert_exporter": "python",
   "pygments_lexer": "ipython3",
   "version": "3.7.9"
  }
 },
 "nbformat": 4,
 "nbformat_minor": 5
}
