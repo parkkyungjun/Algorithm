{
 "cells": [
  {
   "cell_type": "markdown",
   "id": "possible-awareness",
   "metadata": {},
   "source": [
    "https://programmers.co.kr/learn/courses/30/lessons/43165"
   ]
  },
  {
   "cell_type": "code",
   "execution_count": 29,
   "id": "turned-candidate",
   "metadata": {},
   "outputs": [],
   "source": [
    "from itertools import product\n",
    "def solution(numbers, target):\n",
    "    l = [(x, -x) for x in numbers]\n",
    "    s = list(map(sum, product(*l)))\n",
    "    return s.count(target)"
   ]
  }
 ],
 "metadata": {
  "kernelspec": {
   "display_name": "Python 3",
   "language": "python",
   "name": "python3"
  },
  "language_info": {
   "codemirror_mode": {
    "name": "ipython",
    "version": 3
   },
   "file_extension": ".py",
   "mimetype": "text/x-python",
   "name": "python",
   "nbconvert_exporter": "python",
   "pygments_lexer": "ipython3",
   "version": "3.7.9"
  }
 },
 "nbformat": 4,
 "nbformat_minor": 5
}
