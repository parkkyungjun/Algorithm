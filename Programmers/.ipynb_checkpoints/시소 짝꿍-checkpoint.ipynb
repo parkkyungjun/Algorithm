{
 "cells": [
  {
   "cell_type": "markdown",
   "id": "1feccc2a",
   "metadata": {},
   "source": [
    "https://school.programmers.co.kr/learn/courses/30/lessons/152996#"
   ]
  },
  {
   "cell_type": "code",
   "execution_count": null,
   "id": "a5bf84c7",
   "metadata": {},
   "outputs": [],
   "source": [
    "from collections import Counter\n",
    "\n",
    "def solution(weights):\n",
    "    w = Counter(weights)\n",
    "    \n",
    "    return sum([(w[i]*(w[i]-1))//2+w[i]*w[i*2]+w[i]*w[i*2/3]+w[i]*w[i*3/4] for i in w.keys()])"
   ]
  }
 ],
 "metadata": {
  "kernelspec": {
   "display_name": "Python 3 (ipykernel)",
   "language": "python",
   "name": "python3"
  },
  "language_info": {
   "codemirror_mode": {
    "name": "ipython",
    "version": 3
   },
   "file_extension": ".py",
   "mimetype": "text/x-python",
   "name": "python",
   "nbconvert_exporter": "python",
   "pygments_lexer": "ipython3",
   "version": "3.9.12"
  }
 },
 "nbformat": 4,
 "nbformat_minor": 5
}
