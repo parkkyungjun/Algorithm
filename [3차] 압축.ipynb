{
 "cells": [
  {
   "cell_type": "markdown",
   "id": "corresponding-capture",
   "metadata": {},
   "source": [
    "https://programmers.co.kr/learn/courses/30/lessons/17684"
   ]
  },
  {
   "cell_type": "code",
   "execution_count": 10,
   "id": "special-privilege",
   "metadata": {},
   "outputs": [
    {
     "data": {
      "text/plain": [
       "[11, 1, 27, 15]"
      ]
     },
     "execution_count": 10,
     "metadata": {},
     "output_type": "execute_result"
    }
   ],
   "source": [
    "def solution(msg):\n",
    "    a = [chr(i) for i in range(ord('A'),ord('Z')+1)]\n",
    "    b = [i for i in range(1,27)]\n",
    "    alpa = dict(zip(a,b))\n",
    "    answer,i, j = [], 2, 27\n",
    "    while len(msg) > 1 :\n",
    "        if msg[:i] in alpa.keys():\n",
    "            if msg[:i] == msg:\n",
    "                answer.append(alpa[msg[:i]])\n",
    "                return answer\n",
    "            i += 1\n",
    "            continue\n",
    "        else:\n",
    "            answer.append(alpa[msg[:i-1]])\n",
    "            alpa[msg[:i]] = j\n",
    "            msg = msg[i-1:]\n",
    "            j += 1 ; i = 2\n",
    "    if len(msg) == 1:\n",
    "        answer.append(alpa[msg])\n",
    "    return answer\n",
    "solution('KAKAO')\n"
   ]
  }
 ],
 "metadata": {
  "kernelspec": {
   "display_name": "Python 3",
   "language": "python",
   "name": "python3"
  },
  "language_info": {
   "codemirror_mode": {
    "name": "ipython",
    "version": 3
   },
   "file_extension": ".py",
   "mimetype": "text/x-python",
   "name": "python",
   "nbconvert_exporter": "python",
   "pygments_lexer": "ipython3",
   "version": "3.7.9"
  }
 },
 "nbformat": 4,
 "nbformat_minor": 5
}
