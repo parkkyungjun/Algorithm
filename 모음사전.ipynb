{
 "cells": [
  {
   "cell_type": "markdown",
   "id": "6359b8c8",
   "metadata": {},
   "source": [
    "https://school.programmers.co.kr/learn/courses/30/lessons/84512"
   ]
  },
  {
   "cell_type": "code",
   "execution_count": 27,
   "id": "934e6c3a",
   "metadata": {},
   "outputs": [],
   "source": [
    "from itertools import product\n",
    "def solution(word):\n",
    "    return sorted([''.join(j) for i in range(5) for j in product('AEIOU', repeat=i+1)]).index(word)+1"
   ]
  }
 ],
 "metadata": {
  "kernelspec": {
   "display_name": "Python 3 (ipykernel)",
   "language": "python",
   "name": "python3"
  },
  "language_info": {
   "codemirror_mode": {
    "name": "ipython",
    "version": 3
   },
   "file_extension": ".py",
   "mimetype": "text/x-python",
   "name": "python",
   "nbconvert_exporter": "python",
   "pygments_lexer": "ipython3",
   "version": "3.9.7"
  }
 },
 "nbformat": 4,
 "nbformat_minor": 5
}
