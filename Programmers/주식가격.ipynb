{
 "cells": [
  {
   "cell_type": "markdown",
   "id": "d4dc927e",
   "metadata": {},
   "source": [
    "https://school.programmers.co.kr/learn/courses/30/lessons/42584"
   ]
  },
  {
   "cell_type": "code",
   "execution_count": null,
   "id": "1f8606f5",
   "metadata": {},
   "outputs": [],
   "source": [
    "def solution(prices):\n",
    "    answer = [0] * len(prices)\n",
    "    for i in range(len(prices)-1):\n",
    "        for j in range(i,len(prices)-1):\n",
    "            if prices[i] > prices[j]:\n",
    "                break\n",
    "            else:\n",
    "                answer[i] += 1\n",
    "    return answer"
   ]
  }
 ],
 "metadata": {
  "kernelspec": {
   "display_name": "Python 3 (ipykernel)",
   "language": "python",
   "name": "python3"
  },
  "language_info": {
   "codemirror_mode": {
    "name": "ipython",
    "version": 3
   },
   "file_extension": ".py",
   "mimetype": "text/x-python",
   "name": "python",
   "nbconvert_exporter": "python",
   "pygments_lexer": "ipython3",
   "version": "3.7.9"
  }
 },
 "nbformat": 4,
 "nbformat_minor": 5
}
