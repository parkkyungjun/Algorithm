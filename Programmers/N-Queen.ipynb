{
 "cells": [
  {
   "cell_type": "markdown",
   "id": "adaf9835",
   "metadata": {},
   "source": [
    "https://school.programmers.co.kr/learn/courses/30/lessons/12952"
   ]
  },
  {
   "cell_type": "code",
   "execution_count": 1,
   "id": "8e29cbe0",
   "metadata": {},
   "outputs": [
    {
     "data": {
      "text/plain": [
       "2"
      ]
     },
     "execution_count": 1,
     "metadata": {},
     "output_type": "execute_result"
    }
   ],
   "source": [
    "def dfs(depth, queen, n):\n",
    "    cnt = 0\n",
    "    if depth == n:\n",
    "        return 1\n",
    "    for i in range(n):\n",
    "        for j in queen:            \n",
    "            if j[1] == i:\n",
    "                break\n",
    "            if abs(depth - j[0]) == abs(i - j[1]):\n",
    "                break\n",
    "        else:\n",
    "            cnt += dfs(depth+1, queen + [[depth, i]], n)\n",
    "    return cnt \n",
    "def solution(n):\n",
    "    return dfs(0, [], n)\n",
    "solution(4)"
   ]
  }
 ],
 "metadata": {
  "kernelspec": {
   "display_name": "Python 3 (ipykernel)",
   "language": "python",
   "name": "python3"
  },
  "language_info": {
   "codemirror_mode": {
    "name": "ipython",
    "version": 3
   },
   "file_extension": ".py",
   "mimetype": "text/x-python",
   "name": "python",
   "nbconvert_exporter": "python",
   "pygments_lexer": "ipython3",
   "version": "3.7.9"
  }
 },
 "nbformat": 4,
 "nbformat_minor": 5
}
