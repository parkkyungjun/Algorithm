{
 "cells": [
  {
   "cell_type": "markdown",
   "id": "accessible-premises",
   "metadata": {},
   "source": [
    "https://programmers.co.kr/learn/courses/30/lessons/70130"
   ]
  },
  {
   "cell_type": "code",
   "execution_count": 74,
   "id": "gothic-rebel",
   "metadata": {},
   "outputs": [
    {
     "data": {
      "text/plain": [
       "[4, 6]"
      ]
     },
     "execution_count": 74,
     "metadata": {},
     "output_type": "execute_result"
    }
   ],
   "source": [
    "def solution(a):\n",
    "    for i in range(len(a)-2):\n",
    "        if a[i] == a[i+1] and a[i+1] == a[i+2]:\n",
    "            a[i] = 'a'\n",
    "    a, b, q = [i for i in a if i != 'a'], [], dict()\n",
    "    m,M = 0,a[0]\n",
    "    o = []\n",
    "    for i in a:\n",
    "        if i in q:\n",
    "            q[i] += 1\n",
    "        else:\n",
    "            q[i] = 1\n",
    "        if q[i] > m:\n",
    "            m = q[i]\n",
    "            M = i\n",
    "    t = [i for i,j in q.items() if j == m]\n",
    "    for j in t:\n",
    "        c,b = 0,[]\n",
    "        for i in a:\n",
    "            if b == []:\n",
    "                b.append(i)\n",
    "            elif j not in b and i == j:\n",
    "                b.append(i)\n",
    "                b = []\n",
    "                c += 2\n",
    "            elif j in b and i !=j:\n",
    "                b.append(i)\n",
    "                b = []\n",
    "                c += 2\n",
    "        o.append(c)\n",
    "    return max(o)\n",
    "solution([0, 0, 3, 1, 2, 1, 3, 4, 0, 1, 4])"
   ]
  }
 ],
 "metadata": {
  "kernelspec": {
   "display_name": "Python 3",
   "language": "python",
   "name": "python3"
  },
  "language_info": {
   "codemirror_mode": {
    "name": "ipython",
    "version": 3
   },
   "file_extension": ".py",
   "mimetype": "text/x-python",
   "name": "python",
   "nbconvert_exporter": "python",
   "pygments_lexer": "ipython3",
   "version": "3.7.9"
  }
 },
 "nbformat": 4,
 "nbformat_minor": 5
}
