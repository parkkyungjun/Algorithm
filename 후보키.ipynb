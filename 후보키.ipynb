{
 "cells": [
  {
   "cell_type": "markdown",
   "id": "closed-columbus",
   "metadata": {},
   "source": [
    "https://programmers.co.kr/learn/courses/30/lessons/42890"
   ]
  },
  {
   "cell_type": "code",
   "execution_count": 103,
   "id": "dedicated-correlation",
   "metadata": {},
   "outputs": [],
   "source": [
    "from itertools import combinations as com\n",
    "def solution(relation):\n",
    "    row = len(relation)\n",
    "    col = len(relation[0])\n",
    "    k = []\n",
    "    for i in range(1,col+1):\n",
    "        k.extend(com(range(col),i))\n",
    "    l = []\n",
    "    for i in k:\n",
    "        qwe = [tuple([item[x] for x in i]) for item in relation]\n",
    "        if len(set(qwe)) == row:\n",
    "            l.append(i)\n",
    "    answer = set(l)\n",
    "    for i in range(len(l)):\n",
    "        for j in range(i+1,len(l)):\n",
    "            if len(l[i]) == len(set(l[i]) & set(l[j])):\n",
    "                answer.discard(l[j])\n",
    "    return len(answer)"
   ]
  }
 ],
 "metadata": {
  "kernelspec": {
   "display_name": "Python 3",
   "language": "python",
   "name": "python3"
  },
  "language_info": {
   "codemirror_mode": {
    "name": "ipython",
    "version": 3
   },
   "file_extension": ".py",
   "mimetype": "text/x-python",
   "name": "python",
   "nbconvert_exporter": "python",
   "pygments_lexer": "ipython3",
   "version": "3.7.9"
  }
 },
 "nbformat": 4,
 "nbformat_minor": 5
}
