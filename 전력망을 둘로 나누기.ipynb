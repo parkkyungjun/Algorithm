{
 "cells": [
  {
   "cell_type": "markdown",
   "id": "f4ac43f3",
   "metadata": {},
   "source": [
    "https://school.programmers.co.kr/learn/courses/30/lessons/86971"
   ]
  },
  {
   "cell_type": "code",
   "execution_count": 1,
   "id": "b476aeaa",
   "metadata": {},
   "outputs": [],
   "source": [
    "from collections import defaultdict\n",
    "def solution(n, wires):\n",
    "    D = []\n",
    "    for w in range(n):\n",
    "        wire = wires[w+1:] + wires[:w]\n",
    "        dic = defaultdict(list)\n",
    "        start = wires[0][0]\n",
    "        cnt = {i+1:0 for i in range(n)}\n",
    "        for i in wire:\n",
    "            dic[i[0]].append(i[1])\n",
    "            dic[i[1]].append(i[0])\n",
    "        cnt[start] = 1\n",
    "        visited = []\n",
    "        q = [start]\n",
    "        while q:\n",
    "            now = q.pop()\n",
    "            visited.append(now)\n",
    "            for i in dic[now]:\n",
    "                if i not in visited:\n",
    "                    q.append(i)\n",
    "\n",
    "        D.append(abs(n - 2*len(visited)))\n",
    "    \n",
    "    return min(D)"
   ]
  }
 ],
 "metadata": {
  "kernelspec": {
   "display_name": "Python 3 (ipykernel)",
   "language": "python",
   "name": "python3"
  },
  "language_info": {
   "codemirror_mode": {
    "name": "ipython",
    "version": 3
   },
   "file_extension": ".py",
   "mimetype": "text/x-python",
   "name": "python",
   "nbconvert_exporter": "python",
   "pygments_lexer": "ipython3",
   "version": "3.9.7"
  }
 },
 "nbformat": 4,
 "nbformat_minor": 5
}
