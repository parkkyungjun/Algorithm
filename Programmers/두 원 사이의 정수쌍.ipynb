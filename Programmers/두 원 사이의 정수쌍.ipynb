{
 "cells": [
  {
   "cell_type": "markdown",
   "id": "0d310651",
   "metadata": {},
   "source": [
    "https://school.programmers.co.kr/learn/courses/30/lessons/181187"
   ]
  },
  {
   "cell_type": "code",
   "execution_count": 35,
   "id": "04ccba31",
   "metadata": {},
   "outputs": [
    {
     "name": "stdout",
     "output_type": "stream",
     "text": [
      "294 54\n"
     ]
    },
    {
     "data": {
      "text/plain": [
       "1008"
      ]
     },
     "execution_count": 35,
     "metadata": {},
     "output_type": "execute_result"
    }
   ],
   "source": [
    "import math\n",
    "\n",
    "def cnt(r):\n",
    "    return sum([int(math.sqrt(r ** 2 - x ** 2)) for x in range(1,r)])\n",
    "def cnt2(r):\n",
    "    y = 0\n",
    "    for i in range(1, r):\n",
    "        a = math.sqrt(r**2 - i**2)\n",
    "        if a == int(a):\n",
    "            y += a - 1\n",
    "        else:\n",
    "            y += int(a)\n",
    "    return y\n",
    "\n",
    "def solution(r1, r2):\n",
    "    n,m = (cnt2(r1)+r1-1)*4 + 1, (cnt(r2)+r2)*4 + 1\n",
    "    return m-n\n",
    "\n",
    "solution(9,20)"
   ]
  }
 ],
 "metadata": {
  "kernelspec": {
   "display_name": "Python 3 (ipykernel)",
   "language": "python",
   "name": "python3"
  },
  "language_info": {
   "codemirror_mode": {
    "name": "ipython",
    "version": 3
   },
   "file_extension": ".py",
   "mimetype": "text/x-python",
   "name": "python",
   "nbconvert_exporter": "python",
   "pygments_lexer": "ipython3",
   "version": "3.7.9"
  }
 },
 "nbformat": 4,
 "nbformat_minor": 5
}
