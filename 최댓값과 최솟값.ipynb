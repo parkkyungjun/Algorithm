{
 "cells": [
  {
   "cell_type": "markdown",
   "id": "wrapped-stage",
   "metadata": {},
   "source": [
    "https://programmers.co.kr/learn/courses/30/lessons/12939"
   ]
  },
  {
   "cell_type": "code",
   "execution_count": 24,
   "id": "documented-blowing",
   "metadata": {},
   "outputs": [
    {
     "data": {
      "text/plain": [
       "'-4 -1'"
      ]
     },
     "execution_count": 24,
     "metadata": {},
     "output_type": "execute_result"
    }
   ],
   "source": [
    "import re\n",
    "s = \"-1 -2 -3 -4\"\n",
    "''.join([str(min([int(i) for i in re.findall('[-]?\\d+',s)]))\n",
    ",\" \",str(max([int(i) for i in re.findall('[-]?\\d+',s)]))])\n"
   ]
  }
 ],
 "metadata": {
  "kernelspec": {
   "display_name": "Python 3",
   "language": "python",
   "name": "python3"
  },
  "language_info": {
   "codemirror_mode": {
    "name": "ipython",
    "version": 3
   },
   "file_extension": ".py",
   "mimetype": "text/x-python",
   "name": "python",
   "nbconvert_exporter": "python",
   "pygments_lexer": "ipython3",
   "version": "3.7.9"
  }
 },
 "nbformat": 4,
 "nbformat_minor": 5
}
