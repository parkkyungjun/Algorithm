{
 "cells": [
  {
   "cell_type": "markdown",
   "id": "9212f235",
   "metadata": {},
   "source": [
    "https://school.programmers.co.kr/learn/courses/30/lessons/12902?language=python3#"
   ]
  },
  {
   "cell_type": "code",
   "execution_count": null,
   "id": "32e792bc",
   "metadata": {},
   "outputs": [],
   "source": [
    "def solution(n):\n",
    "    if n%2 == 1: return 0\n",
    "    tile = [1, 3, 11]\n",
    "    for i in range(n//2 - 2):\n",
    "        cnt = 0\n",
    "        cnt += tile[-1]*3\n",
    "        cnt += sum([j*2 for j in tile[:-1]])\n",
    "        tile.append(cnt)\n",
    "    return tile[-1]%1000000007"
   ]
  }
 ],
 "metadata": {
  "kernelspec": {
   "display_name": "Python 3 (ipykernel)",
   "language": "python",
   "name": "python3"
  },
  "language_info": {
   "codemirror_mode": {
    "name": "ipython",
    "version": 3
   },
   "file_extension": ".py",
   "mimetype": "text/x-python",
   "name": "python",
   "nbconvert_exporter": "python",
   "pygments_lexer": "ipython3",
   "version": "3.9.7"
  }
 },
 "nbformat": 4,
 "nbformat_minor": 5
}
