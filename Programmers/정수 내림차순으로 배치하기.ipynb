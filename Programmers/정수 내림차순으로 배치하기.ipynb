{
 "cells": [
  {
   "cell_type": "markdown",
   "id": "outside-malta",
   "metadata": {},
   "source": [
    "* 문제 설명\n",
    "* 함수 solution은 정수 n을 매개변수로 입력받습니다. n의 각 자릿수를 큰것부터 작은 순으로 정렬한 새로운 정수를 리턴해주세요. 예를들어 n이 118372면 873211을 리턴하면 됩니다.\n",
    "\n",
    "* 제한 조건\n",
    "* n은 1이상 8000000000 이하인 자연수입니다."
   ]
  },
  {
   "cell_type": "code",
   "execution_count": 10,
   "id": "focal-edwards",
   "metadata": {},
   "outputs": [
    {
     "data": {
      "text/plain": [
       "'87652'"
      ]
     },
     "execution_count": 10,
     "metadata": {},
     "output_type": "execute_result"
    }
   ],
   "source": [
    "def solution(n):\n",
    "    return int(\"\".join(sorted(str(n), reverse=True)))"
   ]
  }
 ],
 "metadata": {
  "kernelspec": {
   "display_name": "Python 3",
   "language": "python",
   "name": "python3"
  },
  "language_info": {
   "codemirror_mode": {
    "name": "ipython",
    "version": 3
   },
   "file_extension": ".py",
   "mimetype": "text/x-python",
   "name": "python",
   "nbconvert_exporter": "python",
   "pygments_lexer": "ipython3",
   "version": "3.7.9"
  }
 },
 "nbformat": 4,
 "nbformat_minor": 5
}
