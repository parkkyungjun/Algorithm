{
 "cells": [
  {
   "cell_type": "markdown",
   "id": "brown-puzzle",
   "metadata": {},
   "source": [
    "https://programmers.co.kr/learn/courses/30/lessons/72411"
   ]
  },
  {
   "cell_type": "code",
   "execution_count": 52,
   "id": "appropriate-modern",
   "metadata": {},
   "outputs": [],
   "source": [
    "from itertools import combinations\n",
    "from collections import defaultdict\n",
    "def solution(orders, course):\n",
    "    com = defaultdict(int)\n",
    "    orders = [sorted(i) for i in orders]\n",
    "    answer = set()\n",
    "    for i in orders:\n",
    "        for j in range(2,len(i)+1):\n",
    "            for z in list(combinations(list(i),j)):\n",
    "                com[z] += 1\n",
    "    a = max([len(i) for i in orders])\n",
    "    for i in course:\n",
    "        if a >=i:\n",
    "            b = max([y for x,y in com.items() if len(x) == i])\n",
    "            if b > 1:\n",
    "                answer.update([''.join(x) for x,y in com.items() \\\n",
    "                               if y == b and len(x) == i ])\n",
    "    return sorted(list(answer))"
   ]
  }
 ],
 "metadata": {
  "kernelspec": {
   "display_name": "Python 3",
   "language": "python",
   "name": "python3"
  },
  "language_info": {
   "codemirror_mode": {
    "name": "ipython",
    "version": 3
   },
   "file_extension": ".py",
   "mimetype": "text/x-python",
   "name": "python",
   "nbconvert_exporter": "python",
   "pygments_lexer": "ipython3",
   "version": "3.7.9"
  }
 },
 "nbformat": 4,
 "nbformat_minor": 5
}
