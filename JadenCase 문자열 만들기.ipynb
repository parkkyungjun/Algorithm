{
 "cells": [
  {
   "cell_type": "markdown",
   "id": "whole-designer",
   "metadata": {},
   "source": [
    "https://programmers.co.kr/learn/courses/30/lessons/12951"
   ]
  },
  {
   "cell_type": "code",
   "execution_count": 27,
   "id": "aging-detective",
   "metadata": {},
   "outputs": [],
   "source": [
    "def solution(s):\n",
    "    a = s.split(' ')\n",
    "    for i in range(len(a)):\n",
    "        a[i] = a[i].lower()\n",
    "        if a[i] != '':\n",
    "            a[i] = a[i][0].upper() + a[i][1:]\n",
    "    return ' '.join(a)"
   ]
  }
 ],
 "metadata": {
  "kernelspec": {
   "display_name": "Python 3 (ipykernel)",
   "language": "python",
   "name": "python3"
  },
  "language_info": {
   "codemirror_mode": {
    "name": "ipython",
    "version": 3
   },
   "file_extension": ".py",
   "mimetype": "text/x-python",
   "name": "python",
   "nbconvert_exporter": "python",
   "pygments_lexer": "ipython3",
   "version": "3.7.9"
  }
 },
 "nbformat": 4,
 "nbformat_minor": 5
}
