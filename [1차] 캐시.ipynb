{
 "cells": [
  {
   "cell_type": "markdown",
   "id": "patent-intention",
   "metadata": {},
   "source": [
    "https://programmers.co.kr/learn/courses/30/lessons/17680"
   ]
  },
  {
   "cell_type": "code",
   "execution_count": 24,
   "id": "athletic-voice",
   "metadata": {},
   "outputs": [
    {
     "data": {
      "text/plain": [
       "21"
      ]
     },
     "execution_count": 24,
     "metadata": {},
     "output_type": "execute_result"
    }
   ],
   "source": [
    "from collections import deque\n",
    "def solution(cacheSize, cities):\n",
    "    result, answer = deque(maxlen=cacheSize), 0\n",
    "    if cacheSize == 0 or cacheSize >= len(cities):\n",
    "        return len(cities)*5\n",
    "    for i in range(len(cities)):\n",
    "        cities[i] = cities[i].lower()\n",
    "        if cities[i] not in result:\n",
    "            result.append(cities[i])\n",
    "            answer += 5\n",
    "        else:\n",
    "            result.remove(cities[i])\n",
    "            result.append(cities[i])\n",
    "            answer += 1\n",
    "    return answer\n",
    "solution(4,[\"Jeju\", \"Pangyo\", \"Seoul\", \"Jeju\", \"Pangyo\", \"Seoul\", \"Jeju\", \"Pangyo\", \"Seoul\"])"
   ]
  }
 ],
 "metadata": {
  "kernelspec": {
   "display_name": "Python 3",
   "language": "python",
   "name": "python3"
  },
  "language_info": {
   "codemirror_mode": {
    "name": "ipython",
    "version": 3
   },
   "file_extension": ".py",
   "mimetype": "text/x-python",
   "name": "python",
   "nbconvert_exporter": "python",
   "pygments_lexer": "ipython3",
   "version": "3.7.9"
  }
 },
 "nbformat": 4,
 "nbformat_minor": 5
}
