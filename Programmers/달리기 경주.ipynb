{
 "cells": [
  {
   "cell_type": "markdown",
   "id": "dd5aa71c",
   "metadata": {},
   "source": [
    "https://school.programmers.co.kr/learn/courses/30/lessons/178871"
   ]
  },
  {
   "cell_type": "code",
   "execution_count": 15,
   "id": "899ad387",
   "metadata": {},
   "outputs": [
    {
     "data": {
      "text/plain": [
       "['mumu', 'kai', 'mine', 'soe', 'poe']"
      ]
     },
     "execution_count": 15,
     "metadata": {},
     "output_type": "execute_result"
    }
   ],
   "source": [
    "def solution(players, callings):\n",
    "    p = {i:index for index, i in enumerate(players)}\n",
    "    for calling in callings:\n",
    "        idx = p[calling]\n",
    "        p[players[idx]] -= 1\n",
    "        p[players[idx-1]] += 1\n",
    "        players[idx], players[idx-1] = players[idx-1], players[idx]\n",
    "    return players\n",
    "\n",
    "solution([\"mumu\", \"soe\", \"poe\", \"kai\", \"mine\"], [\"kai\", \"kai\", \"mine\", \"mine\"])"
   ]
  }
 ],
 "metadata": {
  "kernelspec": {
   "display_name": "Python 3 (ipykernel)",
   "language": "python",
   "name": "python3"
  },
  "language_info": {
   "codemirror_mode": {
    "name": "ipython",
    "version": 3
   },
   "file_extension": ".py",
   "mimetype": "text/x-python",
   "name": "python",
   "nbconvert_exporter": "python",
   "pygments_lexer": "ipython3",
   "version": "3.7.9"
  }
 },
 "nbformat": 4,
 "nbformat_minor": 5
}
