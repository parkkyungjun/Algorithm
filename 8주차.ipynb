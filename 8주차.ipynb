{
 "cells": [
  {
   "cell_type": "markdown",
   "id": "second-period",
   "metadata": {},
   "source": [
    "https://programmers.co.kr/learn/courses/30/lessons/86491"
   ]
  },
  {
   "cell_type": "code",
   "execution_count": 59,
   "id": "undefined-worst",
   "metadata": {},
   "outputs": [],
   "source": [
    "def solution(sizes):\n",
    "    a,b,l = 0,0,[]\n",
    "    for i in sizes:\n",
    "        if i[0] > a or i[1] > b:\n",
    "            if i[1] > a or i[0] > b:\n",
    "                l = sorted([a,b,i[0],i[1]],reverse=True)\n",
    "  #              print(i)\n",
    "                if l[0] == i[0] and l[1] == i[1] :\n",
    "                    a,b = l[1],l[0]\n",
    "                elif l[1] == i[0] and l[0] == i[1]:\n",
    "                    a,b = l[1],l[0]\n",
    "        #                print(i)\n",
    "                else:\n",
    "                    a,b = l[0],l[2]\n",
    "       #             print(i)\n",
    "#        print(a,b,l,i)\n",
    "    return a*b"
   ]
  }
 ],
 "metadata": {
  "kernelspec": {
   "display_name": "Python 3",
   "language": "python",
   "name": "python3"
  },
  "language_info": {
   "codemirror_mode": {
    "name": "ipython",
    "version": 3
   },
   "file_extension": ".py",
   "mimetype": "text/x-python",
   "name": "python",
   "nbconvert_exporter": "python",
   "pygments_lexer": "ipython3",
   "version": "3.7.9"
  }
 },
 "nbformat": 4,
 "nbformat_minor": 5
}
