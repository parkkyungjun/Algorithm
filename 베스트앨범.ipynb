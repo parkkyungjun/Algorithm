{
 "cells": [
  {
   "cell_type": "markdown",
   "id": "aquatic-england",
   "metadata": {},
   "source": [
    "https://programmers.co.kr/learn/courses/30/lessons/42579"
   ]
  },
  {
   "cell_type": "code",
   "execution_count": 87,
   "id": "intelligent-heath",
   "metadata": {},
   "outputs": [
    {
     "name": "stdout",
     "output_type": "stream",
     "text": [
      "[[2500, 600], [800, 800]]\n"
     ]
    },
    {
     "data": {
      "text/plain": [
       "[4, 1, 2, 3]"
      ]
     },
     "execution_count": 87,
     "metadata": {},
     "output_type": "execute_result"
    }
   ],
   "source": [
    "def solution(genres, plays):\n",
    "    a, b, c = [], [], []\n",
    "    for x in genres:\n",
    "        a.append([i for i,j in enumerate(genres) if j == x])\n",
    "    a = list(set([tuple(i) for i in a]))\n",
    "    a = sorted([[sum([plays[j] for j in i])]+[plays[j] for j in i] for i in a],reverse=True)\n",
    "    a = [sorted(i,reverse=True)[1:3] for i in a]\n",
    "    for i in a:\n",
    "        for j in i:\n",
    "            if i.count(j) > 1:\n",
    "                b += [x for x,y in enumerate(plays) if y == j]\n",
    "            else:\n",
    "                b.append(plays.index(j))\n",
    "    for i in b:\n",
    "        if i not in c:\n",
    "            c.append(i)\n",
    "    return c\n",
    "\n",
    "solution([\"classic\", \"pop\", \"classic\", \"classic\", \"pop\"],[500, 600, 800, 800, 2500])\n"
   ]
  }
 ],
 "metadata": {
  "kernelspec": {
   "display_name": "Python 3",
   "language": "python",
   "name": "python3"
  },
  "language_info": {
   "codemirror_mode": {
    "name": "ipython",
    "version": 3
   },
   "file_extension": ".py",
   "mimetype": "text/x-python",
   "name": "python",
   "nbconvert_exporter": "python",
   "pygments_lexer": "ipython3",
   "version": "3.7.9"
  }
 },
 "nbformat": 4,
 "nbformat_minor": 5
}
