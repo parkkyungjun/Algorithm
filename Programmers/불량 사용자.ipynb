{
 "cells": [
  {
   "cell_type": "markdown",
   "id": "declared-embassy",
   "metadata": {},
   "source": [
    "https://programmers.co.kr/learn/courses/30/lessons/64064"
   ]
  },
  {
   "cell_type": "code",
   "execution_count": 16,
   "id": "prescribed-financing",
   "metadata": {},
   "outputs": [
    {
     "data": {
      "text/plain": [
       "4"
      ]
     },
     "execution_count": 16,
     "metadata": {},
     "output_type": "execute_result"
    }
   ],
   "source": [
    "def solution(user_id, banned_id):\n",
    "    answer = set()\n",
    "    for i in banned_id:\n",
    "        for j in user_id:\n",
    "            K = 0\n",
    "            for z in range(len(i)):\n",
    "                if len(i) == len(j):\n",
    "                    if i[z] == j[z]:\n",
    "                        K += 1\n",
    "                    elif i[z] == '*':\n",
    "                        K += 1\n",
    "            if len(i) == len(j) and K == len(i):\n",
    "                answer.add(j)\n",
    "    return len(answer)\n",
    "solution([\"frodo\", \"fradi\", \"crodo\", \"abc123\", \"frodoc\"],[\"*rodo\", \"*rodo\", \"******\"])"
   ]
  }
 ],
 "metadata": {
  "kernelspec": {
   "display_name": "Python 3",
   "language": "python",
   "name": "python3"
  },
  "language_info": {
   "codemirror_mode": {
    "name": "ipython",
    "version": 3
   },
   "file_extension": ".py",
   "mimetype": "text/x-python",
   "name": "python",
   "nbconvert_exporter": "python",
   "pygments_lexer": "ipython3",
   "version": "3.7.9"
  }
 },
 "nbformat": 4,
 "nbformat_minor": 5
}
