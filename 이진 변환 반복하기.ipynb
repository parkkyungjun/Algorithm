{
 "cells": [
  {
   "cell_type": "markdown",
   "id": "special-ethnic",
   "metadata": {},
   "source": [
    "https://programmers.co.kr/learn/courses/30/lessons/70129"
   ]
  },
  {
   "cell_type": "code",
   "execution_count": 8,
   "id": "differential-madness",
   "metadata": {},
   "outputs": [
    {
     "name": "stdout",
     "output_type": "stream",
     "text": [
      "110010101001\n",
      "110\n",
      "10\n"
     ]
    },
    {
     "data": {
      "text/plain": [
       "[3, 8]"
      ]
     },
     "execution_count": 8,
     "metadata": {},
     "output_type": "execute_result"
    }
   ],
   "source": [
    "def solution(s):\n",
    "    answer= [0,0] \n",
    "    def ch(s,answer):\n",
    "        print(s)\n",
    "        answer[1],answer[0] = s.count('0') + answer[1] , 1 + answer[0]\n",
    "        s = s.replace('0','')\n",
    "        s = str(bin(len(s)))[2:]\n",
    "        #print(s)\n",
    "        if s == '1':\n",
    "            return answer\n",
    "        else:\n",
    "            return ch(s,answer)\n",
    "    return ch(s,answer)\n",
    "solution(\"110010101001\")"
   ]
  }
 ],
 "metadata": {
  "kernelspec": {
   "display_name": "Python 3",
   "language": "python",
   "name": "python3"
  },
  "language_info": {
   "codemirror_mode": {
    "name": "ipython",
    "version": 3
   },
   "file_extension": ".py",
   "mimetype": "text/x-python",
   "name": "python",
   "nbconvert_exporter": "python",
   "pygments_lexer": "ipython3",
   "version": "3.7.9"
  }
 },
 "nbformat": 4,
 "nbformat_minor": 5
}
